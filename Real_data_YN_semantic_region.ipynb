{
 "cells": [
  {
   "cell_type": "markdown",
   "metadata": {},
   "source": [
    "# Semantic region using Y@N data\n",
    "\n",
    "We will use the user \"184a19da-2ba4-4be0-bf31-7c03216a06b4\" from our previous conclusions."
   ]
  },
  {
   "cell_type": "code",
   "execution_count": 13,
   "metadata": {},
   "outputs": [],
   "source": [
    "import pandas as pd\n",
    "import gmaps\n",
    "from wenet_models import LocationPoint, UserPlaceTimeOnly\n",
    "from wenet_algo import estimate_stay_points, estimate_stay_regions, labelize_stay_region\n",
    "from datetime import datetime"
   ]
  },
  {
   "cell_type": "code",
   "execution_count": 2,
   "metadata": {},
   "outputs": [],
   "source": [
    "user = '184a19da-2ba4-4be0-bf31-7c03216a06b4'\n",
    "df = pd.read_csv(f'/idiap/temp/wdroz/locations/{user}_location.csv')"
   ]
  },
  {
   "cell_type": "code",
   "execution_count": 3,
   "metadata": {},
   "outputs": [
    {
     "data": {
      "text/plain": [
       "8268"
      ]
     },
     "execution_count": 3,
     "metadata": {},
     "output_type": "execute_result"
    }
   ],
   "source": [
    "len(df)"
   ]
  },
  {
   "cell_type": "code",
   "execution_count": 4,
   "metadata": {},
   "outputs": [
    {
     "data": {
      "text/html": [
       "<div>\n",
       "<style scoped>\n",
       "    .dataframe tbody tr th:only-of-type {\n",
       "        vertical-align: middle;\n",
       "    }\n",
       "\n",
       "    .dataframe tbody tr th {\n",
       "        vertical-align: top;\n",
       "    }\n",
       "\n",
       "    .dataframe thead th {\n",
       "        text-align: right;\n",
       "    }\n",
       "</style>\n",
       "<table border=\"1\" class=\"dataframe\">\n",
       "  <thead>\n",
       "    <tr style=\"text-align: right;\">\n",
       "      <th></th>\n",
       "      <th>userid</th>\n",
       "      <th>night</th>\n",
       "      <th>type</th>\n",
       "      <th>timestamp</th>\n",
       "      <th>timezone</th>\n",
       "      <th>local_time</th>\n",
       "      <th>source</th>\n",
       "      <th>latitude</th>\n",
       "      <th>longitude</th>\n",
       "      <th>speed</th>\n",
       "      <th>accuracy</th>\n",
       "      <th>provider</th>\n",
       "      <th>bearing</th>\n",
       "    </tr>\n",
       "  </thead>\n",
       "  <tbody>\n",
       "    <tr>\n",
       "      <th>0</th>\n",
       "      <td>184a19da-2ba4-4be0-bf31-7c03216a06b4</td>\n",
       "      <td>20140919</td>\n",
       "      <td>Location</td>\n",
       "      <td>1411149633</td>\n",
       "      <td>7200</td>\n",
       "      <td>20140919200033</td>\n",
       "      <td>358661056383281</td>\n",
       "      <td>46.705295</td>\n",
       "      <td>6.557577</td>\n",
       "      <td>0.000000</td>\n",
       "      <td>3337.0</td>\n",
       "      <td>network</td>\n",
       "      <td>0.000000</td>\n",
       "    </tr>\n",
       "    <tr>\n",
       "      <th>1</th>\n",
       "      <td>184a19da-2ba4-4be0-bf31-7c03216a06b4</td>\n",
       "      <td>20140919</td>\n",
       "      <td>Location</td>\n",
       "      <td>1411149636</td>\n",
       "      <td>7200</td>\n",
       "      <td>20140919200036</td>\n",
       "      <td>358661056383281</td>\n",
       "      <td>46.696934</td>\n",
       "      <td>6.522324</td>\n",
       "      <td>4.000000</td>\n",
       "      <td>25.0</td>\n",
       "      <td>gps</td>\n",
       "      <td>40.000000</td>\n",
       "    </tr>\n",
       "    <tr>\n",
       "      <th>2</th>\n",
       "      <td>184a19da-2ba4-4be0-bf31-7c03216a06b4</td>\n",
       "      <td>20140919</td>\n",
       "      <td>Location</td>\n",
       "      <td>1411149647</td>\n",
       "      <td>7200</td>\n",
       "      <td>20140919200047</td>\n",
       "      <td>358661056383281</td>\n",
       "      <td>46.697126</td>\n",
       "      <td>6.522521</td>\n",
       "      <td>1.750000</td>\n",
       "      <td>34.0</td>\n",
       "      <td>gps</td>\n",
       "      <td>62.200001</td>\n",
       "    </tr>\n",
       "    <tr>\n",
       "      <th>3</th>\n",
       "      <td>184a19da-2ba4-4be0-bf31-7c03216a06b4</td>\n",
       "      <td>20140919</td>\n",
       "      <td>Location</td>\n",
       "      <td>1411149652</td>\n",
       "      <td>7200</td>\n",
       "      <td>20140919200052</td>\n",
       "      <td>358661056383281</td>\n",
       "      <td>46.696962</td>\n",
       "      <td>6.522723</td>\n",
       "      <td>3.000000</td>\n",
       "      <td>40.0</td>\n",
       "      <td>gps</td>\n",
       "      <td>75.699997</td>\n",
       "    </tr>\n",
       "    <tr>\n",
       "      <th>4</th>\n",
       "      <td>184a19da-2ba4-4be0-bf31-7c03216a06b4</td>\n",
       "      <td>20140919</td>\n",
       "      <td>Location</td>\n",
       "      <td>1411149657</td>\n",
       "      <td>7200</td>\n",
       "      <td>20140919200057</td>\n",
       "      <td>358661056383281</td>\n",
       "      <td>46.697171</td>\n",
       "      <td>6.523019</td>\n",
       "      <td>3.288237</td>\n",
       "      <td>21.0</td>\n",
       "      <td>gps</td>\n",
       "      <td>28.700001</td>\n",
       "    </tr>\n",
       "  </tbody>\n",
       "</table>\n",
       "</div>"
      ],
      "text/plain": [
       "                                 userid     night      type   timestamp  \\\n",
       "0  184a19da-2ba4-4be0-bf31-7c03216a06b4  20140919  Location  1411149633   \n",
       "1  184a19da-2ba4-4be0-bf31-7c03216a06b4  20140919  Location  1411149636   \n",
       "2  184a19da-2ba4-4be0-bf31-7c03216a06b4  20140919  Location  1411149647   \n",
       "3  184a19da-2ba4-4be0-bf31-7c03216a06b4  20140919  Location  1411149652   \n",
       "4  184a19da-2ba4-4be0-bf31-7c03216a06b4  20140919  Location  1411149657   \n",
       "\n",
       "   timezone      local_time           source   latitude  longitude     speed  \\\n",
       "0      7200  20140919200033  358661056383281  46.705295   6.557577  0.000000   \n",
       "1      7200  20140919200036  358661056383281  46.696934   6.522324  4.000000   \n",
       "2      7200  20140919200047  358661056383281  46.697126   6.522521  1.750000   \n",
       "3      7200  20140919200052  358661056383281  46.696962   6.522723  3.000000   \n",
       "4      7200  20140919200057  358661056383281  46.697171   6.523019  3.288237   \n",
       "\n",
       "   accuracy provider    bearing  \n",
       "0    3337.0  network   0.000000  \n",
       "1      25.0      gps  40.000000  \n",
       "2      34.0      gps  62.200001  \n",
       "3      40.0      gps  75.699997  \n",
       "4      21.0      gps  28.700001  "
      ]
     },
     "execution_count": 4,
     "metadata": {},
     "output_type": "execute_result"
    }
   ],
   "source": [
    "df.head()"
   ]
  },
  {
   "cell_type": "code",
   "execution_count": 5,
   "metadata": {},
   "outputs": [],
   "source": [
    "locations = []\n",
    "for index, row in df.iterrows():\n",
    "    pts_t = datetime.fromtimestamp(row['timestamp'])\n",
    "    location = LocationPoint(pts_t, row['latitude'], row['longitude'])\n",
    "    locations.append(location)"
   ]
  },
  {
   "cell_type": "code",
   "execution_count": 6,
   "metadata": {},
   "outputs": [
    {
     "data": {
      "text/plain": [
       "177"
      ]
     },
     "execution_count": 6,
     "metadata": {},
     "output_type": "execute_result"
    }
   ],
   "source": [
    "stay_points = estimate_stay_points(locations, time_min_ms=5*60*100)\n",
    "len(stay_points)"
   ]
  },
  {
   "cell_type": "code",
   "execution_count": 7,
   "metadata": {},
   "outputs": [
    {
     "data": {
      "text/plain": [
       "5"
      ]
     },
     "execution_count": 7,
     "metadata": {},
     "output_type": "execute_result"
    }
   ],
   "source": [
    "stay_regions = estimate_stay_regions(stay_points)\n",
    "len(stay_regions)"
   ]
  },
  {
   "cell_type": "code",
   "execution_count": 8,
   "metadata": {},
   "outputs": [
    {
     "name": "stderr",
     "output_type": "stream",
     "text": [
      "b'Skipping line 3: expected 19 fields, saw 20\\nSkipping line 73: expected 19 fields, saw 20\\nSkipping line 171: expected 19 fields, saw 20\\nSkipping line 206: expected 19 fields, saw 20\\nSkipping line 369: expected 19 fields, saw 20\\nSkipping line 431: expected 19 fields, saw 20\\nSkipping line 548: expected 19 fields, saw 20\\nSkipping line 638: expected 19 fields, saw 20\\nSkipping line 653: expected 19 fields, saw 20\\nSkipping line 709: expected 19 fields, saw 20\\nSkipping line 842: expected 19 fields, saw 20\\nSkipping line 891: expected 19 fields, saw 20\\nSkipping line 1034: expected 19 fields, saw 20\\nSkipping line 1114: expected 19 fields, saw 20\\nSkipping line 1172: expected 19 fields, saw 20\\nSkipping line 1181: expected 19 fields, saw 20\\nSkipping line 1368: expected 19 fields, saw 20\\nSkipping line 1399: expected 19 fields, saw 20\\nSkipping line 1400: expected 19 fields, saw 20\\n'\n"
     ]
    }
   ],
   "source": [
    "df_ambiance = pd.read_csv('/idiap/temp/wdroz/wenet/surveys/surveys-2015-01-15/ambiance_survey.csv', sep=',', error_bad_lines=False, encoding=\"ISO-8859-1\")\n",
    "df_ambiance = df_ambiance[df_ambiance['user'] == user]"
   ]
  },
  {
   "cell_type": "code",
   "execution_count": 9,
   "metadata": {},
   "outputs": [
    {
     "data": {
      "text/plain": [
       "user                         21\n",
       "source                       21\n",
       "timezone_id                  21\n",
       "timestamp                    21\n",
       "timezone_display_name        21\n",
       "timezone_raw_offset          21\n",
       "env_artsy_percent            21\n",
       "env_dingy_percent            21\n",
       "env_formal_percent           21\n",
       "env_loud_percent             21\n",
       "env_oldfashioned_percent     21\n",
       "env_romantic_percent         21\n",
       "env_sophisticated_percent    21\n",
       "env_trendy_percent           21\n",
       "env_upscale_percent          21\n",
       "place_city                   21\n",
       "place_id_name                21\n",
       "place_type                   21\n",
       "imageFileName                21\n",
       "dtype: int64"
      ]
     },
     "execution_count": 9,
     "metadata": {},
     "output_type": "execute_result"
    }
   ],
   "source": [
    "df_ambiance.count()"
   ]
  },
  {
   "cell_type": "code",
   "execution_count": 10,
   "metadata": {},
   "outputs": [
    {
     "data": {
      "text/html": [
       "<div>\n",
       "<style scoped>\n",
       "    .dataframe tbody tr th:only-of-type {\n",
       "        vertical-align: middle;\n",
       "    }\n",
       "\n",
       "    .dataframe tbody tr th {\n",
       "        vertical-align: top;\n",
       "    }\n",
       "\n",
       "    .dataframe thead th {\n",
       "        text-align: right;\n",
       "    }\n",
       "</style>\n",
       "<table border=\"1\" class=\"dataframe\">\n",
       "  <thead>\n",
       "    <tr style=\"text-align: right;\">\n",
       "      <th></th>\n",
       "      <th>user</th>\n",
       "      <th>source</th>\n",
       "      <th>timezone_id</th>\n",
       "      <th>timestamp</th>\n",
       "      <th>timezone_display_name</th>\n",
       "      <th>timezone_raw_offset</th>\n",
       "      <th>env_artsy_percent</th>\n",
       "      <th>env_dingy_percent</th>\n",
       "      <th>env_formal_percent</th>\n",
       "      <th>env_loud_percent</th>\n",
       "      <th>env_oldfashioned_percent</th>\n",
       "      <th>env_romantic_percent</th>\n",
       "      <th>env_sophisticated_percent</th>\n",
       "      <th>env_trendy_percent</th>\n",
       "      <th>env_upscale_percent</th>\n",
       "      <th>place_city</th>\n",
       "      <th>place_id_name</th>\n",
       "      <th>place_type</th>\n",
       "      <th>imageFileName</th>\n",
       "    </tr>\n",
       "  </thead>\n",
       "  <tbody>\n",
       "    <tr>\n",
       "      <th>97</th>\n",
       "      <td>184a19da-2ba4-4be0-bf31-7c03216a06b4</td>\n",
       "      <td>358661056383281</td>\n",
       "      <td>Europe/Zurich</td>\n",
       "      <td>2014-10-10 20:22:04</td>\n",
       "      <td>CET</td>\n",
       "      <td>7200000.0</td>\n",
       "      <td>2.0</td>\n",
       "      <td>2.0</td>\n",
       "      <td>2.0</td>\n",
       "      <td>2.0</td>\n",
       "      <td>2.0</td>\n",
       "      <td>2.0</td>\n",
       "      <td>2.0</td>\n",
       "      <td>2.0</td>\n",
       "      <td>2.0</td>\n",
       "      <td>other</td>\n",
       "      <td>other</td>\n",
       "      <td>plaza</td>\n",
       "      <td>IMG_20141010_202114_-1421440839.jpg</td>\n",
       "    </tr>\n",
       "    <tr>\n",
       "      <th>99</th>\n",
       "      <td>184a19da-2ba4-4be0-bf31-7c03216a06b4</td>\n",
       "      <td>358661056383281</td>\n",
       "      <td>Europe/Zurich</td>\n",
       "      <td>2014-10-10 23:33:47</td>\n",
       "      <td>CET</td>\n",
       "      <td>7200000.0</td>\n",
       "      <td>3.0</td>\n",
       "      <td>-1.0</td>\n",
       "      <td>0.0</td>\n",
       "      <td>3.0</td>\n",
       "      <td>1.0</td>\n",
       "      <td>0.0</td>\n",
       "      <td>1.0</td>\n",
       "      <td>2.0</td>\n",
       "      <td>0.0</td>\n",
       "      <td>other</td>\n",
       "      <td>other</td>\n",
       "      <td>bar</td>\n",
       "      <td>IMG_20141010_233139_-1421440839.jpg</td>\n",
       "    </tr>\n",
       "    <tr>\n",
       "      <th>100</th>\n",
       "      <td>184a19da-2ba4-4be0-bf31-7c03216a06b4</td>\n",
       "      <td>358661056383281</td>\n",
       "      <td>Europe/Zurich</td>\n",
       "      <td>2014-10-11 00:45:43</td>\n",
       "      <td>CET</td>\n",
       "      <td>7200000.0</td>\n",
       "      <td>0.0</td>\n",
       "      <td>-1.0</td>\n",
       "      <td>0.0</td>\n",
       "      <td>0.0</td>\n",
       "      <td>0.0</td>\n",
       "      <td>0.0</td>\n",
       "      <td>0.0</td>\n",
       "      <td>0.0</td>\n",
       "      <td>0.0</td>\n",
       "      <td>other</td>\n",
       "      <td>public_transport</td>\n",
       "      <td>onboard</td>\n",
       "      <td>IMG_20141011_004443_-1421440839.jpg</td>\n",
       "    </tr>\n",
       "    <tr>\n",
       "      <th>101</th>\n",
       "      <td>184a19da-2ba4-4be0-bf31-7c03216a06b4</td>\n",
       "      <td>358661056383281</td>\n",
       "      <td>Europe/Zurich</td>\n",
       "      <td>2014-10-11 20:11:12</td>\n",
       "      <td>CET</td>\n",
       "      <td>7200000.0</td>\n",
       "      <td>2.0</td>\n",
       "      <td>2.0</td>\n",
       "      <td>2.0</td>\n",
       "      <td>2.0</td>\n",
       "      <td>2.0</td>\n",
       "      <td>2.0</td>\n",
       "      <td>2.0</td>\n",
       "      <td>2.0</td>\n",
       "      <td>2.0</td>\n",
       "      <td>lausanne</td>\n",
       "      <td>4c3e13fdb8b4be9a51a3cbef_Bella Vita</td>\n",
       "      <td>restaurant</td>\n",
       "      <td>IMG_20141011_200916_-872439340.jpg</td>\n",
       "    </tr>\n",
       "    <tr>\n",
       "      <th>103</th>\n",
       "      <td>184a19da-2ba4-4be0-bf31-7c03216a06b4</td>\n",
       "      <td>358661056383281</td>\n",
       "      <td>Europe/Zurich</td>\n",
       "      <td>2014-10-11 23:09:34</td>\n",
       "      <td>CET</td>\n",
       "      <td>7200000.0</td>\n",
       "      <td>1.0</td>\n",
       "      <td>0.0</td>\n",
       "      <td>2.0</td>\n",
       "      <td>1.0</td>\n",
       "      <td>1.0</td>\n",
       "      <td>2.0</td>\n",
       "      <td>3.0</td>\n",
       "      <td>-1.0</td>\n",
       "      <td>2.0</td>\n",
       "      <td>lausanne</td>\n",
       "      <td>5087e529e0e2e00927241ecd_Vapiano</td>\n",
       "      <td>restaurant</td>\n",
       "      <td>IMG_20141011_230827_-872439340.jpg</td>\n",
       "    </tr>\n",
       "  </tbody>\n",
       "</table>\n",
       "</div>"
      ],
      "text/plain": [
       "                                     user           source    timezone_id  \\\n",
       "97   184a19da-2ba4-4be0-bf31-7c03216a06b4  358661056383281  Europe/Zurich   \n",
       "99   184a19da-2ba4-4be0-bf31-7c03216a06b4  358661056383281  Europe/Zurich   \n",
       "100  184a19da-2ba4-4be0-bf31-7c03216a06b4  358661056383281  Europe/Zurich   \n",
       "101  184a19da-2ba4-4be0-bf31-7c03216a06b4  358661056383281  Europe/Zurich   \n",
       "103  184a19da-2ba4-4be0-bf31-7c03216a06b4  358661056383281  Europe/Zurich   \n",
       "\n",
       "               timestamp timezone_display_name  timezone_raw_offset  \\\n",
       "97   2014-10-10 20:22:04                   CET            7200000.0   \n",
       "99   2014-10-10 23:33:47                   CET            7200000.0   \n",
       "100  2014-10-11 00:45:43                   CET            7200000.0   \n",
       "101  2014-10-11 20:11:12                   CET            7200000.0   \n",
       "103  2014-10-11 23:09:34                   CET            7200000.0   \n",
       "\n",
       "     env_artsy_percent  env_dingy_percent  env_formal_percent  \\\n",
       "97                 2.0                2.0                 2.0   \n",
       "99                 3.0               -1.0                 0.0   \n",
       "100                0.0               -1.0                 0.0   \n",
       "101                2.0                2.0                 2.0   \n",
       "103                1.0                0.0                 2.0   \n",
       "\n",
       "     env_loud_percent  env_oldfashioned_percent  env_romantic_percent  \\\n",
       "97                2.0                       2.0                   2.0   \n",
       "99                3.0                       1.0                   0.0   \n",
       "100               0.0                       0.0                   0.0   \n",
       "101               2.0                       2.0                   2.0   \n",
       "103               1.0                       1.0                   2.0   \n",
       "\n",
       "     env_sophisticated_percent  env_trendy_percent  env_upscale_percent  \\\n",
       "97                         2.0                 2.0                  2.0   \n",
       "99                         1.0                 2.0                  0.0   \n",
       "100                        0.0                 0.0                  0.0   \n",
       "101                        2.0                 2.0                  2.0   \n",
       "103                        3.0                -1.0                  2.0   \n",
       "\n",
       "    place_city                        place_id_name  place_type  \\\n",
       "97       other                                other       plaza   \n",
       "99       other                                other         bar   \n",
       "100      other                     public_transport     onboard   \n",
       "101   lausanne  4c3e13fdb8b4be9a51a3cbef_Bella Vita  restaurant   \n",
       "103   lausanne     5087e529e0e2e00927241ecd_Vapiano  restaurant   \n",
       "\n",
       "                           imageFileName  \n",
       "97   IMG_20141010_202114_-1421440839.jpg  \n",
       "99   IMG_20141010_233139_-1421440839.jpg  \n",
       "100  IMG_20141011_004443_-1421440839.jpg  \n",
       "101   IMG_20141011_200916_-872439340.jpg  \n",
       "103   IMG_20141011_230827_-872439340.jpg  "
      ]
     },
     "execution_count": 10,
     "metadata": {},
     "output_type": "execute_result"
    }
   ],
   "source": [
    "df_ambiance.head()"
   ]
  },
  {
   "cell_type": "code",
   "execution_count": 11,
   "metadata": {},
   "outputs": [],
   "source": [
    "user_places = []\n",
    "for index, row in df_ambiance.iterrows():\n",
    "    pts_t = datetime.strptime(row['timestamp'], \"%Y-%m-%d %H:%M:%S\")\n",
    "    if row['place_type'] == 'personal':\n",
    "        place = row['place_id_name']\n",
    "    else:\n",
    "        place = row['place_type']\n",
    "    user_place_time_only = UserPlaceTimeOnly(pts_t, place, user)\n",
    "    user_place = user_place_time_only.to_user_place(locations)\n",
    "    if user_place is not None:\n",
    "        user_places.append(user_place)"
   ]
  },
  {
   "cell_type": "code",
   "execution_count": 14,
   "metadata": {},
   "outputs": [
    {
     "data": {
      "text/plain": [
       "set()"
      ]
     },
     "execution_count": 14,
     "metadata": {},
     "output_type": "execute_result"
    }
   ],
   "source": [
    "labelize_stay_region(stay_regions, user_places)"
   ]
  },
  {
   "cell_type": "code",
   "execution_count": 16,
   "metadata": {},
   "outputs": [
    {
     "data": {
      "text/plain": [
       "'46.95659, 7.44765 [2014-10-10 20:22:04]'"
      ]
     },
     "execution_count": 16,
     "metadata": {},
     "output_type": "execute_result"
    }
   ],
   "source": [
    "str(user_places[0])"
   ]
  },
  {
   "cell_type": "code",
   "execution_count": 19,
   "metadata": {},
   "outputs": [
    {
     "name": "stdout",
     "output_type": "stream",
     "text": [
      "46.52079, 6.63013[2014-09-20 21:28:45 to 2014-09-20 22:56:29]\n",
      "46.69230, 6.52166[2014-10-04 21:03:18 to 2014-10-05 00:14:32]\n",
      "46.46378, 6.84155[2014-09-26 21:08:16 to 2014-10-31 22:49:32]\n",
      "46.52094, 6.63933[2014-10-18 21:02:37 to 2014-10-26 01:16:46]\n",
      "46.51783, 6.63056[2014-09-20 23:35:32 to 2014-10-31 23:28:30]\n"
     ]
    }
   ],
   "source": [
    "for stay_region in stay_regions:\n",
    "    print(stay_region)"
   ]
  },
  {
   "cell_type": "code",
   "execution_count": 22,
   "metadata": {},
   "outputs": [
    {
     "data": {
      "text/plain": [
       "[[46.52078853625, 6.63013085375],\n",
       " [46.692297736562494, 6.521657957656251],\n",
       " [46.46378174123377, 6.841545913181819],\n",
       " [46.520936324078946, 6.639334181842106],\n",
       " [46.51783276882353, 6.630556856764706]]"
      ]
     },
     "execution_count": 22,
     "metadata": {},
     "output_type": "execute_result"
    }
   ],
   "source": [
    "all_stay_regions_center = [[s._lat, s._lng] for s in stay_regions]\n",
    "all_stay_regions_center"
   ]
  },
  {
   "cell_type": "code",
   "execution_count": 23,
   "metadata": {},
   "outputs": [],
   "source": [
    "all_stay_regions_rect = [gmaps.Polygon([(s._topleft_lat, s._topleft_lng), (s._topleft_lat, s._bottomright_lng), (s._bottomright_lat, s._bottomright_lng), (s._bottomright_lat, s._topleft_lng)], fill_color='#FF8C00', stroke_color='#FF4500', stroke_weight=6) for s in stay_regions]"
   ]
  },
  {
   "cell_type": "code",
   "execution_count": 24,
   "metadata": {},
   "outputs": [],
   "source": [
    "with open('google_api_key.txt', 'r') as f:\n",
    "    key = f.read()\n",
    "gmaps.configure(api_key=key)"
   ]
  },
  {
   "cell_type": "code",
   "execution_count": 26,
   "metadata": {},
   "outputs": [
    {
     "data": {
      "application/vnd.jupyter.widget-view+json": {
       "model_id": "ba9710ef85984e8d926b82fef5a19771",
       "version_major": 2,
       "version_minor": 0
      },
      "text/plain": [
       "Figure(layout=FigureLayout(height='420px'))"
      ]
     },
     "metadata": {},
     "output_type": "display_data"
    }
   ],
   "source": [
    "raw_locations_df = df[['latitude', 'longitude']]\n",
    "all_stay_regions_center_layer = gmaps.marker_layer(all_stay_regions_center)\n",
    "all_stay_regions_rect_layer = gmaps.drawing_layer(features=all_stay_regions_rect)\n",
    "stay_points_layer = gmaps.symbol_layer([[p._lat, p._lng] for p in stay_points], fill_color='#00FFFF', stroke_color='#00FFFF', scale=2)\n",
    "place_points_layer = gmaps.symbol_layer([[p._lat, p._lng] for p in user_places], fill_color='#0000FF', stroke_color='#0000FF', scale=2)\n",
    "\n",
    "locations_layer = gmaps.heatmap_layer(raw_locations_df)\n",
    "fig = gmaps.figure()\n",
    "fig.add_layer(stay_points_layer)\n",
    "fig.add_layer(all_stay_regions_center_layer)\n",
    "fig.add_layer(place_points_layer)\n",
    "fig.add_layer(all_stay_regions_rect_layer)\n",
    "fig.add_layer(locations_layer)\n",
    "\n",
    "locations_layer.max_intensity = 100\n",
    "locations_layer.point_radius = 10\n",
    "fig.map_type = 'SATELLITE'\n",
    "fig"
   ]
  },
  {
   "cell_type": "code",
   "execution_count": null,
   "metadata": {},
   "outputs": [],
   "source": []
  }
 ],
 "metadata": {
  "kernelspec": {
   "display_name": "Python 3",
   "language": "python",
   "name": "python3"
  },
  "language_info": {
   "codemirror_mode": {
    "name": "ipython",
    "version": 3
   },
   "file_extension": ".py",
   "mimetype": "text/x-python",
   "name": "python",
   "nbconvert_exporter": "python",
   "pygments_lexer": "ipython3",
   "version": "3.7.2"
  }
 },
 "nbformat": 4,
 "nbformat_minor": 2
}
