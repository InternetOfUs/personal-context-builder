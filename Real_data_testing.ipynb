{
 "cells": [
  {
   "cell_type": "markdown",
   "metadata": {},
   "source": [
    "# Notebook for testing with real data\n",
    "\n",
    "## We will use Y@N dataset"
   ]
  },
  {
   "cell_type": "code",
   "execution_count": 1,
   "metadata": {},
   "outputs": [],
   "source": [
    "import pandas as pd\n",
    "import gmaps\n",
    "from wenet_models import LocationPoint\n",
    "from wenet_algo import estimate_stay_points, estimate_stay_regions\n",
    "from datetime import datetime"
   ]
  },
  {
   "cell_type": "code",
   "execution_count": 2,
   "metadata": {},
   "outputs": [],
   "source": [
    "df = pd.read_csv('/idiap/temp/wdroz/locations/eb538e9c-7297-4460-881f-0c1f46f414cb_location.csv')"
   ]
  },
  {
   "cell_type": "code",
   "execution_count": 3,
   "metadata": {},
   "outputs": [
    {
     "data": {
      "text/html": [
       "<div>\n",
       "<style scoped>\n",
       "    .dataframe tbody tr th:only-of-type {\n",
       "        vertical-align: middle;\n",
       "    }\n",
       "\n",
       "    .dataframe tbody tr th {\n",
       "        vertical-align: top;\n",
       "    }\n",
       "\n",
       "    .dataframe thead th {\n",
       "        text-align: right;\n",
       "    }\n",
       "</style>\n",
       "<table border=\"1\" class=\"dataframe\">\n",
       "  <thead>\n",
       "    <tr style=\"text-align: right;\">\n",
       "      <th></th>\n",
       "      <th>userid</th>\n",
       "      <th>night</th>\n",
       "      <th>type</th>\n",
       "      <th>timestamp</th>\n",
       "      <th>timezone</th>\n",
       "      <th>local_time</th>\n",
       "      <th>source</th>\n",
       "      <th>latitude</th>\n",
       "      <th>longitude</th>\n",
       "      <th>speed</th>\n",
       "      <th>accuracy</th>\n",
       "      <th>provider</th>\n",
       "      <th>bearing</th>\n",
       "    </tr>\n",
       "  </thead>\n",
       "  <tbody>\n",
       "    <tr>\n",
       "      <th>0</th>\n",
       "      <td>eb538e9c-7297-4460-881f-0c1f46f414cb</td>\n",
       "      <td>20140926</td>\n",
       "      <td>Location</td>\n",
       "      <td>1411758055</td>\n",
       "      <td>7200</td>\n",
       "      <td>20140926210055</td>\n",
       "      <td>355026050270939</td>\n",
       "      <td>46.514609</td>\n",
       "      <td>6.690031</td>\n",
       "      <td>1.118034</td>\n",
       "      <td>15</td>\n",
       "      <td>gps</td>\n",
       "      <td>24.600000</td>\n",
       "    </tr>\n",
       "    <tr>\n",
       "      <th>1</th>\n",
       "      <td>eb538e9c-7297-4460-881f-0c1f46f414cb</td>\n",
       "      <td>20140926</td>\n",
       "      <td>Location</td>\n",
       "      <td>1411758060</td>\n",
       "      <td>7200</td>\n",
       "      <td>20140926210100</td>\n",
       "      <td>355026050270939</td>\n",
       "      <td>46.514790</td>\n",
       "      <td>6.689949</td>\n",
       "      <td>1.250000</td>\n",
       "      <td>22</td>\n",
       "      <td>gps</td>\n",
       "      <td>233.300003</td>\n",
       "    </tr>\n",
       "    <tr>\n",
       "      <th>2</th>\n",
       "      <td>eb538e9c-7297-4460-881f-0c1f46f414cb</td>\n",
       "      <td>20140926</td>\n",
       "      <td>Location</td>\n",
       "      <td>1411758222</td>\n",
       "      <td>7200</td>\n",
       "      <td>20140926210342</td>\n",
       "      <td>355026050270939</td>\n",
       "      <td>46.515076</td>\n",
       "      <td>6.690051</td>\n",
       "      <td>0.250000</td>\n",
       "      <td>42</td>\n",
       "      <td>gps</td>\n",
       "      <td>337.399994</td>\n",
       "    </tr>\n",
       "    <tr>\n",
       "      <th>3</th>\n",
       "      <td>eb538e9c-7297-4460-881f-0c1f46f414cb</td>\n",
       "      <td>20140926</td>\n",
       "      <td>Location</td>\n",
       "      <td>1411758243</td>\n",
       "      <td>7200</td>\n",
       "      <td>20140926210403</td>\n",
       "      <td>355026050270939</td>\n",
       "      <td>46.514730</td>\n",
       "      <td>6.690049</td>\n",
       "      <td>0.000000</td>\n",
       "      <td>25</td>\n",
       "      <td>gps</td>\n",
       "      <td>0.000000</td>\n",
       "    </tr>\n",
       "    <tr>\n",
       "      <th>4</th>\n",
       "      <td>eb538e9c-7297-4460-881f-0c1f46f414cb</td>\n",
       "      <td>20140926</td>\n",
       "      <td>Location</td>\n",
       "      <td>1411758248</td>\n",
       "      <td>7200</td>\n",
       "      <td>20140926210408</td>\n",
       "      <td>355026050270939</td>\n",
       "      <td>46.514779</td>\n",
       "      <td>6.690355</td>\n",
       "      <td>1.750000</td>\n",
       "      <td>30</td>\n",
       "      <td>gps</td>\n",
       "      <td>213.600006</td>\n",
       "    </tr>\n",
       "  </tbody>\n",
       "</table>\n",
       "</div>"
      ],
      "text/plain": [
       "                                 userid     night      type   timestamp  \\\n",
       "0  eb538e9c-7297-4460-881f-0c1f46f414cb  20140926  Location  1411758055   \n",
       "1  eb538e9c-7297-4460-881f-0c1f46f414cb  20140926  Location  1411758060   \n",
       "2  eb538e9c-7297-4460-881f-0c1f46f414cb  20140926  Location  1411758222   \n",
       "3  eb538e9c-7297-4460-881f-0c1f46f414cb  20140926  Location  1411758243   \n",
       "4  eb538e9c-7297-4460-881f-0c1f46f414cb  20140926  Location  1411758248   \n",
       "\n",
       "   timezone      local_time           source   latitude  longitude     speed  \\\n",
       "0      7200  20140926210055  355026050270939  46.514609   6.690031  1.118034   \n",
       "1      7200  20140926210100  355026050270939  46.514790   6.689949  1.250000   \n",
       "2      7200  20140926210342  355026050270939  46.515076   6.690051  0.250000   \n",
       "3      7200  20140926210403  355026050270939  46.514730   6.690049  0.000000   \n",
       "4      7200  20140926210408  355026050270939  46.514779   6.690355  1.750000   \n",
       "\n",
       "   accuracy provider     bearing  \n",
       "0        15      gps   24.600000  \n",
       "1        22      gps  233.300003  \n",
       "2        42      gps  337.399994  \n",
       "3        25      gps    0.000000  \n",
       "4        30      gps  213.600006  "
      ]
     },
     "execution_count": 3,
     "metadata": {},
     "output_type": "execute_result"
    }
   ],
   "source": [
    "df.head()"
   ]
  },
  {
   "cell_type": "code",
   "execution_count": 4,
   "metadata": {},
   "outputs": [],
   "source": [
    "locations = []\n",
    "for index, row in df.iterrows():\n",
    "    pts_t = datetime.fromtimestamp(row['timestamp'])\n",
    "    location = LocationPoint(pts_t, row['latitude'], row['longitude'])\n",
    "    locations.append(location)"
   ]
  },
  {
   "cell_type": "code",
   "execution_count": 5,
   "metadata": {},
   "outputs": [
    {
     "data": {
      "text/plain": [
       "6178"
      ]
     },
     "execution_count": 5,
     "metadata": {},
     "output_type": "execute_result"
    }
   ],
   "source": [
    "len(locations)"
   ]
  },
  {
   "cell_type": "code",
   "execution_count": 36,
   "metadata": {},
   "outputs": [
    {
     "data": {
      "text/plain": [
       "143"
      ]
     },
     "execution_count": 36,
     "metadata": {},
     "output_type": "execute_result"
    }
   ],
   "source": [
    "stay_points = estimate_stay_points(locations, time_min_ms=5*60*100)\n",
    "len(stay_points)"
   ]
  },
  {
   "cell_type": "code",
   "execution_count": 37,
   "metadata": {},
   "outputs": [
    {
     "data": {
      "text/plain": [
       "[<wenet_models.StayRegion at 0x7f08bc34b4e0>,\n",
       " <wenet_models.StayRegion at 0x7f08ba58fa90>,\n",
       " <wenet_models.StayRegion at 0x7f08ba58fb00>]"
      ]
     },
     "execution_count": 37,
     "metadata": {},
     "output_type": "execute_result"
    }
   ],
   "source": [
    "stay_regions = estimate_stay_regions(stay_points)\n",
    "stay_regions"
   ]
  },
  {
   "cell_type": "code",
   "execution_count": 38,
   "metadata": {},
   "outputs": [
    {
     "data": {
      "text/plain": [
       "[[46.51472778899999, 6.69023280425],\n",
       " [46.568862505931385, 6.562881159117647],\n",
       " [46.80164280083333, 7.151114350833333]]"
      ]
     },
     "execution_count": 38,
     "metadata": {},
     "output_type": "execute_result"
    }
   ],
   "source": [
    "all_stay_regions_center = [[s._lat, s._lng] for s in stay_regions]\n",
    "all_stay_regions_center"
   ]
  },
  {
   "cell_type": "code",
   "execution_count": 44,
   "metadata": {},
   "outputs": [],
   "source": [
    "all_stay_regions_rect = [gmaps.Polygon([(s._topleft_lat, s._topleft_lng), (s._topleft_lat, s._bottomright_lng), (s._bottomright_lat, s._bottomright_lng), (s._bottomright_lat, s._topleft_lng)], fill_color='#800080') for s in stay_regions]"
   ]
  },
  {
   "cell_type": "code",
   "execution_count": 45,
   "metadata": {},
   "outputs": [
    {
     "data": {
      "text/plain": [
       "3"
      ]
     },
     "execution_count": 45,
     "metadata": {},
     "output_type": "execute_result"
    }
   ],
   "source": [
    "len(all_stay_regions_rect)"
   ]
  },
  {
   "cell_type": "code",
   "execution_count": 46,
   "metadata": {},
   "outputs": [],
   "source": [
    "with open('google_api_key.txt', 'r') as f:\n",
    "    key = f.read()\n",
    "gmaps.configure(api_key=key)"
   ]
  },
  {
   "cell_type": "code",
   "execution_count": 47,
   "metadata": {},
   "outputs": [
    {
     "data": {
      "application/vnd.jupyter.widget-view+json": {
       "model_id": "4d10c2c65fa94799a40c6740f0486285",
       "version_major": 2,
       "version_minor": 0
      },
      "text/plain": [
       "Figure(layout=FigureLayout(height='420px'))"
      ]
     },
     "metadata": {},
     "output_type": "display_data"
    }
   ],
   "source": [
    "raw_locations_df = df[['latitude', 'longitude']]\n",
    "all_stay_regions_center_layer = gmaps.marker_layer(all_stay_regions_center)\n",
    "all_stay_regions_rect_layer = gmaps.drawing_layer(features=all_stay_regions_rect)\n",
    "stay_points_layer = gmaps.symbol_layer([[p._lat, p._lng] for p in stay_points], fill_color='#00FFFF', stroke_color='#00FFFF', scale=2)\n",
    "locations_layer = gmaps.heatmap_layer(raw_locations_df)\n",
    "fig = gmaps.figure()\n",
    "fig.add_layer(stay_points_layer)\n",
    "fig.add_layer(all_stay_regions_center_layer)\n",
    "fig.add_layer(all_stay_regions_rect_layer)\n",
    "fig.add_layer(locations_layer)\n",
    "locations_layer.max_intensity = 100\n",
    "locations_layer.point_radius = 10\n",
    "fig.map_type = 'SATELLITE'\n",
    "fig"
   ]
  },
  {
   "cell_type": "code",
   "execution_count": 48,
   "metadata": {},
   "outputs": [],
   "source": [
    "locations_layer.max_intensity = 100\n",
    "locations_layer.point_radius = 10"
   ]
  },
  {
   "cell_type": "code",
   "execution_count": null,
   "metadata": {},
   "outputs": [],
   "source": [
    "fig.map_type = 'SATELLITE'"
   ]
  },
  {
   "cell_type": "code",
   "execution_count": null,
   "metadata": {},
   "outputs": [],
   "source": []
  }
 ],
 "metadata": {
  "kernelspec": {
   "display_name": "Python 3",
   "language": "python",
   "name": "python3"
  },
  "language_info": {
   "codemirror_mode": {
    "name": "ipython",
    "version": 3
   },
   "file_extension": ".py",
   "mimetype": "text/x-python",
   "name": "python",
   "nbconvert_exporter": "python",
   "pygments_lexer": "ipython3",
   "version": "3.7.2"
  }
 },
 "nbformat": 4,
 "nbformat_minor": 2
}
