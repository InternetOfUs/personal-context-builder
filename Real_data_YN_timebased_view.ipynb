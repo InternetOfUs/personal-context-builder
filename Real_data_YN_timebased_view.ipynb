{
 "cells": [
  {
   "cell_type": "markdown",
   "metadata": {},
   "source": [
    "# Notebook that analyse users's day-to-day routine\n",
    "\n"
   ]
  },
  {
   "cell_type": "code",
   "execution_count": 1,
   "metadata": {},
   "outputs": [],
   "source": [
    "from glob import glob\n",
    "import re\n",
    "from datetime import datetime, timedelta\n",
    "from collections import defaultdict\n",
    "from progress.bar import Bar\n",
    "import pandas as pd\n",
    "import numpy as np\n",
    "from wenet_models import LocationPoint\n",
    "import plotly.graph_objs as go\n",
    "from plotly.offline import download_plotlyjs, init_notebook_mode, plot, iplot"
   ]
  },
  {
   "cell_type": "code",
   "execution_count": 2,
   "metadata": {},
   "outputs": [
    {
     "data": {
      "text/html": [
       "<script type=\"text/javascript\">window.PlotlyConfig = {MathJaxConfig: 'local'};</script><script type=\"text/javascript\">if (window.MathJax) {MathJax.Hub.Config({SVG: {font: \"STIX-Web\"}});}</script><script>requirejs.config({paths: { 'plotly': ['https://cdn.plot.ly/plotly-latest.min']},});if(!window._Plotly) {require(['plotly'],function(plotly) {window._Plotly=plotly;});}</script>"
      ],
      "text/vnd.plotly.v1+html": [
       "<script type=\"text/javascript\">window.PlotlyConfig = {MathJaxConfig: 'local'};</script><script type=\"text/javascript\">if (window.MathJax) {MathJax.Hub.Config({SVG: {font: \"STIX-Web\"}});}</script><script>requirejs.config({paths: { 'plotly': ['https://cdn.plot.ly/plotly-latest.min']},});if(!window._Plotly) {require(['plotly'],function(plotly) {window._Plotly=plotly;});}</script>"
      ]
     },
     "metadata": {},
     "output_type": "display_data"
    }
   ],
   "source": [
    "init_notebook_mode(connected=True)"
   ]
  },
  {
   "cell_type": "code",
   "execution_count": 3,
   "metadata": {},
   "outputs": [],
   "source": [
    "locations_glob_expr = '/idiap/temp/wdroz/locations/*.csv'"
   ]
  },
  {
   "cell_type": "code",
   "execution_count": 4,
   "metadata": {},
   "outputs": [
    {
     "data": {
      "text/plain": [
       "241"
      ]
     },
     "execution_count": 4,
     "metadata": {},
     "output_type": "execute_result"
    }
   ],
   "source": [
    "all_location_files = glob(locations_glob_expr)\n",
    "len(all_location_files)"
   ]
  },
  {
   "cell_type": "code",
   "execution_count": 5,
   "metadata": {},
   "outputs": [],
   "source": [
    "user_night_activities = defaultdict(dict)\n",
    "night_user_activities = defaultdict(dict)\n",
    "user_regex = re.compile(r'\\/([^/\\\\_]+)_location\\.csv')"
   ]
  },
  {
   "cell_type": "code",
   "execution_count": 6,
   "metadata": {},
   "outputs": [],
   "source": [
    "df_list = []\n",
    "users_list = []\n",
    "bar = Bar(\"processing\", max=len(all_location_files))\n",
    "for location_file in all_location_files:\n",
    "    bar.next()\n",
    "    df = pd.read_csv(location_file)\n",
    "    df['date'] = pd.to_datetime(df['timestamp'] + df['timezone'], unit='s')\n",
    "    df = df.set_index('date')\n",
    "    df = df[~df.index.duplicated(keep='first')]\n",
    "    current_user = re.search(user_regex, location_file).group(1)\n",
    "    users_list.append(current_user)\n",
    "    df_list.append(df)\n",
    "bar.finish()"
   ]
  },
  {
   "cell_type": "code",
   "execution_count": 7,
   "metadata": {},
   "outputs": [],
   "source": [
    "df_all = pd.concat(df_list)"
   ]
  },
  {
   "cell_type": "code",
   "execution_count": 8,
   "metadata": {
    "scrolled": false
   },
   "outputs": [
    {
     "data": {
      "text/html": [
       "<div>\n",
       "<style scoped>\n",
       "    .dataframe tbody tr th:only-of-type {\n",
       "        vertical-align: middle;\n",
       "    }\n",
       "\n",
       "    .dataframe tbody tr th {\n",
       "        vertical-align: top;\n",
       "    }\n",
       "\n",
       "    .dataframe thead th {\n",
       "        text-align: right;\n",
       "    }\n",
       "</style>\n",
       "<table border=\"1\" class=\"dataframe\">\n",
       "  <thead>\n",
       "    <tr style=\"text-align: right;\">\n",
       "      <th></th>\n",
       "      <th>userid</th>\n",
       "      <th>night</th>\n",
       "      <th>type</th>\n",
       "      <th>timestamp</th>\n",
       "      <th>timezone</th>\n",
       "      <th>local_time</th>\n",
       "      <th>source</th>\n",
       "      <th>latitude</th>\n",
       "      <th>longitude</th>\n",
       "      <th>speed</th>\n",
       "      <th>accuracy</th>\n",
       "      <th>provider</th>\n",
       "      <th>bearing</th>\n",
       "    </tr>\n",
       "    <tr>\n",
       "      <th>date</th>\n",
       "      <th></th>\n",
       "      <th></th>\n",
       "      <th></th>\n",
       "      <th></th>\n",
       "      <th></th>\n",
       "      <th></th>\n",
       "      <th></th>\n",
       "      <th></th>\n",
       "      <th></th>\n",
       "      <th></th>\n",
       "      <th></th>\n",
       "      <th></th>\n",
       "      <th></th>\n",
       "    </tr>\n",
       "  </thead>\n",
       "  <tbody>\n",
       "    <tr>\n",
       "      <th>2014-09-26 23:49:42</th>\n",
       "      <td>02f95f41-cc1c-42d9-ab19-ef86a2fbbf4e</td>\n",
       "      <td>20140926</td>\n",
       "      <td>Location</td>\n",
       "      <td>1411768182</td>\n",
       "      <td>7200</td>\n",
       "      <td>20140926234942</td>\n",
       "      <td>357197052974055</td>\n",
       "      <td>47.254089</td>\n",
       "      <td>8.868810</td>\n",
       "      <td>0.0</td>\n",
       "      <td>20.0</td>\n",
       "      <td>network</td>\n",
       "      <td>0.0</td>\n",
       "    </tr>\n",
       "    <tr>\n",
       "      <th>2014-09-26 23:50:02</th>\n",
       "      <td>02f95f41-cc1c-42d9-ab19-ef86a2fbbf4e</td>\n",
       "      <td>20140926</td>\n",
       "      <td>Location</td>\n",
       "      <td>1411768202</td>\n",
       "      <td>7200</td>\n",
       "      <td>20140926235002</td>\n",
       "      <td>357197052974055</td>\n",
       "      <td>47.254088</td>\n",
       "      <td>8.868793</td>\n",
       "      <td>0.0</td>\n",
       "      <td>20.0</td>\n",
       "      <td>network</td>\n",
       "      <td>0.0</td>\n",
       "    </tr>\n",
       "    <tr>\n",
       "      <th>2014-09-26 23:50:22</th>\n",
       "      <td>02f95f41-cc1c-42d9-ab19-ef86a2fbbf4e</td>\n",
       "      <td>20140926</td>\n",
       "      <td>Location</td>\n",
       "      <td>1411768222</td>\n",
       "      <td>7200</td>\n",
       "      <td>20140926235022</td>\n",
       "      <td>357197052974055</td>\n",
       "      <td>47.254091</td>\n",
       "      <td>8.868790</td>\n",
       "      <td>0.0</td>\n",
       "      <td>20.0</td>\n",
       "      <td>network</td>\n",
       "      <td>0.0</td>\n",
       "    </tr>\n",
       "    <tr>\n",
       "      <th>2014-09-26 23:52:42</th>\n",
       "      <td>02f95f41-cc1c-42d9-ab19-ef86a2fbbf4e</td>\n",
       "      <td>20140926</td>\n",
       "      <td>Location</td>\n",
       "      <td>1411768362</td>\n",
       "      <td>7200</td>\n",
       "      <td>20140926235242</td>\n",
       "      <td>357197052974055</td>\n",
       "      <td>47.254071</td>\n",
       "      <td>8.868794</td>\n",
       "      <td>0.0</td>\n",
       "      <td>20.0</td>\n",
       "      <td>network</td>\n",
       "      <td>0.0</td>\n",
       "    </tr>\n",
       "    <tr>\n",
       "      <th>2014-09-26 23:53:02</th>\n",
       "      <td>02f95f41-cc1c-42d9-ab19-ef86a2fbbf4e</td>\n",
       "      <td>20140926</td>\n",
       "      <td>Location</td>\n",
       "      <td>1411768382</td>\n",
       "      <td>7200</td>\n",
       "      <td>20140926235302</td>\n",
       "      <td>357197052974055</td>\n",
       "      <td>47.254075</td>\n",
       "      <td>8.868798</td>\n",
       "      <td>0.0</td>\n",
       "      <td>20.0</td>\n",
       "      <td>network</td>\n",
       "      <td>0.0</td>\n",
       "    </tr>\n",
       "  </tbody>\n",
       "</table>\n",
       "</div>"
      ],
      "text/plain": [
       "                                                   userid     night      type  \\\n",
       "date                                                                            \n",
       "2014-09-26 23:49:42  02f95f41-cc1c-42d9-ab19-ef86a2fbbf4e  20140926  Location   \n",
       "2014-09-26 23:50:02  02f95f41-cc1c-42d9-ab19-ef86a2fbbf4e  20140926  Location   \n",
       "2014-09-26 23:50:22  02f95f41-cc1c-42d9-ab19-ef86a2fbbf4e  20140926  Location   \n",
       "2014-09-26 23:52:42  02f95f41-cc1c-42d9-ab19-ef86a2fbbf4e  20140926  Location   \n",
       "2014-09-26 23:53:02  02f95f41-cc1c-42d9-ab19-ef86a2fbbf4e  20140926  Location   \n",
       "\n",
       "                      timestamp timezone      local_time           source  \\\n",
       "date                                                                        \n",
       "2014-09-26 23:49:42  1411768182     7200  20140926234942  357197052974055   \n",
       "2014-09-26 23:50:02  1411768202     7200  20140926235002  357197052974055   \n",
       "2014-09-26 23:50:22  1411768222     7200  20140926235022  357197052974055   \n",
       "2014-09-26 23:52:42  1411768362     7200  20140926235242  357197052974055   \n",
       "2014-09-26 23:53:02  1411768382     7200  20140926235302  357197052974055   \n",
       "\n",
       "                      latitude  longitude  speed  accuracy provider  bearing  \n",
       "date                                                                          \n",
       "2014-09-26 23:49:42  47.254089   8.868810    0.0      20.0  network      0.0  \n",
       "2014-09-26 23:50:02  47.254088   8.868793    0.0      20.0  network      0.0  \n",
       "2014-09-26 23:50:22  47.254091   8.868790    0.0      20.0  network      0.0  \n",
       "2014-09-26 23:52:42  47.254071   8.868794    0.0      20.0  network      0.0  \n",
       "2014-09-26 23:53:02  47.254075   8.868798    0.0      20.0  network      0.0  "
      ]
     },
     "execution_count": 8,
     "metadata": {},
     "output_type": "execute_result"
    }
   ],
   "source": [
    "df_all.head()"
   ]
  },
  {
   "cell_type": "code",
   "execution_count": 9,
   "metadata": {},
   "outputs": [
    {
     "data": {
      "text/plain": [
       "array([20140926, 20140927, 20140920, 20141003, 20141004, 20141010,\n",
       "       20141011, 20141018, 20141017, 20141024, 20141025, 20141031,\n",
       "       20141101, 20141107, 20141108, 20141114, 20141115, 20141121,\n",
       "       20141122, 20141123, 20140919, 20141116, 20141128, 20141129,\n",
       "       20141005, 20141023, 20141205, 20141219, 20141226, 20141227,\n",
       "       20150116, 20141206, 20141019, 20140921, 20141012, 20141013,\n",
       "       20141020, 20141026, 20150102, 20150109, 20150117, 20141212,\n",
       "       20141213, 20150103, 20150110, 20141102], dtype=object)"
      ]
     },
     "execution_count": 9,
     "metadata": {},
     "output_type": "execute_result"
    }
   ],
   "source": [
    "df_all['night'].unique()"
   ]
  },
  {
   "cell_type": "code",
   "execution_count": 10,
   "metadata": {},
   "outputs": [
    {
     "data": {
      "text/plain": [
       "Timestamp('2014-09-19 20:00:10')"
      ]
     },
     "execution_count": 10,
     "metadata": {},
     "output_type": "execute_result"
    }
   ],
   "source": [
    "df_all.index.min()"
   ]
  },
  {
   "cell_type": "code",
   "execution_count": 11,
   "metadata": {},
   "outputs": [
    {
     "data": {
      "text/plain": [
       "Timestamp('2015-01-18 03:15:59')"
      ]
     },
     "execution_count": 11,
     "metadata": {},
     "output_type": "execute_result"
    }
   ],
   "source": [
    "df_all.index.max()"
   ]
  },
  {
   "cell_type": "code",
   "execution_count": 12,
   "metadata": {},
   "outputs": [],
   "source": [
    "for name, grouped in df_all.groupby('night'):\n",
    "    for user in users_list:\n",
    "        df_user_night = grouped[grouped['userid'] == user]\n",
    "        night = str(name)\n",
    "        year = night[:4]\n",
    "        month = night[4:6]\n",
    "        days = night[6:]\n",
    "        start_date = datetime.strptime(f'{year}-{month}-{days} 20:00:00', \"%Y-%m-%d %H:%M:%S\")\n",
    "        end_date = start_date + timedelta(hours=8)\n",
    "        df_median = df_user_night.resample('30T').median()\n",
    "        df_user_activity = df_median.reindex(pd.date_range(start=start_date, end=end_date, freq='30T'))\n",
    "        activity_vector = [int(not np.isnan(x)) for x in df_user_activity['latitude'].tolist()]\n",
    "        user_night_activities[user][str(night)] = activity_vector\n",
    "        night_user_activities[str(night)][user] = activity_vector\n",
    "        "
   ]
  },
  {
   "cell_type": "code",
   "execution_count": 23,
   "metadata": {},
   "outputs": [
    {
     "data": {
      "application/vnd.plotly.v1+json": {
       "config": {
        "linkText": "Export to plot.ly",
        "plotlyServerURL": "https://plot.ly",
        "showLink": false
       },
       "data": [
        {
         "type": "bar",
         "uid": "44330a81-2039-41ce-b2af-5b7b11e1820a",
         "x": [
          "N 20140919",
          "N 20140920",
          "N 20140921",
          "N 20140926",
          "N 20140927",
          "N 20141003",
          "N 20141004",
          "N 20141005",
          "N 20141010",
          "N 20141011",
          "N 20141012",
          "N 20141013",
          "N 20141017",
          "N 20141018",
          "N 20141019",
          "N 20141020",
          "N 20141023",
          "N 20141024",
          "N 20141025",
          "N 20141026",
          "N 20141031",
          "N 20141101",
          "N 20141102",
          "N 20141107",
          "N 20141108",
          "N 20141114",
          "N 20141115",
          "N 20141116",
          "N 20141121",
          "N 20141122",
          "N 20141123",
          "N 20141128",
          "N 20141129",
          "N 20141205",
          "N 20141206",
          "N 20141212",
          "N 20141213",
          "N 20141219",
          "N 20141226",
          "N 20141227",
          "N 20150102",
          "N 20150103",
          "N 20150109",
          "N 20150110",
          "N 20150116",
          "N 20150117"
         ],
         "y": [
          19.502074688796682,
          26.556016597510375,
          0.4149377593360996,
          39.004149377593365,
          40.24896265560166,
          47.30290456431535,
          45.22821576763486,
          0.4149377593360996,
          46.47302904564315,
          47.30290456431535,
          0.4149377593360996,
          0.4149377593360996,
          46.47302904564315,
          43.15352697095436,
          0.8298755186721992,
          0,
          0.4149377593360996,
          46.47302904564315,
          45.643153526970956,
          0,
          41.49377593360996,
          46.058091286307054,
          0,
          28.21576763485477,
          24.066390041493776,
          18.25726141078838,
          18.672199170124482,
          0.8298755186721992,
          14.522821576763487,
          12.863070539419086,
          0.8298755186721992,
          6.224066390041494,
          5.809128630705394,
          2.904564315352697,
          1.6597510373443984,
          0.8298755186721992,
          0.4149377593360996,
          0.8298755186721992,
          0.8298755186721992,
          0.4149377593360996,
          0.8298755186721992,
          0.4149377593360996,
          0.4149377593360996,
          0.4149377593360996,
          0.4149377593360996,
          0.8298755186721992
         ]
        }
       ],
       "layout": {
        "title": {
         "text": "Nights binary activities"
        },
        "xaxis": {
         "showticklabels": false,
         "title": {
          "text": "Nights"
         }
        },
        "yaxis": {
         "ticksuffix": "%",
         "title": {
          "text": "Percent of users that have records"
         }
        }
       }
      },
      "text/html": [
       "<div id=\"d05f4d55-6db4-4dac-b60c-39d3572e5758\" style=\"height: 525px; width: 100%;\" class=\"plotly-graph-div\"></div><script type=\"text/javascript\">require([\"plotly\"], function(Plotly) { window.PLOTLYENV=window.PLOTLYENV || {};window.PLOTLYENV.BASE_URL=\"https://plot.ly\";Plotly.newPlot(\"d05f4d55-6db4-4dac-b60c-39d3572e5758\", [{\"x\": [\"N 20140919\", \"N 20140920\", \"N 20140921\", \"N 20140926\", \"N 20140927\", \"N 20141003\", \"N 20141004\", \"N 20141005\", \"N 20141010\", \"N 20141011\", \"N 20141012\", \"N 20141013\", \"N 20141017\", \"N 20141018\", \"N 20141019\", \"N 20141020\", \"N 20141023\", \"N 20141024\", \"N 20141025\", \"N 20141026\", \"N 20141031\", \"N 20141101\", \"N 20141102\", \"N 20141107\", \"N 20141108\", \"N 20141114\", \"N 20141115\", \"N 20141116\", \"N 20141121\", \"N 20141122\", \"N 20141123\", \"N 20141128\", \"N 20141129\", \"N 20141205\", \"N 20141206\", \"N 20141212\", \"N 20141213\", \"N 20141219\", \"N 20141226\", \"N 20141227\", \"N 20150102\", \"N 20150103\", \"N 20150109\", \"N 20150110\", \"N 20150116\", \"N 20150117\"], \"y\": [19.502074688796682, 26.556016597510375, 0.4149377593360996, 39.004149377593365, 40.24896265560166, 47.30290456431535, 45.22821576763486, 0.4149377593360996, 46.47302904564315, 47.30290456431535, 0.4149377593360996, 0.4149377593360996, 46.47302904564315, 43.15352697095436, 0.8298755186721992, 0.0, 0.4149377593360996, 46.47302904564315, 45.643153526970956, 0.0, 41.49377593360996, 46.058091286307054, 0.0, 28.21576763485477, 24.066390041493776, 18.25726141078838, 18.672199170124482, 0.8298755186721992, 14.522821576763487, 12.863070539419086, 0.8298755186721992, 6.224066390041494, 5.809128630705394, 2.904564315352697, 1.6597510373443984, 0.8298755186721992, 0.4149377593360996, 0.8298755186721992, 0.8298755186721992, 0.4149377593360996, 0.8298755186721992, 0.4149377593360996, 0.4149377593360996, 0.4149377593360996, 0.4149377593360996, 0.8298755186721992], \"type\": \"bar\", \"uid\": \"44330a81-2039-41ce-b2af-5b7b11e1820a\"}], {\"title\": {\"text\": \"Nights binary activities\"}, \"xaxis\": {\"showticklabels\": false, \"title\": {\"text\": \"Nights\"}}, \"yaxis\": {\"ticksuffix\": \"%\", \"title\": {\"text\": \"Percent of users that have records\"}}}, {\"showLink\": false, \"linkText\": \"Export to plot.ly\", \"plotlyServerURL\": \"https://plot.ly\"})});</script><script type=\"text/javascript\">window.addEventListener(\"resize\", function(){window._Plotly.Plots.resize(document.getElementById(\"d05f4d55-6db4-4dac-b60c-39d3572e5758\"));});</script>"
      ],
      "text/vnd.plotly.v1+html": [
       "<div id=\"d05f4d55-6db4-4dac-b60c-39d3572e5758\" style=\"height: 525px; width: 100%;\" class=\"plotly-graph-div\"></div><script type=\"text/javascript\">require([\"plotly\"], function(Plotly) { window.PLOTLYENV=window.PLOTLYENV || {};window.PLOTLYENV.BASE_URL=\"https://plot.ly\";Plotly.newPlot(\"d05f4d55-6db4-4dac-b60c-39d3572e5758\", [{\"x\": [\"N 20140919\", \"N 20140920\", \"N 20140921\", \"N 20140926\", \"N 20140927\", \"N 20141003\", \"N 20141004\", \"N 20141005\", \"N 20141010\", \"N 20141011\", \"N 20141012\", \"N 20141013\", \"N 20141017\", \"N 20141018\", \"N 20141019\", \"N 20141020\", \"N 20141023\", \"N 20141024\", \"N 20141025\", \"N 20141026\", \"N 20141031\", \"N 20141101\", \"N 20141102\", \"N 20141107\", \"N 20141108\", \"N 20141114\", \"N 20141115\", \"N 20141116\", \"N 20141121\", \"N 20141122\", \"N 20141123\", \"N 20141128\", \"N 20141129\", \"N 20141205\", \"N 20141206\", \"N 20141212\", \"N 20141213\", \"N 20141219\", \"N 20141226\", \"N 20141227\", \"N 20150102\", \"N 20150103\", \"N 20150109\", \"N 20150110\", \"N 20150116\", \"N 20150117\"], \"y\": [19.502074688796682, 26.556016597510375, 0.4149377593360996, 39.004149377593365, 40.24896265560166, 47.30290456431535, 45.22821576763486, 0.4149377593360996, 46.47302904564315, 47.30290456431535, 0.4149377593360996, 0.4149377593360996, 46.47302904564315, 43.15352697095436, 0.8298755186721992, 0.0, 0.4149377593360996, 46.47302904564315, 45.643153526970956, 0.0, 41.49377593360996, 46.058091286307054, 0.0, 28.21576763485477, 24.066390041493776, 18.25726141078838, 18.672199170124482, 0.8298755186721992, 14.522821576763487, 12.863070539419086, 0.8298755186721992, 6.224066390041494, 5.809128630705394, 2.904564315352697, 1.6597510373443984, 0.8298755186721992, 0.4149377593360996, 0.8298755186721992, 0.8298755186721992, 0.4149377593360996, 0.8298755186721992, 0.4149377593360996, 0.4149377593360996, 0.4149377593360996, 0.4149377593360996, 0.8298755186721992], \"type\": \"bar\", \"uid\": \"44330a81-2039-41ce-b2af-5b7b11e1820a\"}], {\"title\": {\"text\": \"Nights binary activities\"}, \"xaxis\": {\"showticklabels\": false, \"title\": {\"text\": \"Nights\"}}, \"yaxis\": {\"ticksuffix\": \"%\", \"title\": {\"text\": \"Percent of users that have records\"}}}, {\"showLink\": false, \"linkText\": \"Export to plot.ly\", \"plotlyServerURL\": \"https://plot.ly\"})});</script><script type=\"text/javascript\">window.addEventListener(\"resize\", function(){window._Plotly.Plots.resize(document.getElementById(\"d05f4d55-6db4-4dac-b60c-39d3572e5758\"));});</script>"
      ]
     },
     "metadata": {},
     "output_type": "display_data"
    }
   ],
   "source": [
    "nb_users = len(user_night_activities)\n",
    "trace_night_activities = [go.Bar(\n",
    "            y=[100*(sum([int(sum(vector) >= 1) for user, vector in user_dict.items()])/nb_users) for night, user_dict in sorted(night_user_activities.items())],\n",
    "            x=[f'N {n}' for n in sorted(night_user_activities.keys())]\n",
    "    )]\n",
    "\n",
    "layout_night_actitivies = go.Layout(title='Nights binary activities', \n",
    "                                    xaxis=dict(title='Nights', showticklabels=False), \n",
    "                                    yaxis=dict(title='Percent of users that have records',\n",
    "                                              ticksuffix='%'))\n",
    "\n",
    "fig = go.Figure(data=trace_night_activities, layout=layout_night_actitivies)\n",
    "iplot(fig, filename='grouped-bar')"
   ]
  },
  {
   "cell_type": "code",
   "execution_count": 14,
   "metadata": {},
   "outputs": [
    {
     "data": {
      "text/plain": [
       "241"
      ]
     },
     "execution_count": 14,
     "metadata": {},
     "output_type": "execute_result"
    }
   ],
   "source": [
    "nb_users"
   ]
  },
  {
   "cell_type": "code",
   "execution_count": 31,
   "metadata": {},
   "outputs": [],
   "source": [
    "def plot_user_activities(user, user_dict):\n",
    "    trace_activities = [go.Scatter(\n",
    "                        x=[hour for hour in range(len(vector))],\n",
    "                        y=vector, line=dict(shape='hv'), name=night) for night, vector in user_dict.items() if sum(vector) >= 1]\n",
    "    layout_activities = go.Layout(title=f'Activities for user {user}', \n",
    "                                    xaxis=dict(title='Night time (half-hour unit)'), \n",
    "                                    yaxis=dict(title='Activity'))\n",
    "    \n",
    "    fig = go.Figure(data=trace_activities, layout=layout_activities)\n",
    "    return iplot(fig, filename='user_activities')"
   ]
  },
  {
   "cell_type": "code",
   "execution_count": 32,
   "metadata": {},
   "outputs": [
    {
     "data": {
      "application/vnd.plotly.v1+json": {
       "config": {
        "linkText": "Export to plot.ly",
        "plotlyServerURL": "https://plot.ly",
        "showLink": false
       },
       "data": [
        {
         "line": {
          "shape": "hv"
         },
         "name": "20140926",
         "type": "scatter",
         "uid": "fb91b0eb-9f4e-402b-8d94-b55609eaefb3",
         "x": [
          0,
          1,
          2,
          3,
          4,
          5,
          6,
          7,
          8,
          9,
          10,
          11,
          12,
          13,
          14,
          15,
          16
         ],
         "y": [
          0,
          0,
          0,
          0,
          0,
          0,
          0,
          1,
          1,
          0,
          0,
          0,
          0,
          0,
          0,
          0,
          0
         ]
        },
        {
         "line": {
          "shape": "hv"
         },
         "name": "20140927",
         "type": "scatter",
         "uid": "c9e1b6e1-6e41-4653-a0b3-3efe788abdc3",
         "x": [
          0,
          1,
          2,
          3,
          4,
          5,
          6,
          7,
          8,
          9,
          10,
          11,
          12,
          13,
          14,
          15,
          16
         ],
         "y": [
          0,
          0,
          1,
          1,
          1,
          1,
          0,
          0,
          0,
          1,
          0,
          0,
          0,
          0,
          0,
          0,
          0
         ]
        }
       ],
       "layout": {
        "title": {
         "text": "Activities for user 02f95f41-cc1c-42d9-ab19-ef86a2fbbf4e"
        },
        "xaxis": {
         "title": {
          "text": "Night time (half-hour unit)"
         }
        },
        "yaxis": {
         "title": {
          "text": "Activity"
         }
        }
       }
      },
      "text/html": [
       "<div id=\"a8e91407-85b8-4ad7-995c-2f76c714d9af\" style=\"height: 525px; width: 100%;\" class=\"plotly-graph-div\"></div><script type=\"text/javascript\">require([\"plotly\"], function(Plotly) { window.PLOTLYENV=window.PLOTLYENV || {};window.PLOTLYENV.BASE_URL=\"https://plot.ly\";Plotly.newPlot(\"a8e91407-85b8-4ad7-995c-2f76c714d9af\", [{\"line\": {\"shape\": \"hv\"}, \"name\": \"20140926\", \"x\": [0, 1, 2, 3, 4, 5, 6, 7, 8, 9, 10, 11, 12, 13, 14, 15, 16], \"y\": [0, 0, 0, 0, 0, 0, 0, 1, 1, 0, 0, 0, 0, 0, 0, 0, 0], \"type\": \"scatter\", \"uid\": \"fb91b0eb-9f4e-402b-8d94-b55609eaefb3\"}, {\"line\": {\"shape\": \"hv\"}, \"name\": \"20140927\", \"x\": [0, 1, 2, 3, 4, 5, 6, 7, 8, 9, 10, 11, 12, 13, 14, 15, 16], \"y\": [0, 0, 1, 1, 1, 1, 0, 0, 0, 1, 0, 0, 0, 0, 0, 0, 0], \"type\": \"scatter\", \"uid\": \"c9e1b6e1-6e41-4653-a0b3-3efe788abdc3\"}], {\"title\": {\"text\": \"Activities for user 02f95f41-cc1c-42d9-ab19-ef86a2fbbf4e\"}, \"xaxis\": {\"title\": {\"text\": \"Night time (half-hour unit)\"}}, \"yaxis\": {\"title\": {\"text\": \"Activity\"}}}, {\"showLink\": false, \"linkText\": \"Export to plot.ly\", \"plotlyServerURL\": \"https://plot.ly\"})});</script><script type=\"text/javascript\">window.addEventListener(\"resize\", function(){window._Plotly.Plots.resize(document.getElementById(\"a8e91407-85b8-4ad7-995c-2f76c714d9af\"));});</script>"
      ],
      "text/vnd.plotly.v1+html": [
       "<div id=\"a8e91407-85b8-4ad7-995c-2f76c714d9af\" style=\"height: 525px; width: 100%;\" class=\"plotly-graph-div\"></div><script type=\"text/javascript\">require([\"plotly\"], function(Plotly) { window.PLOTLYENV=window.PLOTLYENV || {};window.PLOTLYENV.BASE_URL=\"https://plot.ly\";Plotly.newPlot(\"a8e91407-85b8-4ad7-995c-2f76c714d9af\", [{\"line\": {\"shape\": \"hv\"}, \"name\": \"20140926\", \"x\": [0, 1, 2, 3, 4, 5, 6, 7, 8, 9, 10, 11, 12, 13, 14, 15, 16], \"y\": [0, 0, 0, 0, 0, 0, 0, 1, 1, 0, 0, 0, 0, 0, 0, 0, 0], \"type\": \"scatter\", \"uid\": \"fb91b0eb-9f4e-402b-8d94-b55609eaefb3\"}, {\"line\": {\"shape\": \"hv\"}, \"name\": \"20140927\", \"x\": [0, 1, 2, 3, 4, 5, 6, 7, 8, 9, 10, 11, 12, 13, 14, 15, 16], \"y\": [0, 0, 1, 1, 1, 1, 0, 0, 0, 1, 0, 0, 0, 0, 0, 0, 0], \"type\": \"scatter\", \"uid\": \"c9e1b6e1-6e41-4653-a0b3-3efe788abdc3\"}], {\"title\": {\"text\": \"Activities for user 02f95f41-cc1c-42d9-ab19-ef86a2fbbf4e\"}, \"xaxis\": {\"title\": {\"text\": \"Night time (half-hour unit)\"}}, \"yaxis\": {\"title\": {\"text\": \"Activity\"}}}, {\"showLink\": false, \"linkText\": \"Export to plot.ly\", \"plotlyServerURL\": \"https://plot.ly\"})});</script><script type=\"text/javascript\">window.addEventListener(\"resize\", function(){window._Plotly.Plots.resize(document.getElementById(\"a8e91407-85b8-4ad7-995c-2f76c714d9af\"));});</script>"
      ]
     },
     "metadata": {},
     "output_type": "display_data"
    }
   ],
   "source": [
    "user, user_dict = list(user_night_activities.items())[0]\n",
    "plot_user_activities(user, user_dict)"
   ]
  },
  {
   "cell_type": "code",
   "execution_count": 26,
   "metadata": {},
   "outputs": [
    {
     "data": {
      "application/vnd.plotly.v1+json": {
       "config": {
        "linkText": "Export to plot.ly",
        "plotlyServerURL": "https://plot.ly",
        "showLink": false
       },
       "data": [
        {
         "line": {
          "shape": "hv"
         },
         "name": "20140920",
         "type": "scatter",
         "uid": "abf3a09f-d412-4ae8-b19e-3f56ec9c585d",
         "x": [
          0,
          1,
          2,
          3,
          4,
          5,
          6,
          7,
          8,
          9,
          10,
          11,
          12,
          13,
          14,
          15,
          16
         ],
         "y": [
          1,
          1,
          1,
          1,
          1,
          1,
          1,
          1,
          1,
          1,
          1,
          1,
          1,
          1,
          1,
          1,
          0
         ]
        },
        {
         "line": {
          "shape": "hv"
         },
         "name": "20140926",
         "type": "scatter",
         "uid": "63e4966f-d0d6-470c-9b1a-d9cfeee97929",
         "x": [
          0,
          1,
          2,
          3,
          4,
          5,
          6,
          7,
          8,
          9,
          10,
          11,
          12,
          13,
          14,
          15,
          16
         ],
         "y": [
          0,
          0,
          1,
          1,
          1,
          1,
          1,
          1,
          1,
          1,
          1,
          1,
          1,
          1,
          1,
          1,
          0
         ]
        },
        {
         "line": {
          "shape": "hv"
         },
         "name": "20140927",
         "type": "scatter",
         "uid": "ff68de86-8b17-4f7d-af21-290d5b4034b1",
         "x": [
          0,
          1,
          2,
          3,
          4,
          5,
          6,
          7,
          8,
          9,
          10,
          11,
          12,
          13,
          14,
          15,
          16
         ],
         "y": [
          0,
          0,
          1,
          1,
          1,
          1,
          1,
          1,
          1,
          1,
          1,
          1,
          1,
          1,
          1,
          1,
          0
         ]
        },
        {
         "line": {
          "shape": "hv"
         },
         "name": "20141003",
         "type": "scatter",
         "uid": "2d52f61c-b7ea-4568-9bfb-4803683f7ea1",
         "x": [
          0,
          1,
          2,
          3,
          4,
          5,
          6,
          7,
          8,
          9,
          10,
          11,
          12,
          13,
          14,
          15,
          16
         ],
         "y": [
          0,
          0,
          1,
          1,
          1,
          1,
          1,
          1,
          1,
          1,
          1,
          1,
          1,
          1,
          1,
          1,
          0
         ]
        },
        {
         "line": {
          "shape": "hv"
         },
         "name": "20141004",
         "type": "scatter",
         "uid": "bef66971-60a1-47d2-b073-e8438a5a86e4",
         "x": [
          0,
          1,
          2,
          3,
          4,
          5,
          6,
          7,
          8,
          9,
          10,
          11,
          12,
          13,
          14,
          15,
          16
         ],
         "y": [
          1,
          1,
          1,
          1,
          1,
          1,
          1,
          1,
          1,
          1,
          1,
          1,
          1,
          1,
          1,
          1,
          0
         ]
        },
        {
         "line": {
          "shape": "hv"
         },
         "name": "20141010",
         "type": "scatter",
         "uid": "a39e14a2-282e-4e05-99ab-e6ad87139c49",
         "x": [
          0,
          1,
          2,
          3,
          4,
          5,
          6,
          7,
          8,
          9,
          10,
          11,
          12,
          13,
          14,
          15,
          16
         ],
         "y": [
          0,
          0,
          1,
          1,
          1,
          1,
          1,
          1,
          1,
          1,
          1,
          1,
          1,
          1,
          1,
          1,
          0
         ]
        },
        {
         "line": {
          "shape": "hv"
         },
         "name": "20141011",
         "type": "scatter",
         "uid": "4cd21cbe-15c9-4cb6-a25e-f918665a6fcb",
         "x": [
          0,
          1,
          2,
          3,
          4,
          5,
          6,
          7,
          8,
          9,
          10,
          11,
          12,
          13,
          14,
          15,
          16
         ],
         "y": [
          0,
          0,
          1,
          0,
          0,
          0,
          0,
          0,
          0,
          0,
          0,
          0,
          0,
          0,
          0,
          0,
          0
         ]
        }
       ],
       "layout": {
        "title": {
         "text": "Activities for user 0387ce90-5e83-4ee8-a3ee-bc2e09877249"
        },
        "xaxis": {
         "title": {
          "text": "Night time (half-hour unit)"
         }
        },
        "yaxis": {
         "title": {
          "text": "Activity"
         }
        }
       }
      },
      "text/html": [
       "<div id=\"92ef5b20-e267-46ee-87f1-d31f6eaed82b\" style=\"height: 525px; width: 100%;\" class=\"plotly-graph-div\"></div><script type=\"text/javascript\">require([\"plotly\"], function(Plotly) { window.PLOTLYENV=window.PLOTLYENV || {};window.PLOTLYENV.BASE_URL=\"https://plot.ly\";Plotly.newPlot(\"92ef5b20-e267-46ee-87f1-d31f6eaed82b\", [{\"line\": {\"shape\": \"hv\"}, \"name\": \"20140920\", \"x\": [0, 1, 2, 3, 4, 5, 6, 7, 8, 9, 10, 11, 12, 13, 14, 15, 16], \"y\": [1, 1, 1, 1, 1, 1, 1, 1, 1, 1, 1, 1, 1, 1, 1, 1, 0], \"type\": \"scatter\", \"uid\": \"abf3a09f-d412-4ae8-b19e-3f56ec9c585d\"}, {\"line\": {\"shape\": \"hv\"}, \"name\": \"20140926\", \"x\": [0, 1, 2, 3, 4, 5, 6, 7, 8, 9, 10, 11, 12, 13, 14, 15, 16], \"y\": [0, 0, 1, 1, 1, 1, 1, 1, 1, 1, 1, 1, 1, 1, 1, 1, 0], \"type\": \"scatter\", \"uid\": \"63e4966f-d0d6-470c-9b1a-d9cfeee97929\"}, {\"line\": {\"shape\": \"hv\"}, \"name\": \"20140927\", \"x\": [0, 1, 2, 3, 4, 5, 6, 7, 8, 9, 10, 11, 12, 13, 14, 15, 16], \"y\": [0, 0, 1, 1, 1, 1, 1, 1, 1, 1, 1, 1, 1, 1, 1, 1, 0], \"type\": \"scatter\", \"uid\": \"ff68de86-8b17-4f7d-af21-290d5b4034b1\"}, {\"line\": {\"shape\": \"hv\"}, \"name\": \"20141003\", \"x\": [0, 1, 2, 3, 4, 5, 6, 7, 8, 9, 10, 11, 12, 13, 14, 15, 16], \"y\": [0, 0, 1, 1, 1, 1, 1, 1, 1, 1, 1, 1, 1, 1, 1, 1, 0], \"type\": \"scatter\", \"uid\": \"2d52f61c-b7ea-4568-9bfb-4803683f7ea1\"}, {\"line\": {\"shape\": \"hv\"}, \"name\": \"20141004\", \"x\": [0, 1, 2, 3, 4, 5, 6, 7, 8, 9, 10, 11, 12, 13, 14, 15, 16], \"y\": [1, 1, 1, 1, 1, 1, 1, 1, 1, 1, 1, 1, 1, 1, 1, 1, 0], \"type\": \"scatter\", \"uid\": \"bef66971-60a1-47d2-b073-e8438a5a86e4\"}, {\"line\": {\"shape\": \"hv\"}, \"name\": \"20141010\", \"x\": [0, 1, 2, 3, 4, 5, 6, 7, 8, 9, 10, 11, 12, 13, 14, 15, 16], \"y\": [0, 0, 1, 1, 1, 1, 1, 1, 1, 1, 1, 1, 1, 1, 1, 1, 0], \"type\": \"scatter\", \"uid\": \"a39e14a2-282e-4e05-99ab-e6ad87139c49\"}, {\"line\": {\"shape\": \"hv\"}, \"name\": \"20141011\", \"x\": [0, 1, 2, 3, 4, 5, 6, 7, 8, 9, 10, 11, 12, 13, 14, 15, 16], \"y\": [0, 0, 1, 0, 0, 0, 0, 0, 0, 0, 0, 0, 0, 0, 0, 0, 0], \"type\": \"scatter\", \"uid\": \"4cd21cbe-15c9-4cb6-a25e-f918665a6fcb\"}], {\"title\": {\"text\": \"Activities for user 0387ce90-5e83-4ee8-a3ee-bc2e09877249\"}, \"xaxis\": {\"title\": {\"text\": \"Night time (half-hour unit)\"}}, \"yaxis\": {\"title\": {\"text\": \"Activity\"}}}, {\"showLink\": false, \"linkText\": \"Export to plot.ly\", \"plotlyServerURL\": \"https://plot.ly\"})});</script><script type=\"text/javascript\">window.addEventListener(\"resize\", function(){window._Plotly.Plots.resize(document.getElementById(\"92ef5b20-e267-46ee-87f1-d31f6eaed82b\"));});</script>"
      ],
      "text/vnd.plotly.v1+html": [
       "<div id=\"92ef5b20-e267-46ee-87f1-d31f6eaed82b\" style=\"height: 525px; width: 100%;\" class=\"plotly-graph-div\"></div><script type=\"text/javascript\">require([\"plotly\"], function(Plotly) { window.PLOTLYENV=window.PLOTLYENV || {};window.PLOTLYENV.BASE_URL=\"https://plot.ly\";Plotly.newPlot(\"92ef5b20-e267-46ee-87f1-d31f6eaed82b\", [{\"line\": {\"shape\": \"hv\"}, \"name\": \"20140920\", \"x\": [0, 1, 2, 3, 4, 5, 6, 7, 8, 9, 10, 11, 12, 13, 14, 15, 16], \"y\": [1, 1, 1, 1, 1, 1, 1, 1, 1, 1, 1, 1, 1, 1, 1, 1, 0], \"type\": \"scatter\", \"uid\": \"abf3a09f-d412-4ae8-b19e-3f56ec9c585d\"}, {\"line\": {\"shape\": \"hv\"}, \"name\": \"20140926\", \"x\": [0, 1, 2, 3, 4, 5, 6, 7, 8, 9, 10, 11, 12, 13, 14, 15, 16], \"y\": [0, 0, 1, 1, 1, 1, 1, 1, 1, 1, 1, 1, 1, 1, 1, 1, 0], \"type\": \"scatter\", \"uid\": \"63e4966f-d0d6-470c-9b1a-d9cfeee97929\"}, {\"line\": {\"shape\": \"hv\"}, \"name\": \"20140927\", \"x\": [0, 1, 2, 3, 4, 5, 6, 7, 8, 9, 10, 11, 12, 13, 14, 15, 16], \"y\": [0, 0, 1, 1, 1, 1, 1, 1, 1, 1, 1, 1, 1, 1, 1, 1, 0], \"type\": \"scatter\", \"uid\": \"ff68de86-8b17-4f7d-af21-290d5b4034b1\"}, {\"line\": {\"shape\": \"hv\"}, \"name\": \"20141003\", \"x\": [0, 1, 2, 3, 4, 5, 6, 7, 8, 9, 10, 11, 12, 13, 14, 15, 16], \"y\": [0, 0, 1, 1, 1, 1, 1, 1, 1, 1, 1, 1, 1, 1, 1, 1, 0], \"type\": \"scatter\", \"uid\": \"2d52f61c-b7ea-4568-9bfb-4803683f7ea1\"}, {\"line\": {\"shape\": \"hv\"}, \"name\": \"20141004\", \"x\": [0, 1, 2, 3, 4, 5, 6, 7, 8, 9, 10, 11, 12, 13, 14, 15, 16], \"y\": [1, 1, 1, 1, 1, 1, 1, 1, 1, 1, 1, 1, 1, 1, 1, 1, 0], \"type\": \"scatter\", \"uid\": \"bef66971-60a1-47d2-b073-e8438a5a86e4\"}, {\"line\": {\"shape\": \"hv\"}, \"name\": \"20141010\", \"x\": [0, 1, 2, 3, 4, 5, 6, 7, 8, 9, 10, 11, 12, 13, 14, 15, 16], \"y\": [0, 0, 1, 1, 1, 1, 1, 1, 1, 1, 1, 1, 1, 1, 1, 1, 0], \"type\": \"scatter\", \"uid\": \"a39e14a2-282e-4e05-99ab-e6ad87139c49\"}, {\"line\": {\"shape\": \"hv\"}, \"name\": \"20141011\", \"x\": [0, 1, 2, 3, 4, 5, 6, 7, 8, 9, 10, 11, 12, 13, 14, 15, 16], \"y\": [0, 0, 1, 0, 0, 0, 0, 0, 0, 0, 0, 0, 0, 0, 0, 0, 0], \"type\": \"scatter\", \"uid\": \"4cd21cbe-15c9-4cb6-a25e-f918665a6fcb\"}], {\"title\": {\"text\": \"Activities for user 0387ce90-5e83-4ee8-a3ee-bc2e09877249\"}, \"xaxis\": {\"title\": {\"text\": \"Night time (half-hour unit)\"}}, \"yaxis\": {\"title\": {\"text\": \"Activity\"}}}, {\"showLink\": false, \"linkText\": \"Export to plot.ly\", \"plotlyServerURL\": \"https://plot.ly\"})});</script><script type=\"text/javascript\">window.addEventListener(\"resize\", function(){window._Plotly.Plots.resize(document.getElementById(\"92ef5b20-e267-46ee-87f1-d31f6eaed82b\"));});</script>"
      ]
     },
     "metadata": {},
     "output_type": "display_data"
    }
   ],
   "source": [
    "user, user_dict = list(user_night_activities.items())[1]\n",
    "plot_user_activities(user, user_dict)"
   ]
  },
  {
   "cell_type": "code",
   "execution_count": 18,
   "metadata": {},
   "outputs": [
    {
     "data": {
      "text/plain": [
       "[[0, 0, 0, 0, 0, 0, 0, 1, 1, 0, 0, 0, 0, 0, 0, 0, 0],\n",
       " [0, 0, 1, 1, 1, 1, 0, 0, 0, 1, 0, 0, 0, 0, 0, 0, 0],\n",
       " [1, 1, 1, 1, 1, 1, 1, 1, 1, 1, 1, 1, 1, 1, 1, 1, 0],\n",
       " [0, 0, 1, 1, 1, 1, 1, 1, 1, 1, 1, 1, 1, 1, 1, 1, 0],\n",
       " [0, 0, 1, 1, 1, 1, 1, 1, 1, 1, 1, 1, 1, 1, 1, 1, 0]]"
      ]
     },
     "execution_count": 18,
     "metadata": {},
     "output_type": "execute_result"
    }
   ],
   "source": [
    "users_list, user_dict_list = zip(*list(user_night_activities.items()))\n",
    "all_vectors = [vector for user_dict in user_dict_list for vector in user_dict.values() if sum(vector) >= 1]\n",
    "all_vectors[:5]"
   ]
  },
  {
   "cell_type": "code",
   "execution_count": 19,
   "metadata": {},
   "outputs": [
    {
     "data": {
      "application/vnd.plotly.v1+json": {
       "config": {
        "linkText": "Export to plot.ly",
        "plotlyServerURL": "https://plot.ly",
        "showLink": false
       },
       "data": [
        {
         "hoverinfo": "text",
         "marker": {
          "color": "rgb(61,153,112)"
         },
         "mode": "lines",
         "type": "scatter",
         "uid": "3cf18d83-cdc7-45d6-b754-44976f734f0c",
         "x": [
          15,
          15,
          25,
          25
         ],
         "xaxis": "x",
         "y": [
          0,
          0,
          0,
          0
         ],
         "yaxis": "y"
        },
        {
         "hoverinfo": "text",
         "marker": {
          "color": "rgb(61,153,112)"
         },
         "mode": "lines",
         "type": "scatter",
         "uid": "c93336db-2127-42df-b702-55bc642ce265",
         "x": [
          5,
          5,
          20,
          20
         ],
         "xaxis": "x",
         "y": [
          0,
          1.4142135623730951,
          1.4142135623730951,
          0
         ],
         "yaxis": "y"
        },
        {
         "hoverinfo": "text",
         "marker": {
          "color": "rgb(0,116,217)"
         },
         "mode": "lines",
         "type": "scatter",
         "uid": "83704a1e-49c6-4690-b6e6-5f95bcbd6d7e",
         "x": [
          35,
          35,
          45,
          45
         ],
         "xaxis": "x",
         "y": [
          0,
          2.6457513110645907,
          2.6457513110645907,
          0
         ],
         "yaxis": "y"
        },
        {
         "hoverinfo": "text",
         "marker": {
          "color": "rgb(0,116,217)"
         },
         "mode": "lines",
         "type": "scatter",
         "uid": "f860926b-559f-41dd-ac7b-e3e81cbf16f5",
         "x": [
          12.5,
          12.5,
          40,
          40
         ],
         "xaxis": "x",
         "y": [
          1.4142135623730951,
          3.7416573867739413,
          3.7416573867739413,
          2.6457513110645907
         ],
         "yaxis": "y"
        }
       ],
       "layout": {
        "autosize": false,
        "height": null,
        "hovermode": "closest",
        "showlegend": false,
        "width": null,
        "xaxis": {
         "mirror": "allticks",
         "rangemode": "tozero",
         "showgrid": false,
         "showline": true,
         "showticklabels": true,
         "tickmode": "array",
         "ticks": "outside",
         "ticktext": [
          "2",
          "3",
          "4",
          "0",
          "1"
         ],
         "tickvals": [
          5,
          15,
          25,
          35,
          45
         ],
         "type": "linear",
         "zeroline": false
        },
        "yaxis": {
         "mirror": "allticks",
         "rangemode": "tozero",
         "showgrid": false,
         "showline": true,
         "showticklabels": true,
         "ticks": "outside",
         "type": "linear",
         "zeroline": false
        }
       }
      },
      "text/html": [
       "<div id=\"2c89f2ea-d3f3-42dc-918c-c598978ee8c0\" style=\"height: infpx; width: infpx;\" class=\"plotly-graph-div\"></div><script type=\"text/javascript\">require([\"plotly\"], function(Plotly) { window.PLOTLYENV=window.PLOTLYENV || {};window.PLOTLYENV.BASE_URL=\"https://plot.ly\";Plotly.newPlot(\"2c89f2ea-d3f3-42dc-918c-c598978ee8c0\", [{\"hoverinfo\": \"text\", \"marker\": {\"color\": \"rgb(61,153,112)\"}, \"mode\": \"lines\", \"x\": [15.0, 15.0, 25.0, 25.0], \"xaxis\": \"x\", \"y\": [0.0, 0.0, 0.0, 0.0], \"yaxis\": \"y\", \"type\": \"scatter\", \"uid\": \"3cf18d83-cdc7-45d6-b754-44976f734f0c\"}, {\"hoverinfo\": \"text\", \"marker\": {\"color\": \"rgb(61,153,112)\"}, \"mode\": \"lines\", \"x\": [5.0, 5.0, 20.0, 20.0], \"xaxis\": \"x\", \"y\": [0.0, 1.4142135623730951, 1.4142135623730951, 0.0], \"yaxis\": \"y\", \"type\": \"scatter\", \"uid\": \"c93336db-2127-42df-b702-55bc642ce265\"}, {\"hoverinfo\": \"text\", \"marker\": {\"color\": \"rgb(0,116,217)\"}, \"mode\": \"lines\", \"x\": [35.0, 35.0, 45.0, 45.0], \"xaxis\": \"x\", \"y\": [0.0, 2.6457513110645907, 2.6457513110645907, 0.0], \"yaxis\": \"y\", \"type\": \"scatter\", \"uid\": \"83704a1e-49c6-4690-b6e6-5f95bcbd6d7e\"}, {\"hoverinfo\": \"text\", \"marker\": {\"color\": \"rgb(0,116,217)\"}, \"mode\": \"lines\", \"x\": [12.5, 12.5, 40.0, 40.0], \"xaxis\": \"x\", \"y\": [1.4142135623730951, 3.7416573867739413, 3.7416573867739413, 2.6457513110645907], \"yaxis\": \"y\", \"type\": \"scatter\", \"uid\": \"f860926b-559f-41dd-ac7b-e3e81cbf16f5\"}], {\"autosize\": false, \"height\": null, \"hovermode\": \"closest\", \"showlegend\": false, \"width\": null, \"xaxis\": {\"mirror\": \"allticks\", \"rangemode\": \"tozero\", \"showgrid\": false, \"showline\": true, \"showticklabels\": true, \"tickmode\": \"array\", \"ticks\": \"outside\", \"ticktext\": [\"2\", \"3\", \"4\", \"0\", \"1\"], \"tickvals\": [5, 15, 25, 35, 45], \"type\": \"linear\", \"zeroline\": false}, \"yaxis\": {\"mirror\": \"allticks\", \"rangemode\": \"tozero\", \"showgrid\": false, \"showline\": true, \"showticklabels\": true, \"ticks\": \"outside\", \"type\": \"linear\", \"zeroline\": false}}, {\"showLink\": false, \"linkText\": \"Export to plot.ly\", \"plotlyServerURL\": \"https://plot.ly\"})});</script>"
      ],
      "text/vnd.plotly.v1+html": [
       "<div id=\"2c89f2ea-d3f3-42dc-918c-c598978ee8c0\" style=\"height: infpx; width: infpx;\" class=\"plotly-graph-div\"></div><script type=\"text/javascript\">require([\"plotly\"], function(Plotly) { window.PLOTLYENV=window.PLOTLYENV || {};window.PLOTLYENV.BASE_URL=\"https://plot.ly\";Plotly.newPlot(\"2c89f2ea-d3f3-42dc-918c-c598978ee8c0\", [{\"hoverinfo\": \"text\", \"marker\": {\"color\": \"rgb(61,153,112)\"}, \"mode\": \"lines\", \"x\": [15.0, 15.0, 25.0, 25.0], \"xaxis\": \"x\", \"y\": [0.0, 0.0, 0.0, 0.0], \"yaxis\": \"y\", \"type\": \"scatter\", \"uid\": \"3cf18d83-cdc7-45d6-b754-44976f734f0c\"}, {\"hoverinfo\": \"text\", \"marker\": {\"color\": \"rgb(61,153,112)\"}, \"mode\": \"lines\", \"x\": [5.0, 5.0, 20.0, 20.0], \"xaxis\": \"x\", \"y\": [0.0, 1.4142135623730951, 1.4142135623730951, 0.0], \"yaxis\": \"y\", \"type\": \"scatter\", \"uid\": \"c93336db-2127-42df-b702-55bc642ce265\"}, {\"hoverinfo\": \"text\", \"marker\": {\"color\": \"rgb(0,116,217)\"}, \"mode\": \"lines\", \"x\": [35.0, 35.0, 45.0, 45.0], \"xaxis\": \"x\", \"y\": [0.0, 2.6457513110645907, 2.6457513110645907, 0.0], \"yaxis\": \"y\", \"type\": \"scatter\", \"uid\": \"83704a1e-49c6-4690-b6e6-5f95bcbd6d7e\"}, {\"hoverinfo\": \"text\", \"marker\": {\"color\": \"rgb(0,116,217)\"}, \"mode\": \"lines\", \"x\": [12.5, 12.5, 40.0, 40.0], \"xaxis\": \"x\", \"y\": [1.4142135623730951, 3.7416573867739413, 3.7416573867739413, 2.6457513110645907], \"yaxis\": \"y\", \"type\": \"scatter\", \"uid\": \"f860926b-559f-41dd-ac7b-e3e81cbf16f5\"}], {\"autosize\": false, \"height\": null, \"hovermode\": \"closest\", \"showlegend\": false, \"width\": null, \"xaxis\": {\"mirror\": \"allticks\", \"rangemode\": \"tozero\", \"showgrid\": false, \"showline\": true, \"showticklabels\": true, \"tickmode\": \"array\", \"ticks\": \"outside\", \"ticktext\": [\"2\", \"3\", \"4\", \"0\", \"1\"], \"tickvals\": [5, 15, 25, 35, 45], \"type\": \"linear\", \"zeroline\": false}, \"yaxis\": {\"mirror\": \"allticks\", \"rangemode\": \"tozero\", \"showgrid\": false, \"showline\": true, \"showticklabels\": true, \"ticks\": \"outside\", \"type\": \"linear\", \"zeroline\": false}}, {\"showLink\": false, \"linkText\": \"Export to plot.ly\", \"plotlyServerURL\": \"https://plot.ly\"})});</script>"
      ]
     },
     "metadata": {},
     "output_type": "display_data"
    }
   ],
   "source": [
    "import plotly.figure_factory as ff\n",
    "import numpy as np\n",
    "dendro = ff.create_dendrogram(np.array(all_vectors[:5]))\n",
    "iplot(dendro, filename='sample_dendrogram')"
   ]
  },
  {
   "cell_type": "code",
   "execution_count": 20,
   "metadata": {},
   "outputs": [
    {
     "data": {
      "application/vnd.plotly.v1+json": {
       "config": {
        "linkText": "Export to plot.ly",
        "plotlyServerURL": "https://plot.ly",
        "showLink": false
       },
       "data": [
        {
         "hoverinfo": "text",
         "marker": {
          "color": "rgb(61,153,112)"
         },
         "mode": "lines",
         "type": "scatter",
         "uid": "bee4ff83-dc3b-4d88-ae21-8fc9eb14c9f7",
         "x": [
          5,
          5,
          15,
          15
         ],
         "xaxis": "x",
         "y": [
          0,
          1.4142135623730951,
          1.4142135623730951,
          0
         ],
         "yaxis": "y"
        },
        {
         "hoverinfo": "text",
         "marker": {
          "color": "rgb(61,153,112)"
         },
         "mode": "lines",
         "type": "scatter",
         "uid": "7a336580-c521-47cd-80b1-fe51fad124b8",
         "x": [
          25,
          25,
          35,
          35
         ],
         "xaxis": "x",
         "y": [
          0,
          1,
          1,
          0
         ],
         "yaxis": "y"
        },
        {
         "hoverinfo": "text",
         "marker": {
          "color": "rgb(61,153,112)"
         },
         "mode": "lines",
         "type": "scatter",
         "uid": "4c040cac-b2a5-43d2-a360-6a9828d5dd9a",
         "x": [
          45,
          45,
          55,
          55
         ],
         "xaxis": "x",
         "y": [
          0,
          1.7320508075688772,
          1.7320508075688772,
          0
         ],
         "yaxis": "y"
        },
        {
         "hoverinfo": "text",
         "marker": {
          "color": "rgb(61,153,112)"
         },
         "mode": "lines",
         "type": "scatter",
         "uid": "cfd4208f-b3ec-41b6-8275-c4bc6eb8bc39",
         "x": [
          30,
          30,
          50,
          50
         ],
         "xaxis": "x",
         "y": [
          1,
          2,
          2,
          1.7320508075688772
         ],
         "yaxis": "y"
        },
        {
         "hoverinfo": "text",
         "marker": {
          "color": "rgb(61,153,112)"
         },
         "mode": "lines",
         "type": "scatter",
         "uid": "ec16aa8d-8463-4cd1-9b2f-2eab59ce5c8b",
         "x": [
          10,
          10,
          40,
          40
         ],
         "xaxis": "x",
         "y": [
          1.4142135623730951,
          2.6457513110645907,
          2.6457513110645907,
          2
         ],
         "yaxis": "y"
        },
        {
         "hoverinfo": "text",
         "marker": {
          "color": "rgb(255,65,54)"
         },
         "mode": "lines",
         "type": "scatter",
         "uid": "0daaec9e-f065-4a02-a86d-c1990ddf5f06",
         "x": [
          65,
          65,
          75,
          75
         ],
         "xaxis": "x",
         "y": [
          0,
          0,
          0,
          0
         ],
         "yaxis": "y"
        },
        {
         "hoverinfo": "text",
         "marker": {
          "color": "rgb(255,65,54)"
         },
         "mode": "lines",
         "type": "scatter",
         "uid": "1045a95e-1744-49e2-9e7a-b41ec4f42361",
         "x": [
          95,
          95,
          105,
          105
         ],
         "xaxis": "x",
         "y": [
          0,
          0,
          0,
          0
         ],
         "yaxis": "y"
        },
        {
         "hoverinfo": "text",
         "marker": {
          "color": "rgb(255,65,54)"
         },
         "mode": "lines",
         "type": "scatter",
         "uid": "d129a6f6-7a8b-4c47-87de-8b023b7c6417",
         "x": [
          115,
          115,
          125,
          125
         ],
         "xaxis": "x",
         "y": [
          0,
          1,
          1,
          0
         ],
         "yaxis": "y"
        },
        {
         "hoverinfo": "text",
         "marker": {
          "color": "rgb(255,65,54)"
         },
         "mode": "lines",
         "type": "scatter",
         "uid": "f191dd90-d801-47bb-b417-99a1220d47a2",
         "x": [
          100,
          100,
          120,
          120
         ],
         "xaxis": "x",
         "y": [
          0,
          1.4142135623730951,
          1.4142135623730951,
          1
         ],
         "yaxis": "y"
        },
        {
         "hoverinfo": "text",
         "marker": {
          "color": "rgb(255,65,54)"
         },
         "mode": "lines",
         "type": "scatter",
         "uid": "ee7ae0aa-c5d1-46b3-959b-ff22763a9663",
         "x": [
          85,
          85,
          110,
          110
         ],
         "xaxis": "x",
         "y": [
          0,
          1.7320508075688772,
          1.7320508075688772,
          1.4142135623730951
         ],
         "yaxis": "y"
        },
        {
         "hoverinfo": "text",
         "marker": {
          "color": "rgb(255,65,54)"
         },
         "mode": "lines",
         "type": "scatter",
         "uid": "8c2bd6d5-f0f4-4fae-8dd3-27c8117e3e9d",
         "x": [
          70,
          70,
          97.5,
          97.5
         ],
         "xaxis": "x",
         "y": [
          0,
          2,
          2,
          1.7320508075688772
         ],
         "yaxis": "y"
        },
        {
         "hoverinfo": "text",
         "marker": {
          "color": "rgb(255,65,54)"
         },
         "mode": "lines",
         "type": "scatter",
         "uid": "a1ab8b3c-9cbf-4e25-afe1-faccef19bbab",
         "x": [
          135,
          135,
          145,
          145
         ],
         "xaxis": "x",
         "y": [
          0,
          1,
          1,
          0
         ],
         "yaxis": "y"
        },
        {
         "hoverinfo": "text",
         "marker": {
          "color": "rgb(255,65,54)"
         },
         "mode": "lines",
         "type": "scatter",
         "uid": "08bb6567-21b5-4635-9116-cce4b034c09e",
         "x": [
          165,
          165,
          175,
          175
         ],
         "xaxis": "x",
         "y": [
          0,
          1,
          1,
          0
         ],
         "yaxis": "y"
        },
        {
         "hoverinfo": "text",
         "marker": {
          "color": "rgb(255,65,54)"
         },
         "mode": "lines",
         "type": "scatter",
         "uid": "f96bbaa1-6049-4799-aaef-7932a2ff3a0c",
         "x": [
          155,
          155,
          170,
          170
         ],
         "xaxis": "x",
         "y": [
          0,
          1.4142135623730951,
          1.4142135623730951,
          1
         ],
         "yaxis": "y"
        },
        {
         "hoverinfo": "text",
         "marker": {
          "color": "rgb(255,65,54)"
         },
         "mode": "lines",
         "type": "scatter",
         "uid": "80002eaf-2cfe-4036-9a4a-d6fbbe991682",
         "x": [
          140,
          140,
          162.5,
          162.5
         ],
         "xaxis": "x",
         "y": [
          1,
          2,
          2,
          1.4142135623730951
         ],
         "yaxis": "y"
        },
        {
         "hoverinfo": "text",
         "marker": {
          "color": "rgb(255,65,54)"
         },
         "mode": "lines",
         "type": "scatter",
         "uid": "a5349712-cfe9-4bd4-8009-0c5fca98e747",
         "x": [
          83.75,
          83.75,
          151.25,
          151.25
         ],
         "xaxis": "x",
         "y": [
          2,
          2.6457513110645907,
          2.6457513110645907,
          2
         ],
         "yaxis": "y"
        },
        {
         "hoverinfo": "text",
         "marker": {
          "color": "rgb(0,116,217)"
         },
         "mode": "lines",
         "type": "scatter",
         "uid": "76a13743-2616-458b-b9aa-4aca5917fc18",
         "x": [
          25,
          25,
          117.5,
          117.5
         ],
         "xaxis": "x",
         "y": [
          2.6457513110645907,
          3.4641016151377544,
          3.4641016151377544,
          2.6457513110645907
         ],
         "yaxis": "y"
        },
        {
         "hoverinfo": "text",
         "marker": {
          "color": "rgb(35,205,205)"
         },
         "mode": "lines",
         "type": "scatter",
         "uid": "6b974817-7ffa-4743-95da-263872e6bc14",
         "x": [
          185,
          185,
          195,
          195
         ],
         "xaxis": "x",
         "y": [
          0,
          1.4142135623730951,
          1.4142135623730951,
          0
         ],
         "yaxis": "y"
        },
        {
         "hoverinfo": "text",
         "marker": {
          "color": "rgb(35,205,205)"
         },
         "mode": "lines",
         "type": "scatter",
         "uid": "7476d885-9f65-454c-a768-12fe646b2c8c",
         "x": [
          205,
          205,
          215,
          215
         ],
         "xaxis": "x",
         "y": [
          0,
          1,
          1,
          0
         ],
         "yaxis": "y"
        },
        {
         "hoverinfo": "text",
         "marker": {
          "color": "rgb(35,205,205)"
         },
         "mode": "lines",
         "type": "scatter",
         "uid": "785e31bc-5702-4615-b9ec-1ba6b67a5d96",
         "x": [
          225,
          225,
          235,
          235
         ],
         "xaxis": "x",
         "y": [
          0,
          1.4142135623730951,
          1.4142135623730951,
          0
         ],
         "yaxis": "y"
        },
        {
         "hoverinfo": "text",
         "marker": {
          "color": "rgb(35,205,205)"
         },
         "mode": "lines",
         "type": "scatter",
         "uid": "4dd6adf7-2963-4e0a-a88c-647e4386a8ca",
         "x": [
          210,
          210,
          230,
          230
         ],
         "xaxis": "x",
         "y": [
          1,
          1.7320508075688772,
          1.7320508075688772,
          1.4142135623730951
         ],
         "yaxis": "y"
        },
        {
         "hoverinfo": "text",
         "marker": {
          "color": "rgb(35,205,205)"
         },
         "mode": "lines",
         "type": "scatter",
         "uid": "c5a9164b-2e8d-4b5a-8ea8-1b729a115c42",
         "x": [
          190,
          190,
          220,
          220
         ],
         "xaxis": "x",
         "y": [
          1.4142135623730951,
          2.23606797749979,
          2.23606797749979,
          1.7320508075688772
         ],
         "yaxis": "y"
        },
        {
         "hoverinfo": "text",
         "marker": {
          "color": "rgb(133,20,75)"
         },
         "mode": "lines",
         "type": "scatter",
         "uid": "b481d6fe-86f6-40aa-9d70-8565556f3723",
         "x": [
          275,
          275,
          285,
          285
         ],
         "xaxis": "x",
         "y": [
          0,
          0,
          0,
          0
         ],
         "yaxis": "y"
        },
        {
         "hoverinfo": "text",
         "marker": {
          "color": "rgb(133,20,75)"
         },
         "mode": "lines",
         "type": "scatter",
         "uid": "1f0f4cc2-4d65-4c3b-90af-9038e2c0cda5",
         "x": [
          265,
          265,
          280,
          280
         ],
         "xaxis": "x",
         "y": [
          0,
          0,
          0,
          0
         ],
         "yaxis": "y"
        },
        {
         "hoverinfo": "text",
         "marker": {
          "color": "rgb(133,20,75)"
         },
         "mode": "lines",
         "type": "scatter",
         "uid": "07654804-5d3d-46fe-bf0f-c9da678cd9ae",
         "x": [
          255,
          255,
          272.5,
          272.5
         ],
         "xaxis": "x",
         "y": [
          0,
          0,
          0,
          0
         ],
         "yaxis": "y"
        },
        {
         "hoverinfo": "text",
         "marker": {
          "color": "rgb(133,20,75)"
         },
         "mode": "lines",
         "type": "scatter",
         "uid": "ff0430d9-ad3d-4f38-a80f-e5e5345eba7a",
         "x": [
          245,
          245,
          263.75,
          263.75
         ],
         "xaxis": "x",
         "y": [
          0,
          0,
          0,
          0
         ],
         "yaxis": "y"
        },
        {
         "hoverinfo": "text",
         "marker": {
          "color": "rgb(133,20,75)"
         },
         "mode": "lines",
         "type": "scatter",
         "uid": "b0cd519e-b5a3-4721-bb45-f39d40c51c83",
         "x": [
          295,
          295,
          305,
          305
         ],
         "xaxis": "x",
         "y": [
          0,
          0,
          0,
          0
         ],
         "yaxis": "y"
        },
        {
         "hoverinfo": "text",
         "marker": {
          "color": "rgb(133,20,75)"
         },
         "mode": "lines",
         "type": "scatter",
         "uid": "5173379e-daa3-4201-98b9-35ca56e8eb5a",
         "x": [
          254.375,
          254.375,
          300,
          300
         ],
         "xaxis": "x",
         "y": [
          0,
          1,
          1,
          0
         ],
         "yaxis": "y"
        },
        {
         "hoverinfo": "text",
         "marker": {
          "color": "rgb(133,20,75)"
         },
         "mode": "lines",
         "type": "scatter",
         "uid": "9cf0a3b0-e6e5-4e90-87e4-93e5a317d21d",
         "x": [
          365,
          365,
          375,
          375
         ],
         "xaxis": "x",
         "y": [
          0,
          0,
          0,
          0
         ],
         "yaxis": "y"
        },
        {
         "hoverinfo": "text",
         "marker": {
          "color": "rgb(133,20,75)"
         },
         "mode": "lines",
         "type": "scatter",
         "uid": "0a55e7e1-befc-48be-b33e-1f2af9b8820e",
         "x": [
          355,
          355,
          370,
          370
         ],
         "xaxis": "x",
         "y": [
          0,
          0,
          0,
          0
         ],
         "yaxis": "y"
        },
        {
         "hoverinfo": "text",
         "marker": {
          "color": "rgb(133,20,75)"
         },
         "mode": "lines",
         "type": "scatter",
         "uid": "ab02f4be-67b4-4c94-a4bb-b5c50f101b41",
         "x": [
          345,
          345,
          362.5,
          362.5
         ],
         "xaxis": "x",
         "y": [
          0,
          0,
          0,
          0
         ],
         "yaxis": "y"
        },
        {
         "hoverinfo": "text",
         "marker": {
          "color": "rgb(133,20,75)"
         },
         "mode": "lines",
         "type": "scatter",
         "uid": "fe551a54-3ab1-4fe0-bd71-0383e55c14a7",
         "x": [
          335,
          335,
          353.75,
          353.75
         ],
         "xaxis": "x",
         "y": [
          0,
          0,
          0,
          0
         ],
         "yaxis": "y"
        },
        {
         "hoverinfo": "text",
         "marker": {
          "color": "rgb(133,20,75)"
         },
         "mode": "lines",
         "type": "scatter",
         "uid": "4486ddd5-8259-4e83-bd16-6d131eb8e6ab",
         "x": [
          325,
          325,
          344.375,
          344.375
         ],
         "xaxis": "x",
         "y": [
          0,
          0,
          0,
          0
         ],
         "yaxis": "y"
        },
        {
         "hoverinfo": "text",
         "marker": {
          "color": "rgb(133,20,75)"
         },
         "mode": "lines",
         "type": "scatter",
         "uid": "70a84ccf-a35b-4c7d-80a6-5812151d200f",
         "x": [
          315,
          315,
          334.6875,
          334.6875
         ],
         "xaxis": "x",
         "y": [
          0,
          1.4142135623730951,
          1.4142135623730951,
          0
         ],
         "yaxis": "y"
        },
        {
         "hoverinfo": "text",
         "marker": {
          "color": "rgb(133,20,75)"
         },
         "mode": "lines",
         "type": "scatter",
         "uid": "33be4804-c2b6-4f50-9514-4621fec4c9f9",
         "x": [
          277.1875,
          277.1875,
          324.84375,
          324.84375
         ],
         "xaxis": "x",
         "y": [
          1,
          2.23606797749979,
          2.23606797749979,
          1.4142135623730951
         ],
         "yaxis": "y"
        },
        {
         "hoverinfo": "text",
         "marker": {
          "color": "rgb(0,116,217)"
         },
         "mode": "lines",
         "type": "scatter",
         "uid": "ba2a1fb9-5afc-4b3e-91f5-f4abcf38b178",
         "x": [
          205,
          205,
          301.015625,
          301.015625
         ],
         "xaxis": "x",
         "y": [
          2.23606797749979,
          3,
          3,
          2.23606797749979
         ],
         "yaxis": "y"
        },
        {
         "hoverinfo": "text",
         "marker": {
          "color": "rgb(255,220,0)"
         },
         "mode": "lines",
         "type": "scatter",
         "uid": "ffa94756-e631-4f67-adf7-8d1ac7f650ac",
         "x": [
          385,
          385,
          395,
          395
         ],
         "xaxis": "x",
         "y": [
          0,
          1,
          1,
          0
         ],
         "yaxis": "y"
        },
        {
         "hoverinfo": "text",
         "marker": {
          "color": "rgb(40,35,35)"
         },
         "mode": "lines",
         "type": "scatter",
         "uid": "323f255d-ca22-4ea4-b06d-2751ff712286",
         "x": [
          415,
          415,
          425,
          425
         ],
         "xaxis": "x",
         "y": [
          0,
          1.7320508075688772,
          1.7320508075688772,
          0
         ],
         "yaxis": "y"
        },
        {
         "hoverinfo": "text",
         "marker": {
          "color": "rgb(40,35,35)"
         },
         "mode": "lines",
         "type": "scatter",
         "uid": "87420843-b504-47d6-bf61-cf8c61c24496",
         "x": [
          405,
          405,
          420,
          420
         ],
         "xaxis": "x",
         "y": [
          0,
          2,
          2,
          1.7320508075688772
         ],
         "yaxis": "y"
        },
        {
         "hoverinfo": "text",
         "marker": {
          "color": "rgb(61,153,112)"
         },
         "mode": "lines",
         "type": "scatter",
         "uid": "8e2ca893-0ab7-4d20-ba93-2c22f78da0bc",
         "x": [
          445,
          445,
          455,
          455
         ],
         "xaxis": "x",
         "y": [
          0,
          1,
          1,
          0
         ],
         "yaxis": "y"
        },
        {
         "hoverinfo": "text",
         "marker": {
          "color": "rgb(61,153,112)"
         },
         "mode": "lines",
         "type": "scatter",
         "uid": "539dc3ba-071b-4c00-b207-1155a1fd22a8",
         "x": [
          435,
          435,
          450,
          450
         ],
         "xaxis": "x",
         "y": [
          0,
          1.4142135623730951,
          1.4142135623730951,
          1
         ],
         "yaxis": "y"
        },
        {
         "hoverinfo": "text",
         "marker": {
          "color": "rgb(61,153,112)"
         },
         "mode": "lines",
         "type": "scatter",
         "uid": "63eb16cd-cc5a-47c6-bb78-7b6667092753",
         "x": [
          465,
          465,
          475,
          475
         ],
         "xaxis": "x",
         "y": [
          0,
          0,
          0,
          0
         ],
         "yaxis": "y"
        },
        {
         "hoverinfo": "text",
         "marker": {
          "color": "rgb(61,153,112)"
         },
         "mode": "lines",
         "type": "scatter",
         "uid": "52c11a98-9277-40ec-9746-3345b1e3909e",
         "x": [
          485,
          485,
          495,
          495
         ],
         "xaxis": "x",
         "y": [
          0,
          1,
          1,
          0
         ],
         "yaxis": "y"
        },
        {
         "hoverinfo": "text",
         "marker": {
          "color": "rgb(61,153,112)"
         },
         "mode": "lines",
         "type": "scatter",
         "uid": "764ee2c2-ba4b-440f-89e7-f9d4c0a667d6",
         "x": [
          470,
          470,
          490,
          490
         ],
         "xaxis": "x",
         "y": [
          0,
          1.4142135623730951,
          1.4142135623730951,
          1
         ],
         "yaxis": "y"
        },
        {
         "hoverinfo": "text",
         "marker": {
          "color": "rgb(61,153,112)"
         },
         "mode": "lines",
         "type": "scatter",
         "uid": "27046129-225a-43a3-be0a-ed54cf1d5f66",
         "x": [
          442.5,
          442.5,
          480,
          480
         ],
         "xaxis": "x",
         "y": [
          1.4142135623730951,
          2.23606797749979,
          2.23606797749979,
          1.4142135623730951
         ],
         "yaxis": "y"
        },
        {
         "hoverinfo": "text",
         "marker": {
          "color": "rgb(0,116,217)"
         },
         "mode": "lines",
         "type": "scatter",
         "uid": "86e74999-52ab-43a6-acb3-458bf1581267",
         "x": [
          412.5,
          412.5,
          461.25,
          461.25
         ],
         "xaxis": "x",
         "y": [
          2,
          3,
          3,
          2.23606797749979
         ],
         "yaxis": "y"
        },
        {
         "hoverinfo": "text",
         "marker": {
          "color": "rgb(0,116,217)"
         },
         "mode": "lines",
         "type": "scatter",
         "uid": "b02d8c7a-473b-4891-b212-83066b15bf67",
         "x": [
          390,
          390,
          436.875,
          436.875
         ],
         "xaxis": "x",
         "y": [
          1,
          3,
          3,
          3
         ],
         "yaxis": "y"
        },
        {
         "hoverinfo": "text",
         "marker": {
          "color": "rgb(0,116,217)"
         },
         "mode": "lines",
         "type": "scatter",
         "uid": "825f0f8c-03c8-4b3b-81e5-ee53a61ef2ad",
         "x": [
          253.0078125,
          253.0078125,
          413.4375,
          413.4375
         ],
         "xaxis": "x",
         "y": [
          3,
          3.872983346207417,
          3.872983346207417,
          3
         ],
         "yaxis": "y"
        },
        {
         "hoverinfo": "text",
         "marker": {
          "color": "rgb(0,116,217)"
         },
         "mode": "lines",
         "type": "scatter",
         "uid": "375519b1-d0a2-4cfc-9cad-44031312dcfe",
         "x": [
          71.25,
          71.25,
          333.22265625,
          333.22265625
         ],
         "xaxis": "x",
         "y": [
          3.4641016151377544,
          4.123105625617661,
          4.123105625617661,
          3.872983346207417
         ],
         "yaxis": "y"
        }
       ],
       "layout": {
        "autosize": false,
        "height": null,
        "hovermode": "closest",
        "showlegend": false,
        "width": null,
        "xaxis": {
         "mirror": "allticks",
         "rangemode": "tozero",
         "showgrid": false,
         "showline": true,
         "showticklabels": true,
         "tickmode": "array",
         "ticks": "outside",
         "ticktext": [
          "19",
          "33",
          "9",
          "25",
          "12",
          "21",
          "38",
          "39",
          "24",
          "20",
          "22",
          "1",
          "18",
          "8",
          "37",
          "36",
          "40",
          "41",
          "15",
          "28",
          "17",
          "44",
          "16",
          "26",
          "46",
          "7",
          "5",
          "3",
          "4",
          "34",
          "49",
          "29",
          "45",
          "43",
          "42",
          "30",
          "2",
          "6",
          "23",
          "48",
          "27",
          "0",
          "10",
          "14",
          "11",
          "47",
          "31",
          "35",
          "13",
          "32"
         ],
         "tickvals": [
          5,
          15,
          25,
          35,
          45,
          55,
          65,
          75,
          85,
          95,
          105,
          115,
          125,
          135,
          145,
          155,
          165,
          175,
          185,
          195,
          205,
          215,
          225,
          235,
          245,
          255,
          265,
          275,
          285,
          295,
          305,
          315,
          325,
          335,
          345,
          355,
          365,
          375,
          385,
          395,
          405,
          415,
          425,
          435,
          445,
          455,
          465,
          475,
          485,
          495
         ],
         "type": "linear",
         "zeroline": false
        },
        "yaxis": {
         "mirror": "allticks",
         "rangemode": "tozero",
         "showgrid": false,
         "showline": true,
         "showticklabels": true,
         "ticks": "outside",
         "type": "linear",
         "zeroline": false
        }
       }
      },
      "text/html": [
       "<div id=\"abd10600-d1a7-4ca4-bf4e-8ac511ba7f26\" style=\"height: infpx; width: infpx;\" class=\"plotly-graph-div\"></div><script type=\"text/javascript\">require([\"plotly\"], function(Plotly) { window.PLOTLYENV=window.PLOTLYENV || {};window.PLOTLYENV.BASE_URL=\"https://plot.ly\";Plotly.newPlot(\"abd10600-d1a7-4ca4-bf4e-8ac511ba7f26\", [{\"hoverinfo\": \"text\", \"marker\": {\"color\": \"rgb(61,153,112)\"}, \"mode\": \"lines\", \"x\": [5.0, 5.0, 15.0, 15.0], \"xaxis\": \"x\", \"y\": [0.0, 1.4142135623730951, 1.4142135623730951, 0.0], \"yaxis\": \"y\", \"type\": \"scatter\", \"uid\": \"bee4ff83-dc3b-4d88-ae21-8fc9eb14c9f7\"}, {\"hoverinfo\": \"text\", \"marker\": {\"color\": \"rgb(61,153,112)\"}, \"mode\": \"lines\", \"x\": [25.0, 25.0, 35.0, 35.0], \"xaxis\": \"x\", \"y\": [0.0, 1.0, 1.0, 0.0], \"yaxis\": \"y\", \"type\": \"scatter\", \"uid\": \"7a336580-c521-47cd-80b1-fe51fad124b8\"}, {\"hoverinfo\": \"text\", \"marker\": {\"color\": \"rgb(61,153,112)\"}, \"mode\": \"lines\", \"x\": [45.0, 45.0, 55.0, 55.0], \"xaxis\": \"x\", \"y\": [0.0, 1.7320508075688772, 1.7320508075688772, 0.0], \"yaxis\": \"y\", \"type\": \"scatter\", \"uid\": \"4c040cac-b2a5-43d2-a360-6a9828d5dd9a\"}, {\"hoverinfo\": \"text\", \"marker\": {\"color\": \"rgb(61,153,112)\"}, \"mode\": \"lines\", \"x\": [30.0, 30.0, 50.0, 50.0], \"xaxis\": \"x\", \"y\": [1.0, 2.0, 2.0, 1.7320508075688772], \"yaxis\": \"y\", \"type\": \"scatter\", \"uid\": \"cfd4208f-b3ec-41b6-8275-c4bc6eb8bc39\"}, {\"hoverinfo\": \"text\", \"marker\": {\"color\": \"rgb(61,153,112)\"}, \"mode\": \"lines\", \"x\": [10.0, 10.0, 40.0, 40.0], \"xaxis\": \"x\", \"y\": [1.4142135623730951, 2.6457513110645907, 2.6457513110645907, 2.0], \"yaxis\": \"y\", \"type\": \"scatter\", \"uid\": \"ec16aa8d-8463-4cd1-9b2f-2eab59ce5c8b\"}, {\"hoverinfo\": \"text\", \"marker\": {\"color\": \"rgb(255,65,54)\"}, \"mode\": \"lines\", \"x\": [65.0, 65.0, 75.0, 75.0], \"xaxis\": \"x\", \"y\": [0.0, 0.0, 0.0, 0.0], \"yaxis\": \"y\", \"type\": \"scatter\", \"uid\": \"0daaec9e-f065-4a02-a86d-c1990ddf5f06\"}, {\"hoverinfo\": \"text\", \"marker\": {\"color\": \"rgb(255,65,54)\"}, \"mode\": \"lines\", \"x\": [95.0, 95.0, 105.0, 105.0], \"xaxis\": \"x\", \"y\": [0.0, 0.0, 0.0, 0.0], \"yaxis\": \"y\", \"type\": \"scatter\", \"uid\": \"1045a95e-1744-49e2-9e7a-b41ec4f42361\"}, {\"hoverinfo\": \"text\", \"marker\": {\"color\": \"rgb(255,65,54)\"}, \"mode\": \"lines\", \"x\": [115.0, 115.0, 125.0, 125.0], \"xaxis\": \"x\", \"y\": [0.0, 1.0, 1.0, 0.0], \"yaxis\": \"y\", \"type\": \"scatter\", \"uid\": \"d129a6f6-7a8b-4c47-87de-8b023b7c6417\"}, {\"hoverinfo\": \"text\", \"marker\": {\"color\": \"rgb(255,65,54)\"}, \"mode\": \"lines\", \"x\": [100.0, 100.0, 120.0, 120.0], \"xaxis\": \"x\", \"y\": [0.0, 1.4142135623730951, 1.4142135623730951, 1.0], \"yaxis\": \"y\", \"type\": \"scatter\", \"uid\": \"f191dd90-d801-47bb-b417-99a1220d47a2\"}, {\"hoverinfo\": \"text\", \"marker\": {\"color\": \"rgb(255,65,54)\"}, \"mode\": \"lines\", \"x\": [85.0, 85.0, 110.0, 110.0], \"xaxis\": \"x\", \"y\": [0.0, 1.7320508075688772, 1.7320508075688772, 1.4142135623730951], \"yaxis\": \"y\", \"type\": \"scatter\", \"uid\": \"ee7ae0aa-c5d1-46b3-959b-ff22763a9663\"}, {\"hoverinfo\": \"text\", \"marker\": {\"color\": \"rgb(255,65,54)\"}, \"mode\": \"lines\", \"x\": [70.0, 70.0, 97.5, 97.5], \"xaxis\": \"x\", \"y\": [0.0, 2.0, 2.0, 1.7320508075688772], \"yaxis\": \"y\", \"type\": \"scatter\", \"uid\": \"8c2bd6d5-f0f4-4fae-8dd3-27c8117e3e9d\"}, {\"hoverinfo\": \"text\", \"marker\": {\"color\": \"rgb(255,65,54)\"}, \"mode\": \"lines\", \"x\": [135.0, 135.0, 145.0, 145.0], \"xaxis\": \"x\", \"y\": [0.0, 1.0, 1.0, 0.0], \"yaxis\": \"y\", \"type\": \"scatter\", \"uid\": \"a1ab8b3c-9cbf-4e25-afe1-faccef19bbab\"}, {\"hoverinfo\": \"text\", \"marker\": {\"color\": \"rgb(255,65,54)\"}, \"mode\": \"lines\", \"x\": [165.0, 165.0, 175.0, 175.0], \"xaxis\": \"x\", \"y\": [0.0, 1.0, 1.0, 0.0], \"yaxis\": \"y\", \"type\": \"scatter\", \"uid\": \"08bb6567-21b5-4635-9116-cce4b034c09e\"}, {\"hoverinfo\": \"text\", \"marker\": {\"color\": \"rgb(255,65,54)\"}, \"mode\": \"lines\", \"x\": [155.0, 155.0, 170.0, 170.0], \"xaxis\": \"x\", \"y\": [0.0, 1.4142135623730951, 1.4142135623730951, 1.0], \"yaxis\": \"y\", \"type\": \"scatter\", \"uid\": \"f96bbaa1-6049-4799-aaef-7932a2ff3a0c\"}, {\"hoverinfo\": \"text\", \"marker\": {\"color\": \"rgb(255,65,54)\"}, \"mode\": \"lines\", \"x\": [140.0, 140.0, 162.5, 162.5], \"xaxis\": \"x\", \"y\": [1.0, 2.0, 2.0, 1.4142135623730951], \"yaxis\": \"y\", \"type\": \"scatter\", \"uid\": \"80002eaf-2cfe-4036-9a4a-d6fbbe991682\"}, {\"hoverinfo\": \"text\", \"marker\": {\"color\": \"rgb(255,65,54)\"}, \"mode\": \"lines\", \"x\": [83.75, 83.75, 151.25, 151.25], \"xaxis\": \"x\", \"y\": [2.0, 2.6457513110645907, 2.6457513110645907, 2.0], \"yaxis\": \"y\", \"type\": \"scatter\", \"uid\": \"a5349712-cfe9-4bd4-8009-0c5fca98e747\"}, {\"hoverinfo\": \"text\", \"marker\": {\"color\": \"rgb(0,116,217)\"}, \"mode\": \"lines\", \"x\": [25.0, 25.0, 117.5, 117.5], \"xaxis\": \"x\", \"y\": [2.6457513110645907, 3.4641016151377544, 3.4641016151377544, 2.6457513110645907], \"yaxis\": \"y\", \"type\": \"scatter\", \"uid\": \"76a13743-2616-458b-b9aa-4aca5917fc18\"}, {\"hoverinfo\": \"text\", \"marker\": {\"color\": \"rgb(35,205,205)\"}, \"mode\": \"lines\", \"x\": [185.0, 185.0, 195.0, 195.0], \"xaxis\": \"x\", \"y\": [0.0, 1.4142135623730951, 1.4142135623730951, 0.0], \"yaxis\": \"y\", \"type\": \"scatter\", \"uid\": \"6b974817-7ffa-4743-95da-263872e6bc14\"}, {\"hoverinfo\": \"text\", \"marker\": {\"color\": \"rgb(35,205,205)\"}, \"mode\": \"lines\", \"x\": [205.0, 205.0, 215.0, 215.0], \"xaxis\": \"x\", \"y\": [0.0, 1.0, 1.0, 0.0], \"yaxis\": \"y\", \"type\": \"scatter\", \"uid\": \"7476d885-9f65-454c-a768-12fe646b2c8c\"}, {\"hoverinfo\": \"text\", \"marker\": {\"color\": \"rgb(35,205,205)\"}, \"mode\": \"lines\", \"x\": [225.0, 225.0, 235.0, 235.0], \"xaxis\": \"x\", \"y\": [0.0, 1.4142135623730951, 1.4142135623730951, 0.0], \"yaxis\": \"y\", \"type\": \"scatter\", \"uid\": \"785e31bc-5702-4615-b9ec-1ba6b67a5d96\"}, {\"hoverinfo\": \"text\", \"marker\": {\"color\": \"rgb(35,205,205)\"}, \"mode\": \"lines\", \"x\": [210.0, 210.0, 230.0, 230.0], \"xaxis\": \"x\", \"y\": [1.0, 1.7320508075688772, 1.7320508075688772, 1.4142135623730951], \"yaxis\": \"y\", \"type\": \"scatter\", \"uid\": \"4dd6adf7-2963-4e0a-a88c-647e4386a8ca\"}, {\"hoverinfo\": \"text\", \"marker\": {\"color\": \"rgb(35,205,205)\"}, \"mode\": \"lines\", \"x\": [190.0, 190.0, 220.0, 220.0], \"xaxis\": \"x\", \"y\": [1.4142135623730951, 2.23606797749979, 2.23606797749979, 1.7320508075688772], \"yaxis\": \"y\", \"type\": \"scatter\", \"uid\": \"c5a9164b-2e8d-4b5a-8ea8-1b729a115c42\"}, {\"hoverinfo\": \"text\", \"marker\": {\"color\": \"rgb(133,20,75)\"}, \"mode\": \"lines\", \"x\": [275.0, 275.0, 285.0, 285.0], \"xaxis\": \"x\", \"y\": [0.0, 0.0, 0.0, 0.0], \"yaxis\": \"y\", \"type\": \"scatter\", \"uid\": \"b481d6fe-86f6-40aa-9d70-8565556f3723\"}, {\"hoverinfo\": \"text\", \"marker\": {\"color\": \"rgb(133,20,75)\"}, \"mode\": \"lines\", \"x\": [265.0, 265.0, 280.0, 280.0], \"xaxis\": \"x\", \"y\": [0.0, 0.0, 0.0, 0.0], \"yaxis\": \"y\", \"type\": \"scatter\", \"uid\": \"1f0f4cc2-4d65-4c3b-90af-9038e2c0cda5\"}, {\"hoverinfo\": \"text\", \"marker\": {\"color\": \"rgb(133,20,75)\"}, \"mode\": \"lines\", \"x\": [255.0, 255.0, 272.5, 272.5], \"xaxis\": \"x\", \"y\": [0.0, 0.0, 0.0, 0.0], \"yaxis\": \"y\", \"type\": \"scatter\", \"uid\": \"07654804-5d3d-46fe-bf0f-c9da678cd9ae\"}, {\"hoverinfo\": \"text\", \"marker\": {\"color\": \"rgb(133,20,75)\"}, \"mode\": \"lines\", \"x\": [245.0, 245.0, 263.75, 263.75], \"xaxis\": \"x\", \"y\": [0.0, 0.0, 0.0, 0.0], \"yaxis\": \"y\", \"type\": \"scatter\", \"uid\": \"ff0430d9-ad3d-4f38-a80f-e5e5345eba7a\"}, {\"hoverinfo\": \"text\", \"marker\": {\"color\": \"rgb(133,20,75)\"}, \"mode\": \"lines\", \"x\": [295.0, 295.0, 305.0, 305.0], \"xaxis\": \"x\", \"y\": [0.0, 0.0, 0.0, 0.0], \"yaxis\": \"y\", \"type\": \"scatter\", \"uid\": \"b0cd519e-b5a3-4721-bb45-f39d40c51c83\"}, {\"hoverinfo\": \"text\", \"marker\": {\"color\": \"rgb(133,20,75)\"}, \"mode\": \"lines\", \"x\": [254.375, 254.375, 300.0, 300.0], \"xaxis\": \"x\", \"y\": [0.0, 1.0, 1.0, 0.0], \"yaxis\": \"y\", \"type\": \"scatter\", \"uid\": \"5173379e-daa3-4201-98b9-35ca56e8eb5a\"}, {\"hoverinfo\": \"text\", \"marker\": {\"color\": \"rgb(133,20,75)\"}, \"mode\": \"lines\", \"x\": [365.0, 365.0, 375.0, 375.0], \"xaxis\": \"x\", \"y\": [0.0, 0.0, 0.0, 0.0], \"yaxis\": \"y\", \"type\": \"scatter\", \"uid\": \"9cf0a3b0-e6e5-4e90-87e4-93e5a317d21d\"}, {\"hoverinfo\": \"text\", \"marker\": {\"color\": \"rgb(133,20,75)\"}, \"mode\": \"lines\", \"x\": [355.0, 355.0, 370.0, 370.0], \"xaxis\": \"x\", \"y\": [0.0, 0.0, 0.0, 0.0], \"yaxis\": \"y\", \"type\": \"scatter\", \"uid\": \"0a55e7e1-befc-48be-b33e-1f2af9b8820e\"}, {\"hoverinfo\": \"text\", \"marker\": {\"color\": \"rgb(133,20,75)\"}, \"mode\": \"lines\", \"x\": [345.0, 345.0, 362.5, 362.5], \"xaxis\": \"x\", \"y\": [0.0, 0.0, 0.0, 0.0], \"yaxis\": \"y\", \"type\": \"scatter\", \"uid\": \"ab02f4be-67b4-4c94-a4bb-b5c50f101b41\"}, {\"hoverinfo\": \"text\", \"marker\": {\"color\": \"rgb(133,20,75)\"}, \"mode\": \"lines\", \"x\": [335.0, 335.0, 353.75, 353.75], \"xaxis\": \"x\", \"y\": [0.0, 0.0, 0.0, 0.0], \"yaxis\": \"y\", \"type\": \"scatter\", \"uid\": \"fe551a54-3ab1-4fe0-bd71-0383e55c14a7\"}, {\"hoverinfo\": \"text\", \"marker\": {\"color\": \"rgb(133,20,75)\"}, \"mode\": \"lines\", \"x\": [325.0, 325.0, 344.375, 344.375], \"xaxis\": \"x\", \"y\": [0.0, 0.0, 0.0, 0.0], \"yaxis\": \"y\", \"type\": \"scatter\", \"uid\": \"4486ddd5-8259-4e83-bd16-6d131eb8e6ab\"}, {\"hoverinfo\": \"text\", \"marker\": {\"color\": \"rgb(133,20,75)\"}, \"mode\": \"lines\", \"x\": [315.0, 315.0, 334.6875, 334.6875], \"xaxis\": \"x\", \"y\": [0.0, 1.4142135623730951, 1.4142135623730951, 0.0], \"yaxis\": \"y\", \"type\": \"scatter\", \"uid\": \"70a84ccf-a35b-4c7d-80a6-5812151d200f\"}, {\"hoverinfo\": \"text\", \"marker\": {\"color\": \"rgb(133,20,75)\"}, \"mode\": \"lines\", \"x\": [277.1875, 277.1875, 324.84375, 324.84375], \"xaxis\": \"x\", \"y\": [1.0, 2.23606797749979, 2.23606797749979, 1.4142135623730951], \"yaxis\": \"y\", \"type\": \"scatter\", \"uid\": \"33be4804-c2b6-4f50-9514-4621fec4c9f9\"}, {\"hoverinfo\": \"text\", \"marker\": {\"color\": \"rgb(0,116,217)\"}, \"mode\": \"lines\", \"x\": [205.0, 205.0, 301.015625, 301.015625], \"xaxis\": \"x\", \"y\": [2.23606797749979, 3.0, 3.0, 2.23606797749979], \"yaxis\": \"y\", \"type\": \"scatter\", \"uid\": \"ba2a1fb9-5afc-4b3e-91f5-f4abcf38b178\"}, {\"hoverinfo\": \"text\", \"marker\": {\"color\": \"rgb(255,220,0)\"}, \"mode\": \"lines\", \"x\": [385.0, 385.0, 395.0, 395.0], \"xaxis\": \"x\", \"y\": [0.0, 1.0, 1.0, 0.0], \"yaxis\": \"y\", \"type\": \"scatter\", \"uid\": \"ffa94756-e631-4f67-adf7-8d1ac7f650ac\"}, {\"hoverinfo\": \"text\", \"marker\": {\"color\": \"rgb(40,35,35)\"}, \"mode\": \"lines\", \"x\": [415.0, 415.0, 425.0, 425.0], \"xaxis\": \"x\", \"y\": [0.0, 1.7320508075688772, 1.7320508075688772, 0.0], \"yaxis\": \"y\", \"type\": \"scatter\", \"uid\": \"323f255d-ca22-4ea4-b06d-2751ff712286\"}, {\"hoverinfo\": \"text\", \"marker\": {\"color\": \"rgb(40,35,35)\"}, \"mode\": \"lines\", \"x\": [405.0, 405.0, 420.0, 420.0], \"xaxis\": \"x\", \"y\": [0.0, 2.0, 2.0, 1.7320508075688772], \"yaxis\": \"y\", \"type\": \"scatter\", \"uid\": \"87420843-b504-47d6-bf61-cf8c61c24496\"}, {\"hoverinfo\": \"text\", \"marker\": {\"color\": \"rgb(61,153,112)\"}, \"mode\": \"lines\", \"x\": [445.0, 445.0, 455.0, 455.0], \"xaxis\": \"x\", \"y\": [0.0, 1.0, 1.0, 0.0], \"yaxis\": \"y\", \"type\": \"scatter\", \"uid\": \"8e2ca893-0ab7-4d20-ba93-2c22f78da0bc\"}, {\"hoverinfo\": \"text\", \"marker\": {\"color\": \"rgb(61,153,112)\"}, \"mode\": \"lines\", \"x\": [435.0, 435.0, 450.0, 450.0], \"xaxis\": \"x\", \"y\": [0.0, 1.4142135623730951, 1.4142135623730951, 1.0], \"yaxis\": \"y\", \"type\": \"scatter\", \"uid\": \"539dc3ba-071b-4c00-b207-1155a1fd22a8\"}, {\"hoverinfo\": \"text\", \"marker\": {\"color\": \"rgb(61,153,112)\"}, \"mode\": \"lines\", \"x\": [465.0, 465.0, 475.0, 475.0], \"xaxis\": \"x\", \"y\": [0.0, 0.0, 0.0, 0.0], \"yaxis\": \"y\", \"type\": \"scatter\", \"uid\": \"63eb16cd-cc5a-47c6-bb78-7b6667092753\"}, {\"hoverinfo\": \"text\", \"marker\": {\"color\": \"rgb(61,153,112)\"}, \"mode\": \"lines\", \"x\": [485.0, 485.0, 495.0, 495.0], \"xaxis\": \"x\", \"y\": [0.0, 1.0, 1.0, 0.0], \"yaxis\": \"y\", \"type\": \"scatter\", \"uid\": \"52c11a98-9277-40ec-9746-3345b1e3909e\"}, {\"hoverinfo\": \"text\", \"marker\": {\"color\": \"rgb(61,153,112)\"}, \"mode\": \"lines\", \"x\": [470.0, 470.0, 490.0, 490.0], \"xaxis\": \"x\", \"y\": [0.0, 1.4142135623730951, 1.4142135623730951, 1.0], \"yaxis\": \"y\", \"type\": \"scatter\", \"uid\": \"764ee2c2-ba4b-440f-89e7-f9d4c0a667d6\"}, {\"hoverinfo\": \"text\", \"marker\": {\"color\": \"rgb(61,153,112)\"}, \"mode\": \"lines\", \"x\": [442.5, 442.5, 480.0, 480.0], \"xaxis\": \"x\", \"y\": [1.4142135623730951, 2.23606797749979, 2.23606797749979, 1.4142135623730951], \"yaxis\": \"y\", \"type\": \"scatter\", \"uid\": \"27046129-225a-43a3-be0a-ed54cf1d5f66\"}, {\"hoverinfo\": \"text\", \"marker\": {\"color\": \"rgb(0,116,217)\"}, \"mode\": \"lines\", \"x\": [412.5, 412.5, 461.25, 461.25], \"xaxis\": \"x\", \"y\": [2.0, 3.0, 3.0, 2.23606797749979], \"yaxis\": \"y\", \"type\": \"scatter\", \"uid\": \"86e74999-52ab-43a6-acb3-458bf1581267\"}, {\"hoverinfo\": \"text\", \"marker\": {\"color\": \"rgb(0,116,217)\"}, \"mode\": \"lines\", \"x\": [390.0, 390.0, 436.875, 436.875], \"xaxis\": \"x\", \"y\": [1.0, 3.0, 3.0, 3.0], \"yaxis\": \"y\", \"type\": \"scatter\", \"uid\": \"b02d8c7a-473b-4891-b212-83066b15bf67\"}, {\"hoverinfo\": \"text\", \"marker\": {\"color\": \"rgb(0,116,217)\"}, \"mode\": \"lines\", \"x\": [253.0078125, 253.0078125, 413.4375, 413.4375], \"xaxis\": \"x\", \"y\": [3.0, 3.872983346207417, 3.872983346207417, 3.0], \"yaxis\": \"y\", \"type\": \"scatter\", \"uid\": \"825f0f8c-03c8-4b3b-81e5-ee53a61ef2ad\"}, {\"hoverinfo\": \"text\", \"marker\": {\"color\": \"rgb(0,116,217)\"}, \"mode\": \"lines\", \"x\": [71.25, 71.25, 333.22265625, 333.22265625], \"xaxis\": \"x\", \"y\": [3.4641016151377544, 4.123105625617661, 4.123105625617661, 3.872983346207417], \"yaxis\": \"y\", \"type\": \"scatter\", \"uid\": \"375519b1-d0a2-4cfc-9cad-44031312dcfe\"}], {\"autosize\": false, \"height\": null, \"hovermode\": \"closest\", \"showlegend\": false, \"width\": null, \"xaxis\": {\"mirror\": \"allticks\", \"rangemode\": \"tozero\", \"showgrid\": false, \"showline\": true, \"showticklabels\": true, \"tickmode\": \"array\", \"ticks\": \"outside\", \"ticktext\": [\"19\", \"33\", \"9\", \"25\", \"12\", \"21\", \"38\", \"39\", \"24\", \"20\", \"22\", \"1\", \"18\", \"8\", \"37\", \"36\", \"40\", \"41\", \"15\", \"28\", \"17\", \"44\", \"16\", \"26\", \"46\", \"7\", \"5\", \"3\", \"4\", \"34\", \"49\", \"29\", \"45\", \"43\", \"42\", \"30\", \"2\", \"6\", \"23\", \"48\", \"27\", \"0\", \"10\", \"14\", \"11\", \"47\", \"31\", \"35\", \"13\", \"32\"], \"tickvals\": [5, 15, 25, 35, 45, 55, 65, 75, 85, 95, 105, 115, 125, 135, 145, 155, 165, 175, 185, 195, 205, 215, 225, 235, 245, 255, 265, 275, 285, 295, 305, 315, 325, 335, 345, 355, 365, 375, 385, 395, 405, 415, 425, 435, 445, 455, 465, 475, 485, 495], \"type\": \"linear\", \"zeroline\": false}, \"yaxis\": {\"mirror\": \"allticks\", \"rangemode\": \"tozero\", \"showgrid\": false, \"showline\": true, \"showticklabels\": true, \"ticks\": \"outside\", \"type\": \"linear\", \"zeroline\": false}}, {\"showLink\": false, \"linkText\": \"Export to plot.ly\", \"plotlyServerURL\": \"https://plot.ly\"})});</script>"
      ],
      "text/vnd.plotly.v1+html": [
       "<div id=\"abd10600-d1a7-4ca4-bf4e-8ac511ba7f26\" style=\"height: infpx; width: infpx;\" class=\"plotly-graph-div\"></div><script type=\"text/javascript\">require([\"plotly\"], function(Plotly) { window.PLOTLYENV=window.PLOTLYENV || {};window.PLOTLYENV.BASE_URL=\"https://plot.ly\";Plotly.newPlot(\"abd10600-d1a7-4ca4-bf4e-8ac511ba7f26\", [{\"hoverinfo\": \"text\", \"marker\": {\"color\": \"rgb(61,153,112)\"}, \"mode\": \"lines\", \"x\": [5.0, 5.0, 15.0, 15.0], \"xaxis\": \"x\", \"y\": [0.0, 1.4142135623730951, 1.4142135623730951, 0.0], \"yaxis\": \"y\", \"type\": \"scatter\", \"uid\": \"bee4ff83-dc3b-4d88-ae21-8fc9eb14c9f7\"}, {\"hoverinfo\": \"text\", \"marker\": {\"color\": \"rgb(61,153,112)\"}, \"mode\": \"lines\", \"x\": [25.0, 25.0, 35.0, 35.0], \"xaxis\": \"x\", \"y\": [0.0, 1.0, 1.0, 0.0], \"yaxis\": \"y\", \"type\": \"scatter\", \"uid\": \"7a336580-c521-47cd-80b1-fe51fad124b8\"}, {\"hoverinfo\": \"text\", \"marker\": {\"color\": \"rgb(61,153,112)\"}, \"mode\": \"lines\", \"x\": [45.0, 45.0, 55.0, 55.0], \"xaxis\": \"x\", \"y\": [0.0, 1.7320508075688772, 1.7320508075688772, 0.0], \"yaxis\": \"y\", \"type\": \"scatter\", \"uid\": \"4c040cac-b2a5-43d2-a360-6a9828d5dd9a\"}, {\"hoverinfo\": \"text\", \"marker\": {\"color\": \"rgb(61,153,112)\"}, \"mode\": \"lines\", \"x\": [30.0, 30.0, 50.0, 50.0], \"xaxis\": \"x\", \"y\": [1.0, 2.0, 2.0, 1.7320508075688772], \"yaxis\": \"y\", \"type\": \"scatter\", \"uid\": \"cfd4208f-b3ec-41b6-8275-c4bc6eb8bc39\"}, {\"hoverinfo\": \"text\", \"marker\": {\"color\": \"rgb(61,153,112)\"}, \"mode\": \"lines\", \"x\": [10.0, 10.0, 40.0, 40.0], \"xaxis\": \"x\", \"y\": [1.4142135623730951, 2.6457513110645907, 2.6457513110645907, 2.0], \"yaxis\": \"y\", \"type\": \"scatter\", \"uid\": \"ec16aa8d-8463-4cd1-9b2f-2eab59ce5c8b\"}, {\"hoverinfo\": \"text\", \"marker\": {\"color\": \"rgb(255,65,54)\"}, \"mode\": \"lines\", \"x\": [65.0, 65.0, 75.0, 75.0], \"xaxis\": \"x\", \"y\": [0.0, 0.0, 0.0, 0.0], \"yaxis\": \"y\", \"type\": \"scatter\", \"uid\": \"0daaec9e-f065-4a02-a86d-c1990ddf5f06\"}, {\"hoverinfo\": \"text\", \"marker\": {\"color\": \"rgb(255,65,54)\"}, \"mode\": \"lines\", \"x\": [95.0, 95.0, 105.0, 105.0], \"xaxis\": \"x\", \"y\": [0.0, 0.0, 0.0, 0.0], \"yaxis\": \"y\", \"type\": \"scatter\", \"uid\": \"1045a95e-1744-49e2-9e7a-b41ec4f42361\"}, {\"hoverinfo\": \"text\", \"marker\": {\"color\": \"rgb(255,65,54)\"}, \"mode\": \"lines\", \"x\": [115.0, 115.0, 125.0, 125.0], \"xaxis\": \"x\", \"y\": [0.0, 1.0, 1.0, 0.0], \"yaxis\": \"y\", \"type\": \"scatter\", \"uid\": \"d129a6f6-7a8b-4c47-87de-8b023b7c6417\"}, {\"hoverinfo\": \"text\", \"marker\": {\"color\": \"rgb(255,65,54)\"}, \"mode\": \"lines\", \"x\": [100.0, 100.0, 120.0, 120.0], \"xaxis\": \"x\", \"y\": [0.0, 1.4142135623730951, 1.4142135623730951, 1.0], \"yaxis\": \"y\", \"type\": \"scatter\", \"uid\": \"f191dd90-d801-47bb-b417-99a1220d47a2\"}, {\"hoverinfo\": \"text\", \"marker\": {\"color\": \"rgb(255,65,54)\"}, \"mode\": \"lines\", \"x\": [85.0, 85.0, 110.0, 110.0], \"xaxis\": \"x\", \"y\": [0.0, 1.7320508075688772, 1.7320508075688772, 1.4142135623730951], \"yaxis\": \"y\", \"type\": \"scatter\", \"uid\": \"ee7ae0aa-c5d1-46b3-959b-ff22763a9663\"}, {\"hoverinfo\": \"text\", \"marker\": {\"color\": \"rgb(255,65,54)\"}, \"mode\": \"lines\", \"x\": [70.0, 70.0, 97.5, 97.5], \"xaxis\": \"x\", \"y\": [0.0, 2.0, 2.0, 1.7320508075688772], \"yaxis\": \"y\", \"type\": \"scatter\", \"uid\": \"8c2bd6d5-f0f4-4fae-8dd3-27c8117e3e9d\"}, {\"hoverinfo\": \"text\", \"marker\": {\"color\": \"rgb(255,65,54)\"}, \"mode\": \"lines\", \"x\": [135.0, 135.0, 145.0, 145.0], \"xaxis\": \"x\", \"y\": [0.0, 1.0, 1.0, 0.0], \"yaxis\": \"y\", \"type\": \"scatter\", \"uid\": \"a1ab8b3c-9cbf-4e25-afe1-faccef19bbab\"}, {\"hoverinfo\": \"text\", \"marker\": {\"color\": \"rgb(255,65,54)\"}, \"mode\": \"lines\", \"x\": [165.0, 165.0, 175.0, 175.0], \"xaxis\": \"x\", \"y\": [0.0, 1.0, 1.0, 0.0], \"yaxis\": \"y\", \"type\": \"scatter\", \"uid\": \"08bb6567-21b5-4635-9116-cce4b034c09e\"}, {\"hoverinfo\": \"text\", \"marker\": {\"color\": \"rgb(255,65,54)\"}, \"mode\": \"lines\", \"x\": [155.0, 155.0, 170.0, 170.0], \"xaxis\": \"x\", \"y\": [0.0, 1.4142135623730951, 1.4142135623730951, 1.0], \"yaxis\": \"y\", \"type\": \"scatter\", \"uid\": \"f96bbaa1-6049-4799-aaef-7932a2ff3a0c\"}, {\"hoverinfo\": \"text\", \"marker\": {\"color\": \"rgb(255,65,54)\"}, \"mode\": \"lines\", \"x\": [140.0, 140.0, 162.5, 162.5], \"xaxis\": \"x\", \"y\": [1.0, 2.0, 2.0, 1.4142135623730951], \"yaxis\": \"y\", \"type\": \"scatter\", \"uid\": \"80002eaf-2cfe-4036-9a4a-d6fbbe991682\"}, {\"hoverinfo\": \"text\", \"marker\": {\"color\": \"rgb(255,65,54)\"}, \"mode\": \"lines\", \"x\": [83.75, 83.75, 151.25, 151.25], \"xaxis\": \"x\", \"y\": [2.0, 2.6457513110645907, 2.6457513110645907, 2.0], \"yaxis\": \"y\", \"type\": \"scatter\", \"uid\": \"a5349712-cfe9-4bd4-8009-0c5fca98e747\"}, {\"hoverinfo\": \"text\", \"marker\": {\"color\": \"rgb(0,116,217)\"}, \"mode\": \"lines\", \"x\": [25.0, 25.0, 117.5, 117.5], \"xaxis\": \"x\", \"y\": [2.6457513110645907, 3.4641016151377544, 3.4641016151377544, 2.6457513110645907], \"yaxis\": \"y\", \"type\": \"scatter\", \"uid\": \"76a13743-2616-458b-b9aa-4aca5917fc18\"}, {\"hoverinfo\": \"text\", \"marker\": {\"color\": \"rgb(35,205,205)\"}, \"mode\": \"lines\", \"x\": [185.0, 185.0, 195.0, 195.0], \"xaxis\": \"x\", \"y\": [0.0, 1.4142135623730951, 1.4142135623730951, 0.0], \"yaxis\": \"y\", \"type\": \"scatter\", \"uid\": \"6b974817-7ffa-4743-95da-263872e6bc14\"}, {\"hoverinfo\": \"text\", \"marker\": {\"color\": \"rgb(35,205,205)\"}, \"mode\": \"lines\", \"x\": [205.0, 205.0, 215.0, 215.0], \"xaxis\": \"x\", \"y\": [0.0, 1.0, 1.0, 0.0], \"yaxis\": \"y\", \"type\": \"scatter\", \"uid\": \"7476d885-9f65-454c-a768-12fe646b2c8c\"}, {\"hoverinfo\": \"text\", \"marker\": {\"color\": \"rgb(35,205,205)\"}, \"mode\": \"lines\", \"x\": [225.0, 225.0, 235.0, 235.0], \"xaxis\": \"x\", \"y\": [0.0, 1.4142135623730951, 1.4142135623730951, 0.0], \"yaxis\": \"y\", \"type\": \"scatter\", \"uid\": \"785e31bc-5702-4615-b9ec-1ba6b67a5d96\"}, {\"hoverinfo\": \"text\", \"marker\": {\"color\": \"rgb(35,205,205)\"}, \"mode\": \"lines\", \"x\": [210.0, 210.0, 230.0, 230.0], \"xaxis\": \"x\", \"y\": [1.0, 1.7320508075688772, 1.7320508075688772, 1.4142135623730951], \"yaxis\": \"y\", \"type\": \"scatter\", \"uid\": \"4dd6adf7-2963-4e0a-a88c-647e4386a8ca\"}, {\"hoverinfo\": \"text\", \"marker\": {\"color\": \"rgb(35,205,205)\"}, \"mode\": \"lines\", \"x\": [190.0, 190.0, 220.0, 220.0], \"xaxis\": \"x\", \"y\": [1.4142135623730951, 2.23606797749979, 2.23606797749979, 1.7320508075688772], \"yaxis\": \"y\", \"type\": \"scatter\", \"uid\": \"c5a9164b-2e8d-4b5a-8ea8-1b729a115c42\"}, {\"hoverinfo\": \"text\", \"marker\": {\"color\": \"rgb(133,20,75)\"}, \"mode\": \"lines\", \"x\": [275.0, 275.0, 285.0, 285.0], \"xaxis\": \"x\", \"y\": [0.0, 0.0, 0.0, 0.0], \"yaxis\": \"y\", \"type\": \"scatter\", \"uid\": \"b481d6fe-86f6-40aa-9d70-8565556f3723\"}, {\"hoverinfo\": \"text\", \"marker\": {\"color\": \"rgb(133,20,75)\"}, \"mode\": \"lines\", \"x\": [265.0, 265.0, 280.0, 280.0], \"xaxis\": \"x\", \"y\": [0.0, 0.0, 0.0, 0.0], \"yaxis\": \"y\", \"type\": \"scatter\", \"uid\": \"1f0f4cc2-4d65-4c3b-90af-9038e2c0cda5\"}, {\"hoverinfo\": \"text\", \"marker\": {\"color\": \"rgb(133,20,75)\"}, \"mode\": \"lines\", \"x\": [255.0, 255.0, 272.5, 272.5], \"xaxis\": \"x\", \"y\": [0.0, 0.0, 0.0, 0.0], \"yaxis\": \"y\", \"type\": \"scatter\", \"uid\": \"07654804-5d3d-46fe-bf0f-c9da678cd9ae\"}, {\"hoverinfo\": \"text\", \"marker\": {\"color\": \"rgb(133,20,75)\"}, \"mode\": \"lines\", \"x\": [245.0, 245.0, 263.75, 263.75], \"xaxis\": \"x\", \"y\": [0.0, 0.0, 0.0, 0.0], \"yaxis\": \"y\", \"type\": \"scatter\", \"uid\": \"ff0430d9-ad3d-4f38-a80f-e5e5345eba7a\"}, {\"hoverinfo\": \"text\", \"marker\": {\"color\": \"rgb(133,20,75)\"}, \"mode\": \"lines\", \"x\": [295.0, 295.0, 305.0, 305.0], \"xaxis\": \"x\", \"y\": [0.0, 0.0, 0.0, 0.0], \"yaxis\": \"y\", \"type\": \"scatter\", \"uid\": \"b0cd519e-b5a3-4721-bb45-f39d40c51c83\"}, {\"hoverinfo\": \"text\", \"marker\": {\"color\": \"rgb(133,20,75)\"}, \"mode\": \"lines\", \"x\": [254.375, 254.375, 300.0, 300.0], \"xaxis\": \"x\", \"y\": [0.0, 1.0, 1.0, 0.0], \"yaxis\": \"y\", \"type\": \"scatter\", \"uid\": \"5173379e-daa3-4201-98b9-35ca56e8eb5a\"}, {\"hoverinfo\": \"text\", \"marker\": {\"color\": \"rgb(133,20,75)\"}, \"mode\": \"lines\", \"x\": [365.0, 365.0, 375.0, 375.0], \"xaxis\": \"x\", \"y\": [0.0, 0.0, 0.0, 0.0], \"yaxis\": \"y\", \"type\": \"scatter\", \"uid\": \"9cf0a3b0-e6e5-4e90-87e4-93e5a317d21d\"}, {\"hoverinfo\": \"text\", \"marker\": {\"color\": \"rgb(133,20,75)\"}, \"mode\": \"lines\", \"x\": [355.0, 355.0, 370.0, 370.0], \"xaxis\": \"x\", \"y\": [0.0, 0.0, 0.0, 0.0], \"yaxis\": \"y\", \"type\": \"scatter\", \"uid\": \"0a55e7e1-befc-48be-b33e-1f2af9b8820e\"}, {\"hoverinfo\": \"text\", \"marker\": {\"color\": \"rgb(133,20,75)\"}, \"mode\": \"lines\", \"x\": [345.0, 345.0, 362.5, 362.5], \"xaxis\": \"x\", \"y\": [0.0, 0.0, 0.0, 0.0], \"yaxis\": \"y\", \"type\": \"scatter\", \"uid\": \"ab02f4be-67b4-4c94-a4bb-b5c50f101b41\"}, {\"hoverinfo\": \"text\", \"marker\": {\"color\": \"rgb(133,20,75)\"}, \"mode\": \"lines\", \"x\": [335.0, 335.0, 353.75, 353.75], \"xaxis\": \"x\", \"y\": [0.0, 0.0, 0.0, 0.0], \"yaxis\": \"y\", \"type\": \"scatter\", \"uid\": \"fe551a54-3ab1-4fe0-bd71-0383e55c14a7\"}, {\"hoverinfo\": \"text\", \"marker\": {\"color\": \"rgb(133,20,75)\"}, \"mode\": \"lines\", \"x\": [325.0, 325.0, 344.375, 344.375], \"xaxis\": \"x\", \"y\": [0.0, 0.0, 0.0, 0.0], \"yaxis\": \"y\", \"type\": \"scatter\", \"uid\": \"4486ddd5-8259-4e83-bd16-6d131eb8e6ab\"}, {\"hoverinfo\": \"text\", \"marker\": {\"color\": \"rgb(133,20,75)\"}, \"mode\": \"lines\", \"x\": [315.0, 315.0, 334.6875, 334.6875], \"xaxis\": \"x\", \"y\": [0.0, 1.4142135623730951, 1.4142135623730951, 0.0], \"yaxis\": \"y\", \"type\": \"scatter\", \"uid\": \"70a84ccf-a35b-4c7d-80a6-5812151d200f\"}, {\"hoverinfo\": \"text\", \"marker\": {\"color\": \"rgb(133,20,75)\"}, \"mode\": \"lines\", \"x\": [277.1875, 277.1875, 324.84375, 324.84375], \"xaxis\": \"x\", \"y\": [1.0, 2.23606797749979, 2.23606797749979, 1.4142135623730951], \"yaxis\": \"y\", \"type\": \"scatter\", \"uid\": \"33be4804-c2b6-4f50-9514-4621fec4c9f9\"}, {\"hoverinfo\": \"text\", \"marker\": {\"color\": \"rgb(0,116,217)\"}, \"mode\": \"lines\", \"x\": [205.0, 205.0, 301.015625, 301.015625], \"xaxis\": \"x\", \"y\": [2.23606797749979, 3.0, 3.0, 2.23606797749979], \"yaxis\": \"y\", \"type\": \"scatter\", \"uid\": \"ba2a1fb9-5afc-4b3e-91f5-f4abcf38b178\"}, {\"hoverinfo\": \"text\", \"marker\": {\"color\": \"rgb(255,220,0)\"}, \"mode\": \"lines\", \"x\": [385.0, 385.0, 395.0, 395.0], \"xaxis\": \"x\", \"y\": [0.0, 1.0, 1.0, 0.0], \"yaxis\": \"y\", \"type\": \"scatter\", \"uid\": \"ffa94756-e631-4f67-adf7-8d1ac7f650ac\"}, {\"hoverinfo\": \"text\", \"marker\": {\"color\": \"rgb(40,35,35)\"}, \"mode\": \"lines\", \"x\": [415.0, 415.0, 425.0, 425.0], \"xaxis\": \"x\", \"y\": [0.0, 1.7320508075688772, 1.7320508075688772, 0.0], \"yaxis\": \"y\", \"type\": \"scatter\", \"uid\": \"323f255d-ca22-4ea4-b06d-2751ff712286\"}, {\"hoverinfo\": \"text\", \"marker\": {\"color\": \"rgb(40,35,35)\"}, \"mode\": \"lines\", \"x\": [405.0, 405.0, 420.0, 420.0], \"xaxis\": \"x\", \"y\": [0.0, 2.0, 2.0, 1.7320508075688772], \"yaxis\": \"y\", \"type\": \"scatter\", \"uid\": \"87420843-b504-47d6-bf61-cf8c61c24496\"}, {\"hoverinfo\": \"text\", \"marker\": {\"color\": \"rgb(61,153,112)\"}, \"mode\": \"lines\", \"x\": [445.0, 445.0, 455.0, 455.0], \"xaxis\": \"x\", \"y\": [0.0, 1.0, 1.0, 0.0], \"yaxis\": \"y\", \"type\": \"scatter\", \"uid\": \"8e2ca893-0ab7-4d20-ba93-2c22f78da0bc\"}, {\"hoverinfo\": \"text\", \"marker\": {\"color\": \"rgb(61,153,112)\"}, \"mode\": \"lines\", \"x\": [435.0, 435.0, 450.0, 450.0], \"xaxis\": \"x\", \"y\": [0.0, 1.4142135623730951, 1.4142135623730951, 1.0], \"yaxis\": \"y\", \"type\": \"scatter\", \"uid\": \"539dc3ba-071b-4c00-b207-1155a1fd22a8\"}, {\"hoverinfo\": \"text\", \"marker\": {\"color\": \"rgb(61,153,112)\"}, \"mode\": \"lines\", \"x\": [465.0, 465.0, 475.0, 475.0], \"xaxis\": \"x\", \"y\": [0.0, 0.0, 0.0, 0.0], \"yaxis\": \"y\", \"type\": \"scatter\", \"uid\": \"63eb16cd-cc5a-47c6-bb78-7b6667092753\"}, {\"hoverinfo\": \"text\", \"marker\": {\"color\": \"rgb(61,153,112)\"}, \"mode\": \"lines\", \"x\": [485.0, 485.0, 495.0, 495.0], \"xaxis\": \"x\", \"y\": [0.0, 1.0, 1.0, 0.0], \"yaxis\": \"y\", \"type\": \"scatter\", \"uid\": \"52c11a98-9277-40ec-9746-3345b1e3909e\"}, {\"hoverinfo\": \"text\", \"marker\": {\"color\": \"rgb(61,153,112)\"}, \"mode\": \"lines\", \"x\": [470.0, 470.0, 490.0, 490.0], \"xaxis\": \"x\", \"y\": [0.0, 1.4142135623730951, 1.4142135623730951, 1.0], \"yaxis\": \"y\", \"type\": \"scatter\", \"uid\": \"764ee2c2-ba4b-440f-89e7-f9d4c0a667d6\"}, {\"hoverinfo\": \"text\", \"marker\": {\"color\": \"rgb(61,153,112)\"}, \"mode\": \"lines\", \"x\": [442.5, 442.5, 480.0, 480.0], \"xaxis\": \"x\", \"y\": [1.4142135623730951, 2.23606797749979, 2.23606797749979, 1.4142135623730951], \"yaxis\": \"y\", \"type\": \"scatter\", \"uid\": \"27046129-225a-43a3-be0a-ed54cf1d5f66\"}, {\"hoverinfo\": \"text\", \"marker\": {\"color\": \"rgb(0,116,217)\"}, \"mode\": \"lines\", \"x\": [412.5, 412.5, 461.25, 461.25], \"xaxis\": \"x\", \"y\": [2.0, 3.0, 3.0, 2.23606797749979], \"yaxis\": \"y\", \"type\": \"scatter\", \"uid\": \"86e74999-52ab-43a6-acb3-458bf1581267\"}, {\"hoverinfo\": \"text\", \"marker\": {\"color\": \"rgb(0,116,217)\"}, \"mode\": \"lines\", \"x\": [390.0, 390.0, 436.875, 436.875], \"xaxis\": \"x\", \"y\": [1.0, 3.0, 3.0, 3.0], \"yaxis\": \"y\", \"type\": \"scatter\", \"uid\": \"b02d8c7a-473b-4891-b212-83066b15bf67\"}, {\"hoverinfo\": \"text\", \"marker\": {\"color\": \"rgb(0,116,217)\"}, \"mode\": \"lines\", \"x\": [253.0078125, 253.0078125, 413.4375, 413.4375], \"xaxis\": \"x\", \"y\": [3.0, 3.872983346207417, 3.872983346207417, 3.0], \"yaxis\": \"y\", \"type\": \"scatter\", \"uid\": \"825f0f8c-03c8-4b3b-81e5-ee53a61ef2ad\"}, {\"hoverinfo\": \"text\", \"marker\": {\"color\": \"rgb(0,116,217)\"}, \"mode\": \"lines\", \"x\": [71.25, 71.25, 333.22265625, 333.22265625], \"xaxis\": \"x\", \"y\": [3.4641016151377544, 4.123105625617661, 4.123105625617661, 3.872983346207417], \"yaxis\": \"y\", \"type\": \"scatter\", \"uid\": \"375519b1-d0a2-4cfc-9cad-44031312dcfe\"}], {\"autosize\": false, \"height\": null, \"hovermode\": \"closest\", \"showlegend\": false, \"width\": null, \"xaxis\": {\"mirror\": \"allticks\", \"rangemode\": \"tozero\", \"showgrid\": false, \"showline\": true, \"showticklabels\": true, \"tickmode\": \"array\", \"ticks\": \"outside\", \"ticktext\": [\"19\", \"33\", \"9\", \"25\", \"12\", \"21\", \"38\", \"39\", \"24\", \"20\", \"22\", \"1\", \"18\", \"8\", \"37\", \"36\", \"40\", \"41\", \"15\", \"28\", \"17\", \"44\", \"16\", \"26\", \"46\", \"7\", \"5\", \"3\", \"4\", \"34\", \"49\", \"29\", \"45\", \"43\", \"42\", \"30\", \"2\", \"6\", \"23\", \"48\", \"27\", \"0\", \"10\", \"14\", \"11\", \"47\", \"31\", \"35\", \"13\", \"32\"], \"tickvals\": [5, 15, 25, 35, 45, 55, 65, 75, 85, 95, 105, 115, 125, 135, 145, 155, 165, 175, 185, 195, 205, 215, 225, 235, 245, 255, 265, 275, 285, 295, 305, 315, 325, 335, 345, 355, 365, 375, 385, 395, 405, 415, 425, 435, 445, 455, 465, 475, 485, 495], \"type\": \"linear\", \"zeroline\": false}, \"yaxis\": {\"mirror\": \"allticks\", \"rangemode\": \"tozero\", \"showgrid\": false, \"showline\": true, \"showticklabels\": true, \"ticks\": \"outside\", \"type\": \"linear\", \"zeroline\": false}}, {\"showLink\": false, \"linkText\": \"Export to plot.ly\", \"plotlyServerURL\": \"https://plot.ly\"})});</script>"
      ]
     },
     "metadata": {},
     "output_type": "display_data"
    }
   ],
   "source": [
    "dendro = ff.create_dendrogram(np.array(all_vectors[:50]))\n",
    "iplot(dendro, filename='all_dendrogram')"
   ]
  },
  {
   "cell_type": "code",
   "execution_count": 21,
   "metadata": {},
   "outputs": [
    {
     "data": {
      "text/plain": [
       "1748"
      ]
     },
     "execution_count": 21,
     "metadata": {},
     "output_type": "execute_result"
    }
   ],
   "source": [
    "len(all_vectors)"
   ]
  },
  {
   "cell_type": "code",
   "execution_count": null,
   "metadata": {},
   "outputs": [],
   "source": []
  }
 ],
 "metadata": {
  "kernelspec": {
   "display_name": "Python 3",
   "language": "python",
   "name": "python3"
  },
  "language_info": {
   "codemirror_mode": {
    "name": "ipython",
    "version": 3
   },
   "file_extension": ".py",
   "mimetype": "text/x-python",
   "name": "python",
   "nbconvert_exporter": "python",
   "pygments_lexer": "ipython3",
   "version": "3.7.2"
  }
 },
 "nbformat": 4,
 "nbformat_minor": 2
}
