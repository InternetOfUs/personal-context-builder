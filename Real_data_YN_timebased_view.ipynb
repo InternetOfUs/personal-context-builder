{
 "cells": [
  {
   "cell_type": "markdown",
   "metadata": {},
   "source": [
    "# Notebook that analyse users's day-to-day routine\n",
    "\n"
   ]
  },
  {
   "cell_type": "code",
   "execution_count": 1,
   "metadata": {},
   "outputs": [],
   "source": [
    "from glob import glob\n",
    "import re\n",
    "from datetime import datetime, timedelta\n",
    "from collections import defaultdict\n",
    "from progress.bar import Bar\n",
    "import pandas as pd\n",
    "import numpy as np\n",
    "from wenet_models import LocationPoint\n",
    "import plotly.graph_objs as go\n",
    "from plotly.offline import download_plotlyjs, init_notebook_mode, plot, iplot"
   ]
  },
  {
   "cell_type": "code",
   "execution_count": 2,
   "metadata": {},
   "outputs": [
    {
     "data": {
      "text/html": [
       "<script type=\"text/javascript\">window.PlotlyConfig = {MathJaxConfig: 'local'};</script><script type=\"text/javascript\">if (window.MathJax) {MathJax.Hub.Config({SVG: {font: \"STIX-Web\"}});}</script><script>requirejs.config({paths: { 'plotly': ['https://cdn.plot.ly/plotly-latest.min']},});if(!window._Plotly) {require(['plotly'],function(plotly) {window._Plotly=plotly;});}</script>"
      ],
      "text/vnd.plotly.v1+html": [
       "<script type=\"text/javascript\">window.PlotlyConfig = {MathJaxConfig: 'local'};</script><script type=\"text/javascript\">if (window.MathJax) {MathJax.Hub.Config({SVG: {font: \"STIX-Web\"}});}</script><script>requirejs.config({paths: { 'plotly': ['https://cdn.plot.ly/plotly-latest.min']},});if(!window._Plotly) {require(['plotly'],function(plotly) {window._Plotly=plotly;});}</script>"
      ]
     },
     "metadata": {},
     "output_type": "display_data"
    }
   ],
   "source": [
    "init_notebook_mode(connected=True)"
   ]
  },
  {
   "cell_type": "code",
   "execution_count": 3,
   "metadata": {},
   "outputs": [],
   "source": [
    "locations_glob_expr = '/idiap/temp/wdroz/locations/*.csv'"
   ]
  },
  {
   "cell_type": "code",
   "execution_count": 4,
   "metadata": {},
   "outputs": [
    {
     "data": {
      "text/plain": [
       "241"
      ]
     },
     "execution_count": 4,
     "metadata": {},
     "output_type": "execute_result"
    }
   ],
   "source": [
    "all_location_files = glob(locations_glob_expr)\n",
    "len(all_location_files)"
   ]
  },
  {
   "cell_type": "code",
   "execution_count": 5,
   "metadata": {},
   "outputs": [],
   "source": [
    "user_night_activities = defaultdict(dict)\n",
    "night_user_activities = defaultdict(dict)\n",
    "user_regex = re.compile(r'\\/([^/\\\\_]+)_location\\.csv')"
   ]
  },
  {
   "cell_type": "code",
   "execution_count": 6,
   "metadata": {},
   "outputs": [],
   "source": [
    "df_list = []\n",
    "users_list = []\n",
    "bar = Bar(\"processing\", max=len(all_location_files))\n",
    "for location_file in all_location_files:\n",
    "    bar.next()\n",
    "    df = pd.read_csv(location_file)\n",
    "    df['date'] = pd.to_datetime(df['timestamp'] + df['timezone'], unit='s')\n",
    "    df = df.set_index('date')\n",
    "    df = df[~df.index.duplicated(keep='first')]\n",
    "    current_user = re.search(user_regex, location_file).group(1)\n",
    "    users_list.append(current_user)\n",
    "    df_list.append(df)\n",
    "bar.finish()"
   ]
  },
  {
   "cell_type": "code",
   "execution_count": 7,
   "metadata": {},
   "outputs": [],
   "source": [
    "df_all = pd.concat(df_list)"
   ]
  },
  {
   "cell_type": "code",
   "execution_count": 8,
   "metadata": {
    "scrolled": false
   },
   "outputs": [
    {
     "data": {
      "text/html": [
       "<div>\n",
       "<style scoped>\n",
       "    .dataframe tbody tr th:only-of-type {\n",
       "        vertical-align: middle;\n",
       "    }\n",
       "\n",
       "    .dataframe tbody tr th {\n",
       "        vertical-align: top;\n",
       "    }\n",
       "\n",
       "    .dataframe thead th {\n",
       "        text-align: right;\n",
       "    }\n",
       "</style>\n",
       "<table border=\"1\" class=\"dataframe\">\n",
       "  <thead>\n",
       "    <tr style=\"text-align: right;\">\n",
       "      <th></th>\n",
       "      <th>userid</th>\n",
       "      <th>night</th>\n",
       "      <th>type</th>\n",
       "      <th>timestamp</th>\n",
       "      <th>timezone</th>\n",
       "      <th>local_time</th>\n",
       "      <th>source</th>\n",
       "      <th>latitude</th>\n",
       "      <th>longitude</th>\n",
       "      <th>speed</th>\n",
       "      <th>accuracy</th>\n",
       "      <th>provider</th>\n",
       "      <th>bearing</th>\n",
       "    </tr>\n",
       "    <tr>\n",
       "      <th>date</th>\n",
       "      <th></th>\n",
       "      <th></th>\n",
       "      <th></th>\n",
       "      <th></th>\n",
       "      <th></th>\n",
       "      <th></th>\n",
       "      <th></th>\n",
       "      <th></th>\n",
       "      <th></th>\n",
       "      <th></th>\n",
       "      <th></th>\n",
       "      <th></th>\n",
       "      <th></th>\n",
       "    </tr>\n",
       "  </thead>\n",
       "  <tbody>\n",
       "    <tr>\n",
       "      <th>2014-09-26 23:49:42</th>\n",
       "      <td>02f95f41-cc1c-42d9-ab19-ef86a2fbbf4e</td>\n",
       "      <td>20140926</td>\n",
       "      <td>Location</td>\n",
       "      <td>1411768182</td>\n",
       "      <td>7200</td>\n",
       "      <td>20140926234942</td>\n",
       "      <td>357197052974055</td>\n",
       "      <td>47.254089</td>\n",
       "      <td>8.868810</td>\n",
       "      <td>0.0</td>\n",
       "      <td>20.0</td>\n",
       "      <td>network</td>\n",
       "      <td>0.0</td>\n",
       "    </tr>\n",
       "    <tr>\n",
       "      <th>2014-09-26 23:50:02</th>\n",
       "      <td>02f95f41-cc1c-42d9-ab19-ef86a2fbbf4e</td>\n",
       "      <td>20140926</td>\n",
       "      <td>Location</td>\n",
       "      <td>1411768202</td>\n",
       "      <td>7200</td>\n",
       "      <td>20140926235002</td>\n",
       "      <td>357197052974055</td>\n",
       "      <td>47.254088</td>\n",
       "      <td>8.868793</td>\n",
       "      <td>0.0</td>\n",
       "      <td>20.0</td>\n",
       "      <td>network</td>\n",
       "      <td>0.0</td>\n",
       "    </tr>\n",
       "    <tr>\n",
       "      <th>2014-09-26 23:50:22</th>\n",
       "      <td>02f95f41-cc1c-42d9-ab19-ef86a2fbbf4e</td>\n",
       "      <td>20140926</td>\n",
       "      <td>Location</td>\n",
       "      <td>1411768222</td>\n",
       "      <td>7200</td>\n",
       "      <td>20140926235022</td>\n",
       "      <td>357197052974055</td>\n",
       "      <td>47.254091</td>\n",
       "      <td>8.868790</td>\n",
       "      <td>0.0</td>\n",
       "      <td>20.0</td>\n",
       "      <td>network</td>\n",
       "      <td>0.0</td>\n",
       "    </tr>\n",
       "    <tr>\n",
       "      <th>2014-09-26 23:52:42</th>\n",
       "      <td>02f95f41-cc1c-42d9-ab19-ef86a2fbbf4e</td>\n",
       "      <td>20140926</td>\n",
       "      <td>Location</td>\n",
       "      <td>1411768362</td>\n",
       "      <td>7200</td>\n",
       "      <td>20140926235242</td>\n",
       "      <td>357197052974055</td>\n",
       "      <td>47.254071</td>\n",
       "      <td>8.868794</td>\n",
       "      <td>0.0</td>\n",
       "      <td>20.0</td>\n",
       "      <td>network</td>\n",
       "      <td>0.0</td>\n",
       "    </tr>\n",
       "    <tr>\n",
       "      <th>2014-09-26 23:53:02</th>\n",
       "      <td>02f95f41-cc1c-42d9-ab19-ef86a2fbbf4e</td>\n",
       "      <td>20140926</td>\n",
       "      <td>Location</td>\n",
       "      <td>1411768382</td>\n",
       "      <td>7200</td>\n",
       "      <td>20140926235302</td>\n",
       "      <td>357197052974055</td>\n",
       "      <td>47.254075</td>\n",
       "      <td>8.868798</td>\n",
       "      <td>0.0</td>\n",
       "      <td>20.0</td>\n",
       "      <td>network</td>\n",
       "      <td>0.0</td>\n",
       "    </tr>\n",
       "  </tbody>\n",
       "</table>\n",
       "</div>"
      ],
      "text/plain": [
       "                                                   userid     night      type  \\\n",
       "date                                                                            \n",
       "2014-09-26 23:49:42  02f95f41-cc1c-42d9-ab19-ef86a2fbbf4e  20140926  Location   \n",
       "2014-09-26 23:50:02  02f95f41-cc1c-42d9-ab19-ef86a2fbbf4e  20140926  Location   \n",
       "2014-09-26 23:50:22  02f95f41-cc1c-42d9-ab19-ef86a2fbbf4e  20140926  Location   \n",
       "2014-09-26 23:52:42  02f95f41-cc1c-42d9-ab19-ef86a2fbbf4e  20140926  Location   \n",
       "2014-09-26 23:53:02  02f95f41-cc1c-42d9-ab19-ef86a2fbbf4e  20140926  Location   \n",
       "\n",
       "                      timestamp timezone      local_time           source  \\\n",
       "date                                                                        \n",
       "2014-09-26 23:49:42  1411768182     7200  20140926234942  357197052974055   \n",
       "2014-09-26 23:50:02  1411768202     7200  20140926235002  357197052974055   \n",
       "2014-09-26 23:50:22  1411768222     7200  20140926235022  357197052974055   \n",
       "2014-09-26 23:52:42  1411768362     7200  20140926235242  357197052974055   \n",
       "2014-09-26 23:53:02  1411768382     7200  20140926235302  357197052974055   \n",
       "\n",
       "                      latitude  longitude  speed  accuracy provider  bearing  \n",
       "date                                                                          \n",
       "2014-09-26 23:49:42  47.254089   8.868810    0.0      20.0  network      0.0  \n",
       "2014-09-26 23:50:02  47.254088   8.868793    0.0      20.0  network      0.0  \n",
       "2014-09-26 23:50:22  47.254091   8.868790    0.0      20.0  network      0.0  \n",
       "2014-09-26 23:52:42  47.254071   8.868794    0.0      20.0  network      0.0  \n",
       "2014-09-26 23:53:02  47.254075   8.868798    0.0      20.0  network      0.0  "
      ]
     },
     "execution_count": 8,
     "metadata": {},
     "output_type": "execute_result"
    }
   ],
   "source": [
    "df_all.head()"
   ]
  },
  {
   "cell_type": "code",
   "execution_count": 9,
   "metadata": {},
   "outputs": [
    {
     "data": {
      "text/plain": [
       "array([20140926, 20140927, 20140920, 20141003, 20141004, 20141010,\n",
       "       20141011, 20141018, 20141017, 20141024, 20141025, 20141031,\n",
       "       20141101, 20141107, 20141108, 20141114, 20141115, 20141121,\n",
       "       20141122, 20141123, 20140919, 20141116, 20141128, 20141129,\n",
       "       20141005, 20141023, 20141205, 20141219, 20141226, 20141227,\n",
       "       20150116, 20141206, 20141019, 20140921, 20141012, 20141013,\n",
       "       20141020, 20141026, 20150102, 20150109, 20150117, 20141212,\n",
       "       20141213, 20150103, 20150110, 20141102], dtype=object)"
      ]
     },
     "execution_count": 9,
     "metadata": {},
     "output_type": "execute_result"
    }
   ],
   "source": [
    "df_all['night'].unique()"
   ]
  },
  {
   "cell_type": "code",
   "execution_count": 10,
   "metadata": {},
   "outputs": [
    {
     "data": {
      "text/plain": [
       "Timestamp('2014-09-19 20:00:10')"
      ]
     },
     "execution_count": 10,
     "metadata": {},
     "output_type": "execute_result"
    }
   ],
   "source": [
    "df_all.index.min()"
   ]
  },
  {
   "cell_type": "code",
   "execution_count": 11,
   "metadata": {},
   "outputs": [
    {
     "data": {
      "text/plain": [
       "Timestamp('2015-01-18 03:15:59')"
      ]
     },
     "execution_count": 11,
     "metadata": {},
     "output_type": "execute_result"
    }
   ],
   "source": [
    "df_all.index.max()"
   ]
  },
  {
   "cell_type": "code",
   "execution_count": 12,
   "metadata": {},
   "outputs": [],
   "source": [
    "for name, grouped in df_all.groupby('night'):\n",
    "    for user in users_list:\n",
    "        df_user_night = grouped[grouped['userid'] == user]\n",
    "        night = str(name)\n",
    "        year = night[:4]\n",
    "        month = night[4:6]\n",
    "        days = night[6:]\n",
    "        start_date = datetime.strptime(f'{year}-{month}-{days} 20:00:00', \"%Y-%m-%d %H:%M:%S\")\n",
    "        end_date = start_date + timedelta(hours=8)\n",
    "        df_median = df_user_night.resample('30T').median()\n",
    "        df_user_activity = df_median.reindex(pd.date_range(start=start_date, end=end_date, freq='30T'))\n",
    "        activity_vector = [int(not np.isnan(x)) for x in df_user_activity['latitude'].tolist()]\n",
    "        user_night_activities[user][str(night)] = activity_vector\n",
    "        night_user_activities[str(night)][user] = activity_vector\n",
    "        "
   ]
  },
  {
   "cell_type": "code",
   "execution_count": 48,
   "metadata": {},
   "outputs": [
    {
     "data": {
      "application/vnd.plotly.v1+json": {
       "config": {
        "linkText": "Export to plot.ly",
        "plotlyServerURL": "https://plot.ly",
        "showLink": false
       },
       "data": [
        {
         "type": "bar",
         "uid": "89853362-2b21-4e9b-8889-1639605dbf62",
         "x": [
          "N 20140919",
          "N 20140920",
          "N 20140921",
          "N 20140926",
          "N 20140927",
          "N 20141003",
          "N 20141004",
          "N 20141005",
          "N 20141010",
          "N 20141011",
          "N 20141012",
          "N 20141013",
          "N 20141017",
          "N 20141018",
          "N 20141019",
          "N 20141020",
          "N 20141023",
          "N 20141024",
          "N 20141025",
          "N 20141026",
          "N 20141031",
          "N 20141101",
          "N 20141102",
          "N 20141107",
          "N 20141108",
          "N 20141114",
          "N 20141115",
          "N 20141116",
          "N 20141121",
          "N 20141122",
          "N 20141123",
          "N 20141128",
          "N 20141129",
          "N 20141205",
          "N 20141206",
          "N 20141212",
          "N 20141213",
          "N 20141219",
          "N 20141226",
          "N 20141227",
          "N 20150102",
          "N 20150103",
          "N 20150109",
          "N 20150110",
          "N 20150116",
          "N 20150117"
         ],
         "y": [
          19.502074688796682,
          26.556016597510375,
          0.4149377593360996,
          39.004149377593365,
          40.24896265560166,
          47.30290456431535,
          45.22821576763486,
          0.4149377593360996,
          46.47302904564315,
          47.30290456431535,
          0.4149377593360996,
          0.4149377593360996,
          46.47302904564315,
          43.15352697095436,
          0.8298755186721992,
          0,
          0.4149377593360996,
          46.47302904564315,
          45.643153526970956,
          0,
          41.49377593360996,
          46.058091286307054,
          0,
          28.21576763485477,
          24.066390041493776,
          18.25726141078838,
          18.672199170124482,
          0.8298755186721992,
          14.522821576763487,
          12.863070539419086,
          0.8298755186721992,
          6.224066390041494,
          5.809128630705394,
          2.904564315352697,
          1.6597510373443984,
          0.8298755186721992,
          0.4149377593360996,
          0.8298755186721992,
          0.8298755186721992,
          0.4149377593360996,
          0.8298755186721992,
          0.4149377593360996,
          0.4149377593360996,
          0.4149377593360996,
          0.4149377593360996,
          0.8298755186721992
         ]
        }
       ],
       "layout": {
        "title": {
         "text": "Nights binary activities"
        },
        "xaxis": {
         "showticklabels": false,
         "title": {
          "text": "Nights"
         }
        },
        "yaxis": {
         "ticksuffix": "%",
         "title": {
          "text": "Percent of users that have records"
         }
        }
       }
      },
      "text/html": [
       "<div id=\"d13ffcb9-f922-4845-abf4-f4f4eff1022f\" style=\"height: 525px; width: 100%;\" class=\"plotly-graph-div\"></div><script type=\"text/javascript\">require([\"plotly\"], function(Plotly) { window.PLOTLYENV=window.PLOTLYENV || {};window.PLOTLYENV.BASE_URL=\"https://plot.ly\";Plotly.newPlot(\"d13ffcb9-f922-4845-abf4-f4f4eff1022f\", [{\"x\": [\"N 20140919\", \"N 20140920\", \"N 20140921\", \"N 20140926\", \"N 20140927\", \"N 20141003\", \"N 20141004\", \"N 20141005\", \"N 20141010\", \"N 20141011\", \"N 20141012\", \"N 20141013\", \"N 20141017\", \"N 20141018\", \"N 20141019\", \"N 20141020\", \"N 20141023\", \"N 20141024\", \"N 20141025\", \"N 20141026\", \"N 20141031\", \"N 20141101\", \"N 20141102\", \"N 20141107\", \"N 20141108\", \"N 20141114\", \"N 20141115\", \"N 20141116\", \"N 20141121\", \"N 20141122\", \"N 20141123\", \"N 20141128\", \"N 20141129\", \"N 20141205\", \"N 20141206\", \"N 20141212\", \"N 20141213\", \"N 20141219\", \"N 20141226\", \"N 20141227\", \"N 20150102\", \"N 20150103\", \"N 20150109\", \"N 20150110\", \"N 20150116\", \"N 20150117\"], \"y\": [19.502074688796682, 26.556016597510375, 0.4149377593360996, 39.004149377593365, 40.24896265560166, 47.30290456431535, 45.22821576763486, 0.4149377593360996, 46.47302904564315, 47.30290456431535, 0.4149377593360996, 0.4149377593360996, 46.47302904564315, 43.15352697095436, 0.8298755186721992, 0.0, 0.4149377593360996, 46.47302904564315, 45.643153526970956, 0.0, 41.49377593360996, 46.058091286307054, 0.0, 28.21576763485477, 24.066390041493776, 18.25726141078838, 18.672199170124482, 0.8298755186721992, 14.522821576763487, 12.863070539419086, 0.8298755186721992, 6.224066390041494, 5.809128630705394, 2.904564315352697, 1.6597510373443984, 0.8298755186721992, 0.4149377593360996, 0.8298755186721992, 0.8298755186721992, 0.4149377593360996, 0.8298755186721992, 0.4149377593360996, 0.4149377593360996, 0.4149377593360996, 0.4149377593360996, 0.8298755186721992], \"type\": \"bar\", \"uid\": \"89853362-2b21-4e9b-8889-1639605dbf62\"}], {\"title\": {\"text\": \"Nights binary activities\"}, \"xaxis\": {\"showticklabels\": false, \"title\": {\"text\": \"Nights\"}}, \"yaxis\": {\"ticksuffix\": \"%\", \"title\": {\"text\": \"Percent of users that have records\"}}}, {\"showLink\": false, \"linkText\": \"Export to plot.ly\", \"plotlyServerURL\": \"https://plot.ly\"})});</script><script type=\"text/javascript\">window.addEventListener(\"resize\", function(){window._Plotly.Plots.resize(document.getElementById(\"d13ffcb9-f922-4845-abf4-f4f4eff1022f\"));});</script>"
      ],
      "text/vnd.plotly.v1+html": [
       "<div id=\"d13ffcb9-f922-4845-abf4-f4f4eff1022f\" style=\"height: 525px; width: 100%;\" class=\"plotly-graph-div\"></div><script type=\"text/javascript\">require([\"plotly\"], function(Plotly) { window.PLOTLYENV=window.PLOTLYENV || {};window.PLOTLYENV.BASE_URL=\"https://plot.ly\";Plotly.newPlot(\"d13ffcb9-f922-4845-abf4-f4f4eff1022f\", [{\"x\": [\"N 20140919\", \"N 20140920\", \"N 20140921\", \"N 20140926\", \"N 20140927\", \"N 20141003\", \"N 20141004\", \"N 20141005\", \"N 20141010\", \"N 20141011\", \"N 20141012\", \"N 20141013\", \"N 20141017\", \"N 20141018\", \"N 20141019\", \"N 20141020\", \"N 20141023\", \"N 20141024\", \"N 20141025\", \"N 20141026\", \"N 20141031\", \"N 20141101\", \"N 20141102\", \"N 20141107\", \"N 20141108\", \"N 20141114\", \"N 20141115\", \"N 20141116\", \"N 20141121\", \"N 20141122\", \"N 20141123\", \"N 20141128\", \"N 20141129\", \"N 20141205\", \"N 20141206\", \"N 20141212\", \"N 20141213\", \"N 20141219\", \"N 20141226\", \"N 20141227\", \"N 20150102\", \"N 20150103\", \"N 20150109\", \"N 20150110\", \"N 20150116\", \"N 20150117\"], \"y\": [19.502074688796682, 26.556016597510375, 0.4149377593360996, 39.004149377593365, 40.24896265560166, 47.30290456431535, 45.22821576763486, 0.4149377593360996, 46.47302904564315, 47.30290456431535, 0.4149377593360996, 0.4149377593360996, 46.47302904564315, 43.15352697095436, 0.8298755186721992, 0.0, 0.4149377593360996, 46.47302904564315, 45.643153526970956, 0.0, 41.49377593360996, 46.058091286307054, 0.0, 28.21576763485477, 24.066390041493776, 18.25726141078838, 18.672199170124482, 0.8298755186721992, 14.522821576763487, 12.863070539419086, 0.8298755186721992, 6.224066390041494, 5.809128630705394, 2.904564315352697, 1.6597510373443984, 0.8298755186721992, 0.4149377593360996, 0.8298755186721992, 0.8298755186721992, 0.4149377593360996, 0.8298755186721992, 0.4149377593360996, 0.4149377593360996, 0.4149377593360996, 0.4149377593360996, 0.8298755186721992], \"type\": \"bar\", \"uid\": \"89853362-2b21-4e9b-8889-1639605dbf62\"}], {\"title\": {\"text\": \"Nights binary activities\"}, \"xaxis\": {\"showticklabels\": false, \"title\": {\"text\": \"Nights\"}}, \"yaxis\": {\"ticksuffix\": \"%\", \"title\": {\"text\": \"Percent of users that have records\"}}}, {\"showLink\": false, \"linkText\": \"Export to plot.ly\", \"plotlyServerURL\": \"https://plot.ly\"})});</script><script type=\"text/javascript\">window.addEventListener(\"resize\", function(){window._Plotly.Plots.resize(document.getElementById(\"d13ffcb9-f922-4845-abf4-f4f4eff1022f\"));});</script>"
      ]
     },
     "metadata": {},
     "output_type": "display_data"
    }
   ],
   "source": [
    "nb_users = len(user_night_activities)\n",
    "trace_night_activities = [go.Bar(\n",
    "            y=[100*(sum([int(sum(vector) >= 1) for user, vector in user_dict.items()])/nb_users) for night, user_dict in sorted(night_user_activities.items())],\n",
    "            x=[f'N {n}' for n in sorted(night_user_activities.keys())]\n",
    "    )]\n",
    "\n",
    "layout_night_actitivies = go.Layout(title='Nights binary activities', \n",
    "                                    xaxis=dict(title='Nights', showticklabels=False), \n",
    "                                    yaxis=dict(title='Percent of users that have records',\n",
    "                                              ticksuffix='%'))\n",
    "\n",
    "fig = go.Figure(data=trace_night_activities, layout=layout_night_actitivies)\n",
    "iplot(fig, filename='grouped-bar')"
   ]
  },
  {
   "cell_type": "code",
   "execution_count": 49,
   "metadata": {},
   "outputs": [
    {
     "data": {
      "text/plain": [
       "241"
      ]
     },
     "execution_count": 49,
     "metadata": {},
     "output_type": "execute_result"
    }
   ],
   "source": [
    "nb_users"
   ]
  },
  {
   "cell_type": "code",
   "execution_count": 74,
   "metadata": {},
   "outputs": [],
   "source": [
    "def plot_user_activities(user, user_dict):\n",
    "    trace_activities = [go.Scatter(\n",
    "                        x=[hour for hour in range(len(vector))],\n",
    "                        y=vector, line=dict(shape='hv'), name=night) for night, vector in user_dict.items() if sum(vector) >= 1]\n",
    "    layout_activities = go.Layout(title=f'Activities for user {user}', \n",
    "                                    xaxis=dict(title='Night time (half-hour unit)'), \n",
    "                                    yaxis=dict(title='Percent of users that have records'))\n",
    "    \n",
    "    fig = go.Figure(data=trace_activities, layout=layout_activities)\n",
    "    return iplot(fig, filename='user_activities')"
   ]
  },
  {
   "cell_type": "code",
   "execution_count": 75,
   "metadata": {},
   "outputs": [
    {
     "data": {
      "application/vnd.plotly.v1+json": {
       "config": {
        "linkText": "Export to plot.ly",
        "plotlyServerURL": "https://plot.ly",
        "showLink": false
       },
       "data": [
        {
         "line": {
          "shape": "hv"
         },
         "name": "20140926",
         "type": "scatter",
         "uid": "750bf074-9641-40e9-b520-9ba8a447a699",
         "x": [
          0,
          1,
          2,
          3,
          4,
          5,
          6,
          7,
          8,
          9,
          10,
          11,
          12,
          13,
          14,
          15,
          16
         ],
         "y": [
          0,
          0,
          0,
          0,
          0,
          0,
          0,
          1,
          1,
          0,
          0,
          0,
          0,
          0,
          0,
          0,
          0
         ]
        },
        {
         "line": {
          "shape": "hv"
         },
         "name": "20140927",
         "type": "scatter",
         "uid": "5fc0ba0a-dec5-414e-a25e-59bef09276e9",
         "x": [
          0,
          1,
          2,
          3,
          4,
          5,
          6,
          7,
          8,
          9,
          10,
          11,
          12,
          13,
          14,
          15,
          16
         ],
         "y": [
          0,
          0,
          1,
          1,
          1,
          1,
          0,
          0,
          0,
          1,
          0,
          0,
          0,
          0,
          0,
          0,
          0
         ]
        }
       ],
       "layout": {
        "title": {
         "text": "Activities for user 02f95f41-cc1c-42d9-ab19-ef86a2fbbf4e"
        },
        "xaxis": {
         "title": {
          "text": "Night time (half-hour unit)"
         }
        },
        "yaxis": {
         "title": {
          "text": "Percent of users that have records"
         }
        }
       }
      },
      "text/html": [
       "<div id=\"fc82c3b9-9824-4dec-bfa6-5624aad77824\" style=\"height: 525px; width: 100%;\" class=\"plotly-graph-div\"></div><script type=\"text/javascript\">require([\"plotly\"], function(Plotly) { window.PLOTLYENV=window.PLOTLYENV || {};window.PLOTLYENV.BASE_URL=\"https://plot.ly\";Plotly.newPlot(\"fc82c3b9-9824-4dec-bfa6-5624aad77824\", [{\"line\": {\"shape\": \"hv\"}, \"name\": \"20140926\", \"x\": [0, 1, 2, 3, 4, 5, 6, 7, 8, 9, 10, 11, 12, 13, 14, 15, 16], \"y\": [0, 0, 0, 0, 0, 0, 0, 1, 1, 0, 0, 0, 0, 0, 0, 0, 0], \"type\": \"scatter\", \"uid\": \"750bf074-9641-40e9-b520-9ba8a447a699\"}, {\"line\": {\"shape\": \"hv\"}, \"name\": \"20140927\", \"x\": [0, 1, 2, 3, 4, 5, 6, 7, 8, 9, 10, 11, 12, 13, 14, 15, 16], \"y\": [0, 0, 1, 1, 1, 1, 0, 0, 0, 1, 0, 0, 0, 0, 0, 0, 0], \"type\": \"scatter\", \"uid\": \"5fc0ba0a-dec5-414e-a25e-59bef09276e9\"}], {\"title\": {\"text\": \"Activities for user 02f95f41-cc1c-42d9-ab19-ef86a2fbbf4e\"}, \"xaxis\": {\"title\": {\"text\": \"Night time (half-hour unit)\"}}, \"yaxis\": {\"title\": {\"text\": \"Percent of users that have records\"}}}, {\"showLink\": false, \"linkText\": \"Export to plot.ly\", \"plotlyServerURL\": \"https://plot.ly\"})});</script><script type=\"text/javascript\">window.addEventListener(\"resize\", function(){window._Plotly.Plots.resize(document.getElementById(\"fc82c3b9-9824-4dec-bfa6-5624aad77824\"));});</script>"
      ],
      "text/vnd.plotly.v1+html": [
       "<div id=\"fc82c3b9-9824-4dec-bfa6-5624aad77824\" style=\"height: 525px; width: 100%;\" class=\"plotly-graph-div\"></div><script type=\"text/javascript\">require([\"plotly\"], function(Plotly) { window.PLOTLYENV=window.PLOTLYENV || {};window.PLOTLYENV.BASE_URL=\"https://plot.ly\";Plotly.newPlot(\"fc82c3b9-9824-4dec-bfa6-5624aad77824\", [{\"line\": {\"shape\": \"hv\"}, \"name\": \"20140926\", \"x\": [0, 1, 2, 3, 4, 5, 6, 7, 8, 9, 10, 11, 12, 13, 14, 15, 16], \"y\": [0, 0, 0, 0, 0, 0, 0, 1, 1, 0, 0, 0, 0, 0, 0, 0, 0], \"type\": \"scatter\", \"uid\": \"750bf074-9641-40e9-b520-9ba8a447a699\"}, {\"line\": {\"shape\": \"hv\"}, \"name\": \"20140927\", \"x\": [0, 1, 2, 3, 4, 5, 6, 7, 8, 9, 10, 11, 12, 13, 14, 15, 16], \"y\": [0, 0, 1, 1, 1, 1, 0, 0, 0, 1, 0, 0, 0, 0, 0, 0, 0], \"type\": \"scatter\", \"uid\": \"5fc0ba0a-dec5-414e-a25e-59bef09276e9\"}], {\"title\": {\"text\": \"Activities for user 02f95f41-cc1c-42d9-ab19-ef86a2fbbf4e\"}, \"xaxis\": {\"title\": {\"text\": \"Night time (half-hour unit)\"}}, \"yaxis\": {\"title\": {\"text\": \"Percent of users that have records\"}}}, {\"showLink\": false, \"linkText\": \"Export to plot.ly\", \"plotlyServerURL\": \"https://plot.ly\"})});</script><script type=\"text/javascript\">window.addEventListener(\"resize\", function(){window._Plotly.Plots.resize(document.getElementById(\"fc82c3b9-9824-4dec-bfa6-5624aad77824\"));});</script>"
      ]
     },
     "metadata": {},
     "output_type": "display_data"
    }
   ],
   "source": [
    "user, user_dict = list(user_night_activities.items())[0]\n",
    "plot_user_activities(user, user_dict)"
   ]
  },
  {
   "cell_type": "code",
   "execution_count": 76,
   "metadata": {},
   "outputs": [
    {
     "data": {
      "application/vnd.plotly.v1+json": {
       "config": {
        "linkText": "Export to plot.ly",
        "plotlyServerURL": "https://plot.ly",
        "showLink": false
       },
       "data": [
        {
         "line": {
          "shape": "hv"
         },
         "name": "20140920",
         "type": "scatter",
         "uid": "f6dba2c6-1b31-45a1-9d9f-0faad487ff93",
         "x": [
          0,
          1,
          2,
          3,
          4,
          5,
          6,
          7,
          8,
          9,
          10,
          11,
          12,
          13,
          14,
          15,
          16
         ],
         "y": [
          1,
          1,
          1,
          1,
          1,
          1,
          1,
          1,
          1,
          1,
          1,
          1,
          1,
          1,
          1,
          1,
          0
         ]
        },
        {
         "line": {
          "shape": "hv"
         },
         "name": "20140926",
         "type": "scatter",
         "uid": "1b41902f-98a4-4f7f-b6df-b99374388c60",
         "x": [
          0,
          1,
          2,
          3,
          4,
          5,
          6,
          7,
          8,
          9,
          10,
          11,
          12,
          13,
          14,
          15,
          16
         ],
         "y": [
          0,
          0,
          1,
          1,
          1,
          1,
          1,
          1,
          1,
          1,
          1,
          1,
          1,
          1,
          1,
          1,
          0
         ]
        },
        {
         "line": {
          "shape": "hv"
         },
         "name": "20140927",
         "type": "scatter",
         "uid": "849288fa-978b-4acd-a38d-a946d5acd54b",
         "x": [
          0,
          1,
          2,
          3,
          4,
          5,
          6,
          7,
          8,
          9,
          10,
          11,
          12,
          13,
          14,
          15,
          16
         ],
         "y": [
          0,
          0,
          1,
          1,
          1,
          1,
          1,
          1,
          1,
          1,
          1,
          1,
          1,
          1,
          1,
          1,
          0
         ]
        },
        {
         "line": {
          "shape": "hv"
         },
         "name": "20141003",
         "type": "scatter",
         "uid": "c3388415-ce2e-43e9-b795-9bea17de7d01",
         "x": [
          0,
          1,
          2,
          3,
          4,
          5,
          6,
          7,
          8,
          9,
          10,
          11,
          12,
          13,
          14,
          15,
          16
         ],
         "y": [
          0,
          0,
          1,
          1,
          1,
          1,
          1,
          1,
          1,
          1,
          1,
          1,
          1,
          1,
          1,
          1,
          0
         ]
        },
        {
         "line": {
          "shape": "hv"
         },
         "name": "20141004",
         "type": "scatter",
         "uid": "ef1c181f-8fef-4a8d-9d30-501c241bced3",
         "x": [
          0,
          1,
          2,
          3,
          4,
          5,
          6,
          7,
          8,
          9,
          10,
          11,
          12,
          13,
          14,
          15,
          16
         ],
         "y": [
          1,
          1,
          1,
          1,
          1,
          1,
          1,
          1,
          1,
          1,
          1,
          1,
          1,
          1,
          1,
          1,
          0
         ]
        },
        {
         "line": {
          "shape": "hv"
         },
         "name": "20141010",
         "type": "scatter",
         "uid": "991b290f-ebea-482a-ae06-bd411210c530",
         "x": [
          0,
          1,
          2,
          3,
          4,
          5,
          6,
          7,
          8,
          9,
          10,
          11,
          12,
          13,
          14,
          15,
          16
         ],
         "y": [
          0,
          0,
          1,
          1,
          1,
          1,
          1,
          1,
          1,
          1,
          1,
          1,
          1,
          1,
          1,
          1,
          0
         ]
        },
        {
         "line": {
          "shape": "hv"
         },
         "name": "20141011",
         "type": "scatter",
         "uid": "6775d89a-9e0d-49a8-a441-a385fb4a4cde",
         "x": [
          0,
          1,
          2,
          3,
          4,
          5,
          6,
          7,
          8,
          9,
          10,
          11,
          12,
          13,
          14,
          15,
          16
         ],
         "y": [
          0,
          0,
          1,
          0,
          0,
          0,
          0,
          0,
          0,
          0,
          0,
          0,
          0,
          0,
          0,
          0,
          0
         ]
        }
       ],
       "layout": {
        "title": {
         "text": "Activities for user 0387ce90-5e83-4ee8-a3ee-bc2e09877249"
        },
        "xaxis": {
         "title": {
          "text": "Night time (half-hour unit)"
         }
        },
        "yaxis": {
         "title": {
          "text": "Percent of users that have records"
         }
        }
       }
      },
      "text/html": [
       "<div id=\"6ed59af1-732a-4a6c-9c39-c12c835d8653\" style=\"height: 525px; width: 100%;\" class=\"plotly-graph-div\"></div><script type=\"text/javascript\">require([\"plotly\"], function(Plotly) { window.PLOTLYENV=window.PLOTLYENV || {};window.PLOTLYENV.BASE_URL=\"https://plot.ly\";Plotly.newPlot(\"6ed59af1-732a-4a6c-9c39-c12c835d8653\", [{\"line\": {\"shape\": \"hv\"}, \"name\": \"20140920\", \"x\": [0, 1, 2, 3, 4, 5, 6, 7, 8, 9, 10, 11, 12, 13, 14, 15, 16], \"y\": [1, 1, 1, 1, 1, 1, 1, 1, 1, 1, 1, 1, 1, 1, 1, 1, 0], \"type\": \"scatter\", \"uid\": \"f6dba2c6-1b31-45a1-9d9f-0faad487ff93\"}, {\"line\": {\"shape\": \"hv\"}, \"name\": \"20140926\", \"x\": [0, 1, 2, 3, 4, 5, 6, 7, 8, 9, 10, 11, 12, 13, 14, 15, 16], \"y\": [0, 0, 1, 1, 1, 1, 1, 1, 1, 1, 1, 1, 1, 1, 1, 1, 0], \"type\": \"scatter\", \"uid\": \"1b41902f-98a4-4f7f-b6df-b99374388c60\"}, {\"line\": {\"shape\": \"hv\"}, \"name\": \"20140927\", \"x\": [0, 1, 2, 3, 4, 5, 6, 7, 8, 9, 10, 11, 12, 13, 14, 15, 16], \"y\": [0, 0, 1, 1, 1, 1, 1, 1, 1, 1, 1, 1, 1, 1, 1, 1, 0], \"type\": \"scatter\", \"uid\": \"849288fa-978b-4acd-a38d-a946d5acd54b\"}, {\"line\": {\"shape\": \"hv\"}, \"name\": \"20141003\", \"x\": [0, 1, 2, 3, 4, 5, 6, 7, 8, 9, 10, 11, 12, 13, 14, 15, 16], \"y\": [0, 0, 1, 1, 1, 1, 1, 1, 1, 1, 1, 1, 1, 1, 1, 1, 0], \"type\": \"scatter\", \"uid\": \"c3388415-ce2e-43e9-b795-9bea17de7d01\"}, {\"line\": {\"shape\": \"hv\"}, \"name\": \"20141004\", \"x\": [0, 1, 2, 3, 4, 5, 6, 7, 8, 9, 10, 11, 12, 13, 14, 15, 16], \"y\": [1, 1, 1, 1, 1, 1, 1, 1, 1, 1, 1, 1, 1, 1, 1, 1, 0], \"type\": \"scatter\", \"uid\": \"ef1c181f-8fef-4a8d-9d30-501c241bced3\"}, {\"line\": {\"shape\": \"hv\"}, \"name\": \"20141010\", \"x\": [0, 1, 2, 3, 4, 5, 6, 7, 8, 9, 10, 11, 12, 13, 14, 15, 16], \"y\": [0, 0, 1, 1, 1, 1, 1, 1, 1, 1, 1, 1, 1, 1, 1, 1, 0], \"type\": \"scatter\", \"uid\": \"991b290f-ebea-482a-ae06-bd411210c530\"}, {\"line\": {\"shape\": \"hv\"}, \"name\": \"20141011\", \"x\": [0, 1, 2, 3, 4, 5, 6, 7, 8, 9, 10, 11, 12, 13, 14, 15, 16], \"y\": [0, 0, 1, 0, 0, 0, 0, 0, 0, 0, 0, 0, 0, 0, 0, 0, 0], \"type\": \"scatter\", \"uid\": \"6775d89a-9e0d-49a8-a441-a385fb4a4cde\"}], {\"title\": {\"text\": \"Activities for user 0387ce90-5e83-4ee8-a3ee-bc2e09877249\"}, \"xaxis\": {\"title\": {\"text\": \"Night time (half-hour unit)\"}}, \"yaxis\": {\"title\": {\"text\": \"Percent of users that have records\"}}}, {\"showLink\": false, \"linkText\": \"Export to plot.ly\", \"plotlyServerURL\": \"https://plot.ly\"})});</script><script type=\"text/javascript\">window.addEventListener(\"resize\", function(){window._Plotly.Plots.resize(document.getElementById(\"6ed59af1-732a-4a6c-9c39-c12c835d8653\"));});</script>"
      ],
      "text/vnd.plotly.v1+html": [
       "<div id=\"6ed59af1-732a-4a6c-9c39-c12c835d8653\" style=\"height: 525px; width: 100%;\" class=\"plotly-graph-div\"></div><script type=\"text/javascript\">require([\"plotly\"], function(Plotly) { window.PLOTLYENV=window.PLOTLYENV || {};window.PLOTLYENV.BASE_URL=\"https://plot.ly\";Plotly.newPlot(\"6ed59af1-732a-4a6c-9c39-c12c835d8653\", [{\"line\": {\"shape\": \"hv\"}, \"name\": \"20140920\", \"x\": [0, 1, 2, 3, 4, 5, 6, 7, 8, 9, 10, 11, 12, 13, 14, 15, 16], \"y\": [1, 1, 1, 1, 1, 1, 1, 1, 1, 1, 1, 1, 1, 1, 1, 1, 0], \"type\": \"scatter\", \"uid\": \"f6dba2c6-1b31-45a1-9d9f-0faad487ff93\"}, {\"line\": {\"shape\": \"hv\"}, \"name\": \"20140926\", \"x\": [0, 1, 2, 3, 4, 5, 6, 7, 8, 9, 10, 11, 12, 13, 14, 15, 16], \"y\": [0, 0, 1, 1, 1, 1, 1, 1, 1, 1, 1, 1, 1, 1, 1, 1, 0], \"type\": \"scatter\", \"uid\": \"1b41902f-98a4-4f7f-b6df-b99374388c60\"}, {\"line\": {\"shape\": \"hv\"}, \"name\": \"20140927\", \"x\": [0, 1, 2, 3, 4, 5, 6, 7, 8, 9, 10, 11, 12, 13, 14, 15, 16], \"y\": [0, 0, 1, 1, 1, 1, 1, 1, 1, 1, 1, 1, 1, 1, 1, 1, 0], \"type\": \"scatter\", \"uid\": \"849288fa-978b-4acd-a38d-a946d5acd54b\"}, {\"line\": {\"shape\": \"hv\"}, \"name\": \"20141003\", \"x\": [0, 1, 2, 3, 4, 5, 6, 7, 8, 9, 10, 11, 12, 13, 14, 15, 16], \"y\": [0, 0, 1, 1, 1, 1, 1, 1, 1, 1, 1, 1, 1, 1, 1, 1, 0], \"type\": \"scatter\", \"uid\": \"c3388415-ce2e-43e9-b795-9bea17de7d01\"}, {\"line\": {\"shape\": \"hv\"}, \"name\": \"20141004\", \"x\": [0, 1, 2, 3, 4, 5, 6, 7, 8, 9, 10, 11, 12, 13, 14, 15, 16], \"y\": [1, 1, 1, 1, 1, 1, 1, 1, 1, 1, 1, 1, 1, 1, 1, 1, 0], \"type\": \"scatter\", \"uid\": \"ef1c181f-8fef-4a8d-9d30-501c241bced3\"}, {\"line\": {\"shape\": \"hv\"}, \"name\": \"20141010\", \"x\": [0, 1, 2, 3, 4, 5, 6, 7, 8, 9, 10, 11, 12, 13, 14, 15, 16], \"y\": [0, 0, 1, 1, 1, 1, 1, 1, 1, 1, 1, 1, 1, 1, 1, 1, 0], \"type\": \"scatter\", \"uid\": \"991b290f-ebea-482a-ae06-bd411210c530\"}, {\"line\": {\"shape\": \"hv\"}, \"name\": \"20141011\", \"x\": [0, 1, 2, 3, 4, 5, 6, 7, 8, 9, 10, 11, 12, 13, 14, 15, 16], \"y\": [0, 0, 1, 0, 0, 0, 0, 0, 0, 0, 0, 0, 0, 0, 0, 0, 0], \"type\": \"scatter\", \"uid\": \"6775d89a-9e0d-49a8-a441-a385fb4a4cde\"}], {\"title\": {\"text\": \"Activities for user 0387ce90-5e83-4ee8-a3ee-bc2e09877249\"}, \"xaxis\": {\"title\": {\"text\": \"Night time (half-hour unit)\"}}, \"yaxis\": {\"title\": {\"text\": \"Percent of users that have records\"}}}, {\"showLink\": false, \"linkText\": \"Export to plot.ly\", \"plotlyServerURL\": \"https://plot.ly\"})});</script><script type=\"text/javascript\">window.addEventListener(\"resize\", function(){window._Plotly.Plots.resize(document.getElementById(\"6ed59af1-732a-4a6c-9c39-c12c835d8653\"));});</script>"
      ]
     },
     "metadata": {},
     "output_type": "display_data"
    }
   ],
   "source": [
    "user, user_dict = list(user_night_activities.items())[1]\n",
    "plot_user_activities(user, user_dict)"
   ]
  },
  {
   "cell_type": "code",
   "execution_count": 105,
   "metadata": {},
   "outputs": [
    {
     "data": {
      "text/plain": [
       "[[0, 0, 0, 0, 0, 0, 0, 1, 1, 0, 0, 0, 0, 0, 0, 0, 0],\n",
       " [0, 0, 1, 1, 1, 1, 0, 0, 0, 1, 0, 0, 0, 0, 0, 0, 0],\n",
       " [1, 1, 1, 1, 1, 1, 1, 1, 1, 1, 1, 1, 1, 1, 1, 1, 0],\n",
       " [0, 0, 1, 1, 1, 1, 1, 1, 1, 1, 1, 1, 1, 1, 1, 1, 0],\n",
       " [0, 0, 1, 1, 1, 1, 1, 1, 1, 1, 1, 1, 1, 1, 1, 1, 0]]"
      ]
     },
     "execution_count": 105,
     "metadata": {},
     "output_type": "execute_result"
    }
   ],
   "source": [
    "users_list, user_dict_list = zip(*list(user_night_activities.items()))\n",
    "all_vectors = [vector for user_dict in user_dict_list for vector in user_dict.values() if sum(vector) >= 1]\n",
    "all_vectors[:5]"
   ]
  },
  {
   "cell_type": "code",
   "execution_count": 100,
   "metadata": {},
   "outputs": [
    {
     "data": {
      "application/vnd.plotly.v1+json": {
       "config": {
        "linkText": "Export to plot.ly",
        "plotlyServerURL": "https://plot.ly",
        "showLink": false
       },
       "data": [
        {
         "hoverinfo": "text",
         "marker": {
          "color": "rgb(61,153,112)"
         },
         "mode": "lines",
         "type": "scatter",
         "uid": "7f06b387-4ede-40cb-85c4-6a49f9e698a2",
         "x": [
          15,
          15,
          25,
          25
         ],
         "xaxis": "x",
         "y": [
          0,
          0,
          0,
          0
         ],
         "yaxis": "y"
        },
        {
         "hoverinfo": "text",
         "marker": {
          "color": "rgb(61,153,112)"
         },
         "mode": "lines",
         "type": "scatter",
         "uid": "2bdd5dab-851c-4543-b998-5bf55eff4371",
         "x": [
          5,
          5,
          20,
          20
         ],
         "xaxis": "x",
         "y": [
          0,
          1.4142135623730951,
          1.4142135623730951,
          0
         ],
         "yaxis": "y"
        },
        {
         "hoverinfo": "text",
         "marker": {
          "color": "rgb(0,116,217)"
         },
         "mode": "lines",
         "type": "scatter",
         "uid": "60360da0-cbf1-483f-a9e0-7237204c359b",
         "x": [
          35,
          35,
          45,
          45
         ],
         "xaxis": "x",
         "y": [
          0,
          2.6457513110645907,
          2.6457513110645907,
          0
         ],
         "yaxis": "y"
        },
        {
         "hoverinfo": "text",
         "marker": {
          "color": "rgb(0,116,217)"
         },
         "mode": "lines",
         "type": "scatter",
         "uid": "3eec746d-97e8-49e9-b197-6419e698eeb9",
         "x": [
          12.5,
          12.5,
          40,
          40
         ],
         "xaxis": "x",
         "y": [
          1.4142135623730951,
          3.7416573867739413,
          3.7416573867739413,
          2.6457513110645907
         ],
         "yaxis": "y"
        }
       ],
       "layout": {
        "autosize": false,
        "height": null,
        "hovermode": "closest",
        "showlegend": false,
        "width": null,
        "xaxis": {
         "mirror": "allticks",
         "rangemode": "tozero",
         "showgrid": false,
         "showline": true,
         "showticklabels": true,
         "tickmode": "array",
         "ticks": "outside",
         "ticktext": [
          "2",
          "3",
          "4",
          "0",
          "1"
         ],
         "tickvals": [
          5,
          15,
          25,
          35,
          45
         ],
         "type": "linear",
         "zeroline": false
        },
        "yaxis": {
         "mirror": "allticks",
         "rangemode": "tozero",
         "showgrid": false,
         "showline": true,
         "showticklabels": true,
         "ticks": "outside",
         "type": "linear",
         "zeroline": false
        }
       }
      },
      "text/html": [
       "<div id=\"f63bca09-35d7-4d35-8088-5e3fdf35fee4\" style=\"height: infpx; width: infpx;\" class=\"plotly-graph-div\"></div><script type=\"text/javascript\">require([\"plotly\"], function(Plotly) { window.PLOTLYENV=window.PLOTLYENV || {};window.PLOTLYENV.BASE_URL=\"https://plot.ly\";Plotly.newPlot(\"f63bca09-35d7-4d35-8088-5e3fdf35fee4\", [{\"hoverinfo\": \"text\", \"marker\": {\"color\": \"rgb(61,153,112)\"}, \"mode\": \"lines\", \"x\": [15.0, 15.0, 25.0, 25.0], \"xaxis\": \"x\", \"y\": [0.0, 0.0, 0.0, 0.0], \"yaxis\": \"y\", \"type\": \"scatter\", \"uid\": \"7f06b387-4ede-40cb-85c4-6a49f9e698a2\"}, {\"hoverinfo\": \"text\", \"marker\": {\"color\": \"rgb(61,153,112)\"}, \"mode\": \"lines\", \"x\": [5.0, 5.0, 20.0, 20.0], \"xaxis\": \"x\", \"y\": [0.0, 1.4142135623730951, 1.4142135623730951, 0.0], \"yaxis\": \"y\", \"type\": \"scatter\", \"uid\": \"2bdd5dab-851c-4543-b998-5bf55eff4371\"}, {\"hoverinfo\": \"text\", \"marker\": {\"color\": \"rgb(0,116,217)\"}, \"mode\": \"lines\", \"x\": [35.0, 35.0, 45.0, 45.0], \"xaxis\": \"x\", \"y\": [0.0, 2.6457513110645907, 2.6457513110645907, 0.0], \"yaxis\": \"y\", \"type\": \"scatter\", \"uid\": \"60360da0-cbf1-483f-a9e0-7237204c359b\"}, {\"hoverinfo\": \"text\", \"marker\": {\"color\": \"rgb(0,116,217)\"}, \"mode\": \"lines\", \"x\": [12.5, 12.5, 40.0, 40.0], \"xaxis\": \"x\", \"y\": [1.4142135623730951, 3.7416573867739413, 3.7416573867739413, 2.6457513110645907], \"yaxis\": \"y\", \"type\": \"scatter\", \"uid\": \"3eec746d-97e8-49e9-b197-6419e698eeb9\"}], {\"autosize\": false, \"height\": null, \"hovermode\": \"closest\", \"showlegend\": false, \"width\": null, \"xaxis\": {\"mirror\": \"allticks\", \"rangemode\": \"tozero\", \"showgrid\": false, \"showline\": true, \"showticklabels\": true, \"tickmode\": \"array\", \"ticks\": \"outside\", \"ticktext\": [\"2\", \"3\", \"4\", \"0\", \"1\"], \"tickvals\": [5, 15, 25, 35, 45], \"type\": \"linear\", \"zeroline\": false}, \"yaxis\": {\"mirror\": \"allticks\", \"rangemode\": \"tozero\", \"showgrid\": false, \"showline\": true, \"showticklabels\": true, \"ticks\": \"outside\", \"type\": \"linear\", \"zeroline\": false}}, {\"showLink\": false, \"linkText\": \"Export to plot.ly\", \"plotlyServerURL\": \"https://plot.ly\"})});</script>"
      ],
      "text/vnd.plotly.v1+html": [
       "<div id=\"f63bca09-35d7-4d35-8088-5e3fdf35fee4\" style=\"height: infpx; width: infpx;\" class=\"plotly-graph-div\"></div><script type=\"text/javascript\">require([\"plotly\"], function(Plotly) { window.PLOTLYENV=window.PLOTLYENV || {};window.PLOTLYENV.BASE_URL=\"https://plot.ly\";Plotly.newPlot(\"f63bca09-35d7-4d35-8088-5e3fdf35fee4\", [{\"hoverinfo\": \"text\", \"marker\": {\"color\": \"rgb(61,153,112)\"}, \"mode\": \"lines\", \"x\": [15.0, 15.0, 25.0, 25.0], \"xaxis\": \"x\", \"y\": [0.0, 0.0, 0.0, 0.0], \"yaxis\": \"y\", \"type\": \"scatter\", \"uid\": \"7f06b387-4ede-40cb-85c4-6a49f9e698a2\"}, {\"hoverinfo\": \"text\", \"marker\": {\"color\": \"rgb(61,153,112)\"}, \"mode\": \"lines\", \"x\": [5.0, 5.0, 20.0, 20.0], \"xaxis\": \"x\", \"y\": [0.0, 1.4142135623730951, 1.4142135623730951, 0.0], \"yaxis\": \"y\", \"type\": \"scatter\", \"uid\": \"2bdd5dab-851c-4543-b998-5bf55eff4371\"}, {\"hoverinfo\": \"text\", \"marker\": {\"color\": \"rgb(0,116,217)\"}, \"mode\": \"lines\", \"x\": [35.0, 35.0, 45.0, 45.0], \"xaxis\": \"x\", \"y\": [0.0, 2.6457513110645907, 2.6457513110645907, 0.0], \"yaxis\": \"y\", \"type\": \"scatter\", \"uid\": \"60360da0-cbf1-483f-a9e0-7237204c359b\"}, {\"hoverinfo\": \"text\", \"marker\": {\"color\": \"rgb(0,116,217)\"}, \"mode\": \"lines\", \"x\": [12.5, 12.5, 40.0, 40.0], \"xaxis\": \"x\", \"y\": [1.4142135623730951, 3.7416573867739413, 3.7416573867739413, 2.6457513110645907], \"yaxis\": \"y\", \"type\": \"scatter\", \"uid\": \"3eec746d-97e8-49e9-b197-6419e698eeb9\"}], {\"autosize\": false, \"height\": null, \"hovermode\": \"closest\", \"showlegend\": false, \"width\": null, \"xaxis\": {\"mirror\": \"allticks\", \"rangemode\": \"tozero\", \"showgrid\": false, \"showline\": true, \"showticklabels\": true, \"tickmode\": \"array\", \"ticks\": \"outside\", \"ticktext\": [\"2\", \"3\", \"4\", \"0\", \"1\"], \"tickvals\": [5, 15, 25, 35, 45], \"type\": \"linear\", \"zeroline\": false}, \"yaxis\": {\"mirror\": \"allticks\", \"rangemode\": \"tozero\", \"showgrid\": false, \"showline\": true, \"showticklabels\": true, \"ticks\": \"outside\", \"type\": \"linear\", \"zeroline\": false}}, {\"showLink\": false, \"linkText\": \"Export to plot.ly\", \"plotlyServerURL\": \"https://plot.ly\"})});</script>"
      ]
     },
     "metadata": {},
     "output_type": "display_data"
    }
   ],
   "source": [
    "import plotly.figure_factory as ff\n",
    "import numpy as np\n",
    "dendro = ff.create_dendrogram(np.array(all_vectors[:5]))\n",
    "iplot(dendro, filename='sample_dendrogram')"
   ]
  },
  {
   "cell_type": "code",
   "execution_count": 103,
   "metadata": {},
   "outputs": [
    {
     "data": {
      "application/vnd.plotly.v1+json": {
       "config": {
        "linkText": "Export to plot.ly",
        "plotlyServerURL": "https://plot.ly",
        "showLink": false
       },
       "data": [
        {
         "hoverinfo": "text",
         "marker": {
          "color": "rgb(61,153,112)"
         },
         "mode": "lines",
         "type": "scatter",
         "uid": "bd8e023f-f4bb-4f5c-bd14-02de67f877f4",
         "x": [
          5,
          5,
          15,
          15
         ],
         "xaxis": "x",
         "y": [
          0,
          1.4142135623730951,
          1.4142135623730951,
          0
         ],
         "yaxis": "y"
        },
        {
         "hoverinfo": "text",
         "marker": {
          "color": "rgb(61,153,112)"
         },
         "mode": "lines",
         "type": "scatter",
         "uid": "1a69e236-7e2c-4cef-a244-72853ae754e8",
         "x": [
          25,
          25,
          35,
          35
         ],
         "xaxis": "x",
         "y": [
          0,
          1,
          1,
          0
         ],
         "yaxis": "y"
        },
        {
         "hoverinfo": "text",
         "marker": {
          "color": "rgb(61,153,112)"
         },
         "mode": "lines",
         "type": "scatter",
         "uid": "146601b9-b698-460a-84b3-702894216cec",
         "x": [
          45,
          45,
          55,
          55
         ],
         "xaxis": "x",
         "y": [
          0,
          1.7320508075688772,
          1.7320508075688772,
          0
         ],
         "yaxis": "y"
        },
        {
         "hoverinfo": "text",
         "marker": {
          "color": "rgb(61,153,112)"
         },
         "mode": "lines",
         "type": "scatter",
         "uid": "f6bc8e54-390c-48a3-97f1-f431bd0a67c7",
         "x": [
          30,
          30,
          50,
          50
         ],
         "xaxis": "x",
         "y": [
          1,
          2,
          2,
          1.7320508075688772
         ],
         "yaxis": "y"
        },
        {
         "hoverinfo": "text",
         "marker": {
          "color": "rgb(61,153,112)"
         },
         "mode": "lines",
         "type": "scatter",
         "uid": "965631ea-135a-448d-8a8b-ac25d86f8d09",
         "x": [
          10,
          10,
          40,
          40
         ],
         "xaxis": "x",
         "y": [
          1.4142135623730951,
          2.6457513110645907,
          2.6457513110645907,
          2
         ],
         "yaxis": "y"
        },
        {
         "hoverinfo": "text",
         "marker": {
          "color": "rgb(255,65,54)"
         },
         "mode": "lines",
         "type": "scatter",
         "uid": "ad86d444-f9d7-49ee-a53d-4c86e085247b",
         "x": [
          65,
          65,
          75,
          75
         ],
         "xaxis": "x",
         "y": [
          0,
          0,
          0,
          0
         ],
         "yaxis": "y"
        },
        {
         "hoverinfo": "text",
         "marker": {
          "color": "rgb(255,65,54)"
         },
         "mode": "lines",
         "type": "scatter",
         "uid": "842ddf70-5127-4675-83f1-d39b5c36e072",
         "x": [
          95,
          95,
          105,
          105
         ],
         "xaxis": "x",
         "y": [
          0,
          0,
          0,
          0
         ],
         "yaxis": "y"
        },
        {
         "hoverinfo": "text",
         "marker": {
          "color": "rgb(255,65,54)"
         },
         "mode": "lines",
         "type": "scatter",
         "uid": "ac04078e-a8f8-420f-aeff-3f39f7491fd9",
         "x": [
          115,
          115,
          125,
          125
         ],
         "xaxis": "x",
         "y": [
          0,
          1,
          1,
          0
         ],
         "yaxis": "y"
        },
        {
         "hoverinfo": "text",
         "marker": {
          "color": "rgb(255,65,54)"
         },
         "mode": "lines",
         "type": "scatter",
         "uid": "6a7bccb3-19aa-4112-91c1-412118f95d35",
         "x": [
          100,
          100,
          120,
          120
         ],
         "xaxis": "x",
         "y": [
          0,
          1.4142135623730951,
          1.4142135623730951,
          1
         ],
         "yaxis": "y"
        },
        {
         "hoverinfo": "text",
         "marker": {
          "color": "rgb(255,65,54)"
         },
         "mode": "lines",
         "type": "scatter",
         "uid": "bc3ea26d-c8a9-4195-8ef6-7ea0a8d16be3",
         "x": [
          85,
          85,
          110,
          110
         ],
         "xaxis": "x",
         "y": [
          0,
          1.7320508075688772,
          1.7320508075688772,
          1.4142135623730951
         ],
         "yaxis": "y"
        },
        {
         "hoverinfo": "text",
         "marker": {
          "color": "rgb(255,65,54)"
         },
         "mode": "lines",
         "type": "scatter",
         "uid": "8d73e9f7-f4a9-4211-87ff-e1df6a88263c",
         "x": [
          70,
          70,
          97.5,
          97.5
         ],
         "xaxis": "x",
         "y": [
          0,
          2,
          2,
          1.7320508075688772
         ],
         "yaxis": "y"
        },
        {
         "hoverinfo": "text",
         "marker": {
          "color": "rgb(255,65,54)"
         },
         "mode": "lines",
         "type": "scatter",
         "uid": "7006eff8-ac6c-45d1-850c-3ab03a366a83",
         "x": [
          135,
          135,
          145,
          145
         ],
         "xaxis": "x",
         "y": [
          0,
          1,
          1,
          0
         ],
         "yaxis": "y"
        },
        {
         "hoverinfo": "text",
         "marker": {
          "color": "rgb(255,65,54)"
         },
         "mode": "lines",
         "type": "scatter",
         "uid": "b56d5e5a-7fe8-45a2-b62e-ab712d3b9849",
         "x": [
          165,
          165,
          175,
          175
         ],
         "xaxis": "x",
         "y": [
          0,
          1,
          1,
          0
         ],
         "yaxis": "y"
        },
        {
         "hoverinfo": "text",
         "marker": {
          "color": "rgb(255,65,54)"
         },
         "mode": "lines",
         "type": "scatter",
         "uid": "22589ecf-32af-4269-9fb5-71e315daf4ff",
         "x": [
          155,
          155,
          170,
          170
         ],
         "xaxis": "x",
         "y": [
          0,
          1.4142135623730951,
          1.4142135623730951,
          1
         ],
         "yaxis": "y"
        },
        {
         "hoverinfo": "text",
         "marker": {
          "color": "rgb(255,65,54)"
         },
         "mode": "lines",
         "type": "scatter",
         "uid": "55b77755-a9b5-4715-a358-3aa19d968d62",
         "x": [
          140,
          140,
          162.5,
          162.5
         ],
         "xaxis": "x",
         "y": [
          1,
          2,
          2,
          1.4142135623730951
         ],
         "yaxis": "y"
        },
        {
         "hoverinfo": "text",
         "marker": {
          "color": "rgb(255,65,54)"
         },
         "mode": "lines",
         "type": "scatter",
         "uid": "4725419c-8a31-4d1d-96d8-08395213ddab",
         "x": [
          83.75,
          83.75,
          151.25,
          151.25
         ],
         "xaxis": "x",
         "y": [
          2,
          2.6457513110645907,
          2.6457513110645907,
          2
         ],
         "yaxis": "y"
        },
        {
         "hoverinfo": "text",
         "marker": {
          "color": "rgb(0,116,217)"
         },
         "mode": "lines",
         "type": "scatter",
         "uid": "aed55134-a0aa-42b1-851f-a9f405400b9b",
         "x": [
          25,
          25,
          117.5,
          117.5
         ],
         "xaxis": "x",
         "y": [
          2.6457513110645907,
          3.4641016151377544,
          3.4641016151377544,
          2.6457513110645907
         ],
         "yaxis": "y"
        },
        {
         "hoverinfo": "text",
         "marker": {
          "color": "rgb(35,205,205)"
         },
         "mode": "lines",
         "type": "scatter",
         "uid": "10779afb-53a3-45c0-9632-bf574f978e0e",
         "x": [
          185,
          185,
          195,
          195
         ],
         "xaxis": "x",
         "y": [
          0,
          1.4142135623730951,
          1.4142135623730951,
          0
         ],
         "yaxis": "y"
        },
        {
         "hoverinfo": "text",
         "marker": {
          "color": "rgb(35,205,205)"
         },
         "mode": "lines",
         "type": "scatter",
         "uid": "2e10077e-741a-4efa-aff0-39e45067dbe2",
         "x": [
          205,
          205,
          215,
          215
         ],
         "xaxis": "x",
         "y": [
          0,
          1,
          1,
          0
         ],
         "yaxis": "y"
        },
        {
         "hoverinfo": "text",
         "marker": {
          "color": "rgb(35,205,205)"
         },
         "mode": "lines",
         "type": "scatter",
         "uid": "f606a1af-1574-46f9-9b33-129438a9a410",
         "x": [
          225,
          225,
          235,
          235
         ],
         "xaxis": "x",
         "y": [
          0,
          1.4142135623730951,
          1.4142135623730951,
          0
         ],
         "yaxis": "y"
        },
        {
         "hoverinfo": "text",
         "marker": {
          "color": "rgb(35,205,205)"
         },
         "mode": "lines",
         "type": "scatter",
         "uid": "383611dc-06b3-4b09-8dba-12a78be26fe6",
         "x": [
          210,
          210,
          230,
          230
         ],
         "xaxis": "x",
         "y": [
          1,
          1.7320508075688772,
          1.7320508075688772,
          1.4142135623730951
         ],
         "yaxis": "y"
        },
        {
         "hoverinfo": "text",
         "marker": {
          "color": "rgb(35,205,205)"
         },
         "mode": "lines",
         "type": "scatter",
         "uid": "d0a9da5a-8d75-4cab-ab97-bc8b74e877bd",
         "x": [
          190,
          190,
          220,
          220
         ],
         "xaxis": "x",
         "y": [
          1.4142135623730951,
          2.23606797749979,
          2.23606797749979,
          1.7320508075688772
         ],
         "yaxis": "y"
        },
        {
         "hoverinfo": "text",
         "marker": {
          "color": "rgb(133,20,75)"
         },
         "mode": "lines",
         "type": "scatter",
         "uid": "e4122f80-387a-4571-9817-c204b47024ed",
         "x": [
          275,
          275,
          285,
          285
         ],
         "xaxis": "x",
         "y": [
          0,
          0,
          0,
          0
         ],
         "yaxis": "y"
        },
        {
         "hoverinfo": "text",
         "marker": {
          "color": "rgb(133,20,75)"
         },
         "mode": "lines",
         "type": "scatter",
         "uid": "2b2e826f-67f0-4a5e-964a-5b8875440ff2",
         "x": [
          265,
          265,
          280,
          280
         ],
         "xaxis": "x",
         "y": [
          0,
          0,
          0,
          0
         ],
         "yaxis": "y"
        },
        {
         "hoverinfo": "text",
         "marker": {
          "color": "rgb(133,20,75)"
         },
         "mode": "lines",
         "type": "scatter",
         "uid": "0674f017-137c-4f1b-b791-8f01977a8f66",
         "x": [
          255,
          255,
          272.5,
          272.5
         ],
         "xaxis": "x",
         "y": [
          0,
          0,
          0,
          0
         ],
         "yaxis": "y"
        },
        {
         "hoverinfo": "text",
         "marker": {
          "color": "rgb(133,20,75)"
         },
         "mode": "lines",
         "type": "scatter",
         "uid": "5f1f262e-e0a3-43c5-bfcb-2718fab78a79",
         "x": [
          245,
          245,
          263.75,
          263.75
         ],
         "xaxis": "x",
         "y": [
          0,
          0,
          0,
          0
         ],
         "yaxis": "y"
        },
        {
         "hoverinfo": "text",
         "marker": {
          "color": "rgb(133,20,75)"
         },
         "mode": "lines",
         "type": "scatter",
         "uid": "34731c14-cea2-421b-9b16-2421926e3925",
         "x": [
          295,
          295,
          305,
          305
         ],
         "xaxis": "x",
         "y": [
          0,
          0,
          0,
          0
         ],
         "yaxis": "y"
        },
        {
         "hoverinfo": "text",
         "marker": {
          "color": "rgb(133,20,75)"
         },
         "mode": "lines",
         "type": "scatter",
         "uid": "88499183-d420-4618-8642-8fb21bb70a08",
         "x": [
          254.375,
          254.375,
          300,
          300
         ],
         "xaxis": "x",
         "y": [
          0,
          1,
          1,
          0
         ],
         "yaxis": "y"
        },
        {
         "hoverinfo": "text",
         "marker": {
          "color": "rgb(133,20,75)"
         },
         "mode": "lines",
         "type": "scatter",
         "uid": "48714c54-d64a-44b3-ae5a-7fc8c430c026",
         "x": [
          365,
          365,
          375,
          375
         ],
         "xaxis": "x",
         "y": [
          0,
          0,
          0,
          0
         ],
         "yaxis": "y"
        },
        {
         "hoverinfo": "text",
         "marker": {
          "color": "rgb(133,20,75)"
         },
         "mode": "lines",
         "type": "scatter",
         "uid": "feea5f67-fe56-4ff4-b637-4ed639a8297e",
         "x": [
          355,
          355,
          370,
          370
         ],
         "xaxis": "x",
         "y": [
          0,
          0,
          0,
          0
         ],
         "yaxis": "y"
        },
        {
         "hoverinfo": "text",
         "marker": {
          "color": "rgb(133,20,75)"
         },
         "mode": "lines",
         "type": "scatter",
         "uid": "c557758d-ef03-4099-9d61-a176912ced8a",
         "x": [
          345,
          345,
          362.5,
          362.5
         ],
         "xaxis": "x",
         "y": [
          0,
          0,
          0,
          0
         ],
         "yaxis": "y"
        },
        {
         "hoverinfo": "text",
         "marker": {
          "color": "rgb(133,20,75)"
         },
         "mode": "lines",
         "type": "scatter",
         "uid": "e4dee553-c509-4d3a-ba47-e96a604fae48",
         "x": [
          335,
          335,
          353.75,
          353.75
         ],
         "xaxis": "x",
         "y": [
          0,
          0,
          0,
          0
         ],
         "yaxis": "y"
        },
        {
         "hoverinfo": "text",
         "marker": {
          "color": "rgb(133,20,75)"
         },
         "mode": "lines",
         "type": "scatter",
         "uid": "051bdd77-eeb0-4472-8e75-d2d84b59cc47",
         "x": [
          325,
          325,
          344.375,
          344.375
         ],
         "xaxis": "x",
         "y": [
          0,
          0,
          0,
          0
         ],
         "yaxis": "y"
        },
        {
         "hoverinfo": "text",
         "marker": {
          "color": "rgb(133,20,75)"
         },
         "mode": "lines",
         "type": "scatter",
         "uid": "c29e4b52-ba4b-46ba-aa1e-5c3b0313c781",
         "x": [
          315,
          315,
          334.6875,
          334.6875
         ],
         "xaxis": "x",
         "y": [
          0,
          1.4142135623730951,
          1.4142135623730951,
          0
         ],
         "yaxis": "y"
        },
        {
         "hoverinfo": "text",
         "marker": {
          "color": "rgb(133,20,75)"
         },
         "mode": "lines",
         "type": "scatter",
         "uid": "9168de8a-1e3f-4af4-966b-5279e3d09cc6",
         "x": [
          277.1875,
          277.1875,
          324.84375,
          324.84375
         ],
         "xaxis": "x",
         "y": [
          1,
          2.23606797749979,
          2.23606797749979,
          1.4142135623730951
         ],
         "yaxis": "y"
        },
        {
         "hoverinfo": "text",
         "marker": {
          "color": "rgb(0,116,217)"
         },
         "mode": "lines",
         "type": "scatter",
         "uid": "cbe81f59-bced-4b61-884f-159280e78ebc",
         "x": [
          205,
          205,
          301.015625,
          301.015625
         ],
         "xaxis": "x",
         "y": [
          2.23606797749979,
          3,
          3,
          2.23606797749979
         ],
         "yaxis": "y"
        },
        {
         "hoverinfo": "text",
         "marker": {
          "color": "rgb(255,220,0)"
         },
         "mode": "lines",
         "type": "scatter",
         "uid": "f0967223-f362-4c50-bad5-bf156921f1eb",
         "x": [
          385,
          385,
          395,
          395
         ],
         "xaxis": "x",
         "y": [
          0,
          1,
          1,
          0
         ],
         "yaxis": "y"
        },
        {
         "hoverinfo": "text",
         "marker": {
          "color": "rgb(40,35,35)"
         },
         "mode": "lines",
         "type": "scatter",
         "uid": "6e128097-9bd7-4a2c-bae5-70b639503f20",
         "x": [
          415,
          415,
          425,
          425
         ],
         "xaxis": "x",
         "y": [
          0,
          1.7320508075688772,
          1.7320508075688772,
          0
         ],
         "yaxis": "y"
        },
        {
         "hoverinfo": "text",
         "marker": {
          "color": "rgb(40,35,35)"
         },
         "mode": "lines",
         "type": "scatter",
         "uid": "dc348208-0b43-4bb7-8617-0bbb8e62a0e7",
         "x": [
          405,
          405,
          420,
          420
         ],
         "xaxis": "x",
         "y": [
          0,
          2,
          2,
          1.7320508075688772
         ],
         "yaxis": "y"
        },
        {
         "hoverinfo": "text",
         "marker": {
          "color": "rgb(61,153,112)"
         },
         "mode": "lines",
         "type": "scatter",
         "uid": "d0589d5b-f17e-4e67-bf76-294b6cfadd5a",
         "x": [
          445,
          445,
          455,
          455
         ],
         "xaxis": "x",
         "y": [
          0,
          1,
          1,
          0
         ],
         "yaxis": "y"
        },
        {
         "hoverinfo": "text",
         "marker": {
          "color": "rgb(61,153,112)"
         },
         "mode": "lines",
         "type": "scatter",
         "uid": "7f1b3613-957c-48de-8ecc-b4ff5b3492ee",
         "x": [
          435,
          435,
          450,
          450
         ],
         "xaxis": "x",
         "y": [
          0,
          1.4142135623730951,
          1.4142135623730951,
          1
         ],
         "yaxis": "y"
        },
        {
         "hoverinfo": "text",
         "marker": {
          "color": "rgb(61,153,112)"
         },
         "mode": "lines",
         "type": "scatter",
         "uid": "78ab6177-a5e4-463a-be74-53405fe7790e",
         "x": [
          465,
          465,
          475,
          475
         ],
         "xaxis": "x",
         "y": [
          0,
          0,
          0,
          0
         ],
         "yaxis": "y"
        },
        {
         "hoverinfo": "text",
         "marker": {
          "color": "rgb(61,153,112)"
         },
         "mode": "lines",
         "type": "scatter",
         "uid": "9fdf8be9-2988-43ef-a469-519428426a8a",
         "x": [
          485,
          485,
          495,
          495
         ],
         "xaxis": "x",
         "y": [
          0,
          1,
          1,
          0
         ],
         "yaxis": "y"
        },
        {
         "hoverinfo": "text",
         "marker": {
          "color": "rgb(61,153,112)"
         },
         "mode": "lines",
         "type": "scatter",
         "uid": "93813a4f-da32-49c0-8d52-dd374ca7154c",
         "x": [
          470,
          470,
          490,
          490
         ],
         "xaxis": "x",
         "y": [
          0,
          1.4142135623730951,
          1.4142135623730951,
          1
         ],
         "yaxis": "y"
        },
        {
         "hoverinfo": "text",
         "marker": {
          "color": "rgb(61,153,112)"
         },
         "mode": "lines",
         "type": "scatter",
         "uid": "338ace62-fffa-43b0-a61a-06ab8f9ca3ca",
         "x": [
          442.5,
          442.5,
          480,
          480
         ],
         "xaxis": "x",
         "y": [
          1.4142135623730951,
          2.23606797749979,
          2.23606797749979,
          1.4142135623730951
         ],
         "yaxis": "y"
        },
        {
         "hoverinfo": "text",
         "marker": {
          "color": "rgb(0,116,217)"
         },
         "mode": "lines",
         "type": "scatter",
         "uid": "56b26d5c-e5cb-4e01-91c7-26cf04886d4a",
         "x": [
          412.5,
          412.5,
          461.25,
          461.25
         ],
         "xaxis": "x",
         "y": [
          2,
          3,
          3,
          2.23606797749979
         ],
         "yaxis": "y"
        },
        {
         "hoverinfo": "text",
         "marker": {
          "color": "rgb(0,116,217)"
         },
         "mode": "lines",
         "type": "scatter",
         "uid": "773a6400-193f-4d8b-8d8d-f2d0631bf031",
         "x": [
          390,
          390,
          436.875,
          436.875
         ],
         "xaxis": "x",
         "y": [
          1,
          3,
          3,
          3
         ],
         "yaxis": "y"
        },
        {
         "hoverinfo": "text",
         "marker": {
          "color": "rgb(0,116,217)"
         },
         "mode": "lines",
         "type": "scatter",
         "uid": "42d0762b-2cf7-432b-bc3b-b15ff391ae5b",
         "x": [
          253.0078125,
          253.0078125,
          413.4375,
          413.4375
         ],
         "xaxis": "x",
         "y": [
          3,
          3.872983346207417,
          3.872983346207417,
          3
         ],
         "yaxis": "y"
        },
        {
         "hoverinfo": "text",
         "marker": {
          "color": "rgb(0,116,217)"
         },
         "mode": "lines",
         "type": "scatter",
         "uid": "89ad792e-597f-499a-b99a-28cab88a92d5",
         "x": [
          71.25,
          71.25,
          333.22265625,
          333.22265625
         ],
         "xaxis": "x",
         "y": [
          3.4641016151377544,
          4.123105625617661,
          4.123105625617661,
          3.872983346207417
         ],
         "yaxis": "y"
        }
       ],
       "layout": {
        "autosize": false,
        "height": null,
        "hovermode": "closest",
        "showlegend": false,
        "width": null,
        "xaxis": {
         "mirror": "allticks",
         "rangemode": "tozero",
         "showgrid": false,
         "showline": true,
         "showticklabels": true,
         "tickmode": "array",
         "ticks": "outside",
         "ticktext": [
          "19",
          "33",
          "9",
          "25",
          "12",
          "21",
          "38",
          "39",
          "24",
          "20",
          "22",
          "1",
          "18",
          "8",
          "37",
          "36",
          "40",
          "41",
          "15",
          "28",
          "17",
          "44",
          "16",
          "26",
          "46",
          "7",
          "5",
          "3",
          "4",
          "34",
          "49",
          "29",
          "45",
          "43",
          "42",
          "30",
          "2",
          "6",
          "23",
          "48",
          "27",
          "0",
          "10",
          "14",
          "11",
          "47",
          "31",
          "35",
          "13",
          "32"
         ],
         "tickvals": [
          5,
          15,
          25,
          35,
          45,
          55,
          65,
          75,
          85,
          95,
          105,
          115,
          125,
          135,
          145,
          155,
          165,
          175,
          185,
          195,
          205,
          215,
          225,
          235,
          245,
          255,
          265,
          275,
          285,
          295,
          305,
          315,
          325,
          335,
          345,
          355,
          365,
          375,
          385,
          395,
          405,
          415,
          425,
          435,
          445,
          455,
          465,
          475,
          485,
          495
         ],
         "type": "linear",
         "zeroline": false
        },
        "yaxis": {
         "mirror": "allticks",
         "rangemode": "tozero",
         "showgrid": false,
         "showline": true,
         "showticklabels": true,
         "ticks": "outside",
         "type": "linear",
         "zeroline": false
        }
       }
      },
      "text/html": [
       "<div id=\"5d9a66c9-a129-4dc2-8c99-f86f566a4fae\" style=\"height: infpx; width: infpx;\" class=\"plotly-graph-div\"></div><script type=\"text/javascript\">require([\"plotly\"], function(Plotly) { window.PLOTLYENV=window.PLOTLYENV || {};window.PLOTLYENV.BASE_URL=\"https://plot.ly\";Plotly.newPlot(\"5d9a66c9-a129-4dc2-8c99-f86f566a4fae\", [{\"hoverinfo\": \"text\", \"marker\": {\"color\": \"rgb(61,153,112)\"}, \"mode\": \"lines\", \"x\": [5.0, 5.0, 15.0, 15.0], \"xaxis\": \"x\", \"y\": [0.0, 1.4142135623730951, 1.4142135623730951, 0.0], \"yaxis\": \"y\", \"type\": \"scatter\", \"uid\": \"bd8e023f-f4bb-4f5c-bd14-02de67f877f4\"}, {\"hoverinfo\": \"text\", \"marker\": {\"color\": \"rgb(61,153,112)\"}, \"mode\": \"lines\", \"x\": [25.0, 25.0, 35.0, 35.0], \"xaxis\": \"x\", \"y\": [0.0, 1.0, 1.0, 0.0], \"yaxis\": \"y\", \"type\": \"scatter\", \"uid\": \"1a69e236-7e2c-4cef-a244-72853ae754e8\"}, {\"hoverinfo\": \"text\", \"marker\": {\"color\": \"rgb(61,153,112)\"}, \"mode\": \"lines\", \"x\": [45.0, 45.0, 55.0, 55.0], \"xaxis\": \"x\", \"y\": [0.0, 1.7320508075688772, 1.7320508075688772, 0.0], \"yaxis\": \"y\", \"type\": \"scatter\", \"uid\": \"146601b9-b698-460a-84b3-702894216cec\"}, {\"hoverinfo\": \"text\", \"marker\": {\"color\": \"rgb(61,153,112)\"}, \"mode\": \"lines\", \"x\": [30.0, 30.0, 50.0, 50.0], \"xaxis\": \"x\", \"y\": [1.0, 2.0, 2.0, 1.7320508075688772], \"yaxis\": \"y\", \"type\": \"scatter\", \"uid\": \"f6bc8e54-390c-48a3-97f1-f431bd0a67c7\"}, {\"hoverinfo\": \"text\", \"marker\": {\"color\": \"rgb(61,153,112)\"}, \"mode\": \"lines\", \"x\": [10.0, 10.0, 40.0, 40.0], \"xaxis\": \"x\", \"y\": [1.4142135623730951, 2.6457513110645907, 2.6457513110645907, 2.0], \"yaxis\": \"y\", \"type\": \"scatter\", \"uid\": \"965631ea-135a-448d-8a8b-ac25d86f8d09\"}, {\"hoverinfo\": \"text\", \"marker\": {\"color\": \"rgb(255,65,54)\"}, \"mode\": \"lines\", \"x\": [65.0, 65.0, 75.0, 75.0], \"xaxis\": \"x\", \"y\": [0.0, 0.0, 0.0, 0.0], \"yaxis\": \"y\", \"type\": \"scatter\", \"uid\": \"ad86d444-f9d7-49ee-a53d-4c86e085247b\"}, {\"hoverinfo\": \"text\", \"marker\": {\"color\": \"rgb(255,65,54)\"}, \"mode\": \"lines\", \"x\": [95.0, 95.0, 105.0, 105.0], \"xaxis\": \"x\", \"y\": [0.0, 0.0, 0.0, 0.0], \"yaxis\": \"y\", \"type\": \"scatter\", \"uid\": \"842ddf70-5127-4675-83f1-d39b5c36e072\"}, {\"hoverinfo\": \"text\", \"marker\": {\"color\": \"rgb(255,65,54)\"}, \"mode\": \"lines\", \"x\": [115.0, 115.0, 125.0, 125.0], \"xaxis\": \"x\", \"y\": [0.0, 1.0, 1.0, 0.0], \"yaxis\": \"y\", \"type\": \"scatter\", \"uid\": \"ac04078e-a8f8-420f-aeff-3f39f7491fd9\"}, {\"hoverinfo\": \"text\", \"marker\": {\"color\": \"rgb(255,65,54)\"}, \"mode\": \"lines\", \"x\": [100.0, 100.0, 120.0, 120.0], \"xaxis\": \"x\", \"y\": [0.0, 1.4142135623730951, 1.4142135623730951, 1.0], \"yaxis\": \"y\", \"type\": \"scatter\", \"uid\": \"6a7bccb3-19aa-4112-91c1-412118f95d35\"}, {\"hoverinfo\": \"text\", \"marker\": {\"color\": \"rgb(255,65,54)\"}, \"mode\": \"lines\", \"x\": [85.0, 85.0, 110.0, 110.0], \"xaxis\": \"x\", \"y\": [0.0, 1.7320508075688772, 1.7320508075688772, 1.4142135623730951], \"yaxis\": \"y\", \"type\": \"scatter\", \"uid\": \"bc3ea26d-c8a9-4195-8ef6-7ea0a8d16be3\"}, {\"hoverinfo\": \"text\", \"marker\": {\"color\": \"rgb(255,65,54)\"}, \"mode\": \"lines\", \"x\": [70.0, 70.0, 97.5, 97.5], \"xaxis\": \"x\", \"y\": [0.0, 2.0, 2.0, 1.7320508075688772], \"yaxis\": \"y\", \"type\": \"scatter\", \"uid\": \"8d73e9f7-f4a9-4211-87ff-e1df6a88263c\"}, {\"hoverinfo\": \"text\", \"marker\": {\"color\": \"rgb(255,65,54)\"}, \"mode\": \"lines\", \"x\": [135.0, 135.0, 145.0, 145.0], \"xaxis\": \"x\", \"y\": [0.0, 1.0, 1.0, 0.0], \"yaxis\": \"y\", \"type\": \"scatter\", \"uid\": \"7006eff8-ac6c-45d1-850c-3ab03a366a83\"}, {\"hoverinfo\": \"text\", \"marker\": {\"color\": \"rgb(255,65,54)\"}, \"mode\": \"lines\", \"x\": [165.0, 165.0, 175.0, 175.0], \"xaxis\": \"x\", \"y\": [0.0, 1.0, 1.0, 0.0], \"yaxis\": \"y\", \"type\": \"scatter\", \"uid\": \"b56d5e5a-7fe8-45a2-b62e-ab712d3b9849\"}, {\"hoverinfo\": \"text\", \"marker\": {\"color\": \"rgb(255,65,54)\"}, \"mode\": \"lines\", \"x\": [155.0, 155.0, 170.0, 170.0], \"xaxis\": \"x\", \"y\": [0.0, 1.4142135623730951, 1.4142135623730951, 1.0], \"yaxis\": \"y\", \"type\": \"scatter\", \"uid\": \"22589ecf-32af-4269-9fb5-71e315daf4ff\"}, {\"hoverinfo\": \"text\", \"marker\": {\"color\": \"rgb(255,65,54)\"}, \"mode\": \"lines\", \"x\": [140.0, 140.0, 162.5, 162.5], \"xaxis\": \"x\", \"y\": [1.0, 2.0, 2.0, 1.4142135623730951], \"yaxis\": \"y\", \"type\": \"scatter\", \"uid\": \"55b77755-a9b5-4715-a358-3aa19d968d62\"}, {\"hoverinfo\": \"text\", \"marker\": {\"color\": \"rgb(255,65,54)\"}, \"mode\": \"lines\", \"x\": [83.75, 83.75, 151.25, 151.25], \"xaxis\": \"x\", \"y\": [2.0, 2.6457513110645907, 2.6457513110645907, 2.0], \"yaxis\": \"y\", \"type\": \"scatter\", \"uid\": \"4725419c-8a31-4d1d-96d8-08395213ddab\"}, {\"hoverinfo\": \"text\", \"marker\": {\"color\": \"rgb(0,116,217)\"}, \"mode\": \"lines\", \"x\": [25.0, 25.0, 117.5, 117.5], \"xaxis\": \"x\", \"y\": [2.6457513110645907, 3.4641016151377544, 3.4641016151377544, 2.6457513110645907], \"yaxis\": \"y\", \"type\": \"scatter\", \"uid\": \"aed55134-a0aa-42b1-851f-a9f405400b9b\"}, {\"hoverinfo\": \"text\", \"marker\": {\"color\": \"rgb(35,205,205)\"}, \"mode\": \"lines\", \"x\": [185.0, 185.0, 195.0, 195.0], \"xaxis\": \"x\", \"y\": [0.0, 1.4142135623730951, 1.4142135623730951, 0.0], \"yaxis\": \"y\", \"type\": \"scatter\", \"uid\": \"10779afb-53a3-45c0-9632-bf574f978e0e\"}, {\"hoverinfo\": \"text\", \"marker\": {\"color\": \"rgb(35,205,205)\"}, \"mode\": \"lines\", \"x\": [205.0, 205.0, 215.0, 215.0], \"xaxis\": \"x\", \"y\": [0.0, 1.0, 1.0, 0.0], \"yaxis\": \"y\", \"type\": \"scatter\", \"uid\": \"2e10077e-741a-4efa-aff0-39e45067dbe2\"}, {\"hoverinfo\": \"text\", \"marker\": {\"color\": \"rgb(35,205,205)\"}, \"mode\": \"lines\", \"x\": [225.0, 225.0, 235.0, 235.0], \"xaxis\": \"x\", \"y\": [0.0, 1.4142135623730951, 1.4142135623730951, 0.0], \"yaxis\": \"y\", \"type\": \"scatter\", \"uid\": \"f606a1af-1574-46f9-9b33-129438a9a410\"}, {\"hoverinfo\": \"text\", \"marker\": {\"color\": \"rgb(35,205,205)\"}, \"mode\": \"lines\", \"x\": [210.0, 210.0, 230.0, 230.0], \"xaxis\": \"x\", \"y\": [1.0, 1.7320508075688772, 1.7320508075688772, 1.4142135623730951], \"yaxis\": \"y\", \"type\": \"scatter\", \"uid\": \"383611dc-06b3-4b09-8dba-12a78be26fe6\"}, {\"hoverinfo\": \"text\", \"marker\": {\"color\": \"rgb(35,205,205)\"}, \"mode\": \"lines\", \"x\": [190.0, 190.0, 220.0, 220.0], \"xaxis\": \"x\", \"y\": [1.4142135623730951, 2.23606797749979, 2.23606797749979, 1.7320508075688772], \"yaxis\": \"y\", \"type\": \"scatter\", \"uid\": \"d0a9da5a-8d75-4cab-ab97-bc8b74e877bd\"}, {\"hoverinfo\": \"text\", \"marker\": {\"color\": \"rgb(133,20,75)\"}, \"mode\": \"lines\", \"x\": [275.0, 275.0, 285.0, 285.0], \"xaxis\": \"x\", \"y\": [0.0, 0.0, 0.0, 0.0], \"yaxis\": \"y\", \"type\": \"scatter\", \"uid\": \"e4122f80-387a-4571-9817-c204b47024ed\"}, {\"hoverinfo\": \"text\", \"marker\": {\"color\": \"rgb(133,20,75)\"}, \"mode\": \"lines\", \"x\": [265.0, 265.0, 280.0, 280.0], \"xaxis\": \"x\", \"y\": [0.0, 0.0, 0.0, 0.0], \"yaxis\": \"y\", \"type\": \"scatter\", \"uid\": \"2b2e826f-67f0-4a5e-964a-5b8875440ff2\"}, {\"hoverinfo\": \"text\", \"marker\": {\"color\": \"rgb(133,20,75)\"}, \"mode\": \"lines\", \"x\": [255.0, 255.0, 272.5, 272.5], \"xaxis\": \"x\", \"y\": [0.0, 0.0, 0.0, 0.0], \"yaxis\": \"y\", \"type\": \"scatter\", \"uid\": \"0674f017-137c-4f1b-b791-8f01977a8f66\"}, {\"hoverinfo\": \"text\", \"marker\": {\"color\": \"rgb(133,20,75)\"}, \"mode\": \"lines\", \"x\": [245.0, 245.0, 263.75, 263.75], \"xaxis\": \"x\", \"y\": [0.0, 0.0, 0.0, 0.0], \"yaxis\": \"y\", \"type\": \"scatter\", \"uid\": \"5f1f262e-e0a3-43c5-bfcb-2718fab78a79\"}, {\"hoverinfo\": \"text\", \"marker\": {\"color\": \"rgb(133,20,75)\"}, \"mode\": \"lines\", \"x\": [295.0, 295.0, 305.0, 305.0], \"xaxis\": \"x\", \"y\": [0.0, 0.0, 0.0, 0.0], \"yaxis\": \"y\", \"type\": \"scatter\", \"uid\": \"34731c14-cea2-421b-9b16-2421926e3925\"}, {\"hoverinfo\": \"text\", \"marker\": {\"color\": \"rgb(133,20,75)\"}, \"mode\": \"lines\", \"x\": [254.375, 254.375, 300.0, 300.0], \"xaxis\": \"x\", \"y\": [0.0, 1.0, 1.0, 0.0], \"yaxis\": \"y\", \"type\": \"scatter\", \"uid\": \"88499183-d420-4618-8642-8fb21bb70a08\"}, {\"hoverinfo\": \"text\", \"marker\": {\"color\": \"rgb(133,20,75)\"}, \"mode\": \"lines\", \"x\": [365.0, 365.0, 375.0, 375.0], \"xaxis\": \"x\", \"y\": [0.0, 0.0, 0.0, 0.0], \"yaxis\": \"y\", \"type\": \"scatter\", \"uid\": \"48714c54-d64a-44b3-ae5a-7fc8c430c026\"}, {\"hoverinfo\": \"text\", \"marker\": {\"color\": \"rgb(133,20,75)\"}, \"mode\": \"lines\", \"x\": [355.0, 355.0, 370.0, 370.0], \"xaxis\": \"x\", \"y\": [0.0, 0.0, 0.0, 0.0], \"yaxis\": \"y\", \"type\": \"scatter\", \"uid\": \"feea5f67-fe56-4ff4-b637-4ed639a8297e\"}, {\"hoverinfo\": \"text\", \"marker\": {\"color\": \"rgb(133,20,75)\"}, \"mode\": \"lines\", \"x\": [345.0, 345.0, 362.5, 362.5], \"xaxis\": \"x\", \"y\": [0.0, 0.0, 0.0, 0.0], \"yaxis\": \"y\", \"type\": \"scatter\", \"uid\": \"c557758d-ef03-4099-9d61-a176912ced8a\"}, {\"hoverinfo\": \"text\", \"marker\": {\"color\": \"rgb(133,20,75)\"}, \"mode\": \"lines\", \"x\": [335.0, 335.0, 353.75, 353.75], \"xaxis\": \"x\", \"y\": [0.0, 0.0, 0.0, 0.0], \"yaxis\": \"y\", \"type\": \"scatter\", \"uid\": \"e4dee553-c509-4d3a-ba47-e96a604fae48\"}, {\"hoverinfo\": \"text\", \"marker\": {\"color\": \"rgb(133,20,75)\"}, \"mode\": \"lines\", \"x\": [325.0, 325.0, 344.375, 344.375], \"xaxis\": \"x\", \"y\": [0.0, 0.0, 0.0, 0.0], \"yaxis\": \"y\", \"type\": \"scatter\", \"uid\": \"051bdd77-eeb0-4472-8e75-d2d84b59cc47\"}, {\"hoverinfo\": \"text\", \"marker\": {\"color\": \"rgb(133,20,75)\"}, \"mode\": \"lines\", \"x\": [315.0, 315.0, 334.6875, 334.6875], \"xaxis\": \"x\", \"y\": [0.0, 1.4142135623730951, 1.4142135623730951, 0.0], \"yaxis\": \"y\", \"type\": \"scatter\", \"uid\": \"c29e4b52-ba4b-46ba-aa1e-5c3b0313c781\"}, {\"hoverinfo\": \"text\", \"marker\": {\"color\": \"rgb(133,20,75)\"}, \"mode\": \"lines\", \"x\": [277.1875, 277.1875, 324.84375, 324.84375], \"xaxis\": \"x\", \"y\": [1.0, 2.23606797749979, 2.23606797749979, 1.4142135623730951], \"yaxis\": \"y\", \"type\": \"scatter\", \"uid\": \"9168de8a-1e3f-4af4-966b-5279e3d09cc6\"}, {\"hoverinfo\": \"text\", \"marker\": {\"color\": \"rgb(0,116,217)\"}, \"mode\": \"lines\", \"x\": [205.0, 205.0, 301.015625, 301.015625], \"xaxis\": \"x\", \"y\": [2.23606797749979, 3.0, 3.0, 2.23606797749979], \"yaxis\": \"y\", \"type\": \"scatter\", \"uid\": \"cbe81f59-bced-4b61-884f-159280e78ebc\"}, {\"hoverinfo\": \"text\", \"marker\": {\"color\": \"rgb(255,220,0)\"}, \"mode\": \"lines\", \"x\": [385.0, 385.0, 395.0, 395.0], \"xaxis\": \"x\", \"y\": [0.0, 1.0, 1.0, 0.0], \"yaxis\": \"y\", \"type\": \"scatter\", \"uid\": \"f0967223-f362-4c50-bad5-bf156921f1eb\"}, {\"hoverinfo\": \"text\", \"marker\": {\"color\": \"rgb(40,35,35)\"}, \"mode\": \"lines\", \"x\": [415.0, 415.0, 425.0, 425.0], \"xaxis\": \"x\", \"y\": [0.0, 1.7320508075688772, 1.7320508075688772, 0.0], \"yaxis\": \"y\", \"type\": \"scatter\", \"uid\": \"6e128097-9bd7-4a2c-bae5-70b639503f20\"}, {\"hoverinfo\": \"text\", \"marker\": {\"color\": \"rgb(40,35,35)\"}, \"mode\": \"lines\", \"x\": [405.0, 405.0, 420.0, 420.0], \"xaxis\": \"x\", \"y\": [0.0, 2.0, 2.0, 1.7320508075688772], \"yaxis\": \"y\", \"type\": \"scatter\", \"uid\": \"dc348208-0b43-4bb7-8617-0bbb8e62a0e7\"}, {\"hoverinfo\": \"text\", \"marker\": {\"color\": \"rgb(61,153,112)\"}, \"mode\": \"lines\", \"x\": [445.0, 445.0, 455.0, 455.0], \"xaxis\": \"x\", \"y\": [0.0, 1.0, 1.0, 0.0], \"yaxis\": \"y\", \"type\": \"scatter\", \"uid\": \"d0589d5b-f17e-4e67-bf76-294b6cfadd5a\"}, {\"hoverinfo\": \"text\", \"marker\": {\"color\": \"rgb(61,153,112)\"}, \"mode\": \"lines\", \"x\": [435.0, 435.0, 450.0, 450.0], \"xaxis\": \"x\", \"y\": [0.0, 1.4142135623730951, 1.4142135623730951, 1.0], \"yaxis\": \"y\", \"type\": \"scatter\", \"uid\": \"7f1b3613-957c-48de-8ecc-b4ff5b3492ee\"}, {\"hoverinfo\": \"text\", \"marker\": {\"color\": \"rgb(61,153,112)\"}, \"mode\": \"lines\", \"x\": [465.0, 465.0, 475.0, 475.0], \"xaxis\": \"x\", \"y\": [0.0, 0.0, 0.0, 0.0], \"yaxis\": \"y\", \"type\": \"scatter\", \"uid\": \"78ab6177-a5e4-463a-be74-53405fe7790e\"}, {\"hoverinfo\": \"text\", \"marker\": {\"color\": \"rgb(61,153,112)\"}, \"mode\": \"lines\", \"x\": [485.0, 485.0, 495.0, 495.0], \"xaxis\": \"x\", \"y\": [0.0, 1.0, 1.0, 0.0], \"yaxis\": \"y\", \"type\": \"scatter\", \"uid\": \"9fdf8be9-2988-43ef-a469-519428426a8a\"}, {\"hoverinfo\": \"text\", \"marker\": {\"color\": \"rgb(61,153,112)\"}, \"mode\": \"lines\", \"x\": [470.0, 470.0, 490.0, 490.0], \"xaxis\": \"x\", \"y\": [0.0, 1.4142135623730951, 1.4142135623730951, 1.0], \"yaxis\": \"y\", \"type\": \"scatter\", \"uid\": \"93813a4f-da32-49c0-8d52-dd374ca7154c\"}, {\"hoverinfo\": \"text\", \"marker\": {\"color\": \"rgb(61,153,112)\"}, \"mode\": \"lines\", \"x\": [442.5, 442.5, 480.0, 480.0], \"xaxis\": \"x\", \"y\": [1.4142135623730951, 2.23606797749979, 2.23606797749979, 1.4142135623730951], \"yaxis\": \"y\", \"type\": \"scatter\", \"uid\": \"338ace62-fffa-43b0-a61a-06ab8f9ca3ca\"}, {\"hoverinfo\": \"text\", \"marker\": {\"color\": \"rgb(0,116,217)\"}, \"mode\": \"lines\", \"x\": [412.5, 412.5, 461.25, 461.25], \"xaxis\": \"x\", \"y\": [2.0, 3.0, 3.0, 2.23606797749979], \"yaxis\": \"y\", \"type\": \"scatter\", \"uid\": \"56b26d5c-e5cb-4e01-91c7-26cf04886d4a\"}, {\"hoverinfo\": \"text\", \"marker\": {\"color\": \"rgb(0,116,217)\"}, \"mode\": \"lines\", \"x\": [390.0, 390.0, 436.875, 436.875], \"xaxis\": \"x\", \"y\": [1.0, 3.0, 3.0, 3.0], \"yaxis\": \"y\", \"type\": \"scatter\", \"uid\": \"773a6400-193f-4d8b-8d8d-f2d0631bf031\"}, {\"hoverinfo\": \"text\", \"marker\": {\"color\": \"rgb(0,116,217)\"}, \"mode\": \"lines\", \"x\": [253.0078125, 253.0078125, 413.4375, 413.4375], \"xaxis\": \"x\", \"y\": [3.0, 3.872983346207417, 3.872983346207417, 3.0], \"yaxis\": \"y\", \"type\": \"scatter\", \"uid\": \"42d0762b-2cf7-432b-bc3b-b15ff391ae5b\"}, {\"hoverinfo\": \"text\", \"marker\": {\"color\": \"rgb(0,116,217)\"}, \"mode\": \"lines\", \"x\": [71.25, 71.25, 333.22265625, 333.22265625], \"xaxis\": \"x\", \"y\": [3.4641016151377544, 4.123105625617661, 4.123105625617661, 3.872983346207417], \"yaxis\": \"y\", \"type\": \"scatter\", \"uid\": \"89ad792e-597f-499a-b99a-28cab88a92d5\"}], {\"autosize\": false, \"height\": null, \"hovermode\": \"closest\", \"showlegend\": false, \"width\": null, \"xaxis\": {\"mirror\": \"allticks\", \"rangemode\": \"tozero\", \"showgrid\": false, \"showline\": true, \"showticklabels\": true, \"tickmode\": \"array\", \"ticks\": \"outside\", \"ticktext\": [\"19\", \"33\", \"9\", \"25\", \"12\", \"21\", \"38\", \"39\", \"24\", \"20\", \"22\", \"1\", \"18\", \"8\", \"37\", \"36\", \"40\", \"41\", \"15\", \"28\", \"17\", \"44\", \"16\", \"26\", \"46\", \"7\", \"5\", \"3\", \"4\", \"34\", \"49\", \"29\", \"45\", \"43\", \"42\", \"30\", \"2\", \"6\", \"23\", \"48\", \"27\", \"0\", \"10\", \"14\", \"11\", \"47\", \"31\", \"35\", \"13\", \"32\"], \"tickvals\": [5, 15, 25, 35, 45, 55, 65, 75, 85, 95, 105, 115, 125, 135, 145, 155, 165, 175, 185, 195, 205, 215, 225, 235, 245, 255, 265, 275, 285, 295, 305, 315, 325, 335, 345, 355, 365, 375, 385, 395, 405, 415, 425, 435, 445, 455, 465, 475, 485, 495], \"type\": \"linear\", \"zeroline\": false}, \"yaxis\": {\"mirror\": \"allticks\", \"rangemode\": \"tozero\", \"showgrid\": false, \"showline\": true, \"showticklabels\": true, \"ticks\": \"outside\", \"type\": \"linear\", \"zeroline\": false}}, {\"showLink\": false, \"linkText\": \"Export to plot.ly\", \"plotlyServerURL\": \"https://plot.ly\"})});</script>"
      ],
      "text/vnd.plotly.v1+html": [
       "<div id=\"5d9a66c9-a129-4dc2-8c99-f86f566a4fae\" style=\"height: infpx; width: infpx;\" class=\"plotly-graph-div\"></div><script type=\"text/javascript\">require([\"plotly\"], function(Plotly) { window.PLOTLYENV=window.PLOTLYENV || {};window.PLOTLYENV.BASE_URL=\"https://plot.ly\";Plotly.newPlot(\"5d9a66c9-a129-4dc2-8c99-f86f566a4fae\", [{\"hoverinfo\": \"text\", \"marker\": {\"color\": \"rgb(61,153,112)\"}, \"mode\": \"lines\", \"x\": [5.0, 5.0, 15.0, 15.0], \"xaxis\": \"x\", \"y\": [0.0, 1.4142135623730951, 1.4142135623730951, 0.0], \"yaxis\": \"y\", \"type\": \"scatter\", \"uid\": \"bd8e023f-f4bb-4f5c-bd14-02de67f877f4\"}, {\"hoverinfo\": \"text\", \"marker\": {\"color\": \"rgb(61,153,112)\"}, \"mode\": \"lines\", \"x\": [25.0, 25.0, 35.0, 35.0], \"xaxis\": \"x\", \"y\": [0.0, 1.0, 1.0, 0.0], \"yaxis\": \"y\", \"type\": \"scatter\", \"uid\": \"1a69e236-7e2c-4cef-a244-72853ae754e8\"}, {\"hoverinfo\": \"text\", \"marker\": {\"color\": \"rgb(61,153,112)\"}, \"mode\": \"lines\", \"x\": [45.0, 45.0, 55.0, 55.0], \"xaxis\": \"x\", \"y\": [0.0, 1.7320508075688772, 1.7320508075688772, 0.0], \"yaxis\": \"y\", \"type\": \"scatter\", \"uid\": \"146601b9-b698-460a-84b3-702894216cec\"}, {\"hoverinfo\": \"text\", \"marker\": {\"color\": \"rgb(61,153,112)\"}, \"mode\": \"lines\", \"x\": [30.0, 30.0, 50.0, 50.0], \"xaxis\": \"x\", \"y\": [1.0, 2.0, 2.0, 1.7320508075688772], \"yaxis\": \"y\", \"type\": \"scatter\", \"uid\": \"f6bc8e54-390c-48a3-97f1-f431bd0a67c7\"}, {\"hoverinfo\": \"text\", \"marker\": {\"color\": \"rgb(61,153,112)\"}, \"mode\": \"lines\", \"x\": [10.0, 10.0, 40.0, 40.0], \"xaxis\": \"x\", \"y\": [1.4142135623730951, 2.6457513110645907, 2.6457513110645907, 2.0], \"yaxis\": \"y\", \"type\": \"scatter\", \"uid\": \"965631ea-135a-448d-8a8b-ac25d86f8d09\"}, {\"hoverinfo\": \"text\", \"marker\": {\"color\": \"rgb(255,65,54)\"}, \"mode\": \"lines\", \"x\": [65.0, 65.0, 75.0, 75.0], \"xaxis\": \"x\", \"y\": [0.0, 0.0, 0.0, 0.0], \"yaxis\": \"y\", \"type\": \"scatter\", \"uid\": \"ad86d444-f9d7-49ee-a53d-4c86e085247b\"}, {\"hoverinfo\": \"text\", \"marker\": {\"color\": \"rgb(255,65,54)\"}, \"mode\": \"lines\", \"x\": [95.0, 95.0, 105.0, 105.0], \"xaxis\": \"x\", \"y\": [0.0, 0.0, 0.0, 0.0], \"yaxis\": \"y\", \"type\": \"scatter\", \"uid\": \"842ddf70-5127-4675-83f1-d39b5c36e072\"}, {\"hoverinfo\": \"text\", \"marker\": {\"color\": \"rgb(255,65,54)\"}, \"mode\": \"lines\", \"x\": [115.0, 115.0, 125.0, 125.0], \"xaxis\": \"x\", \"y\": [0.0, 1.0, 1.0, 0.0], \"yaxis\": \"y\", \"type\": \"scatter\", \"uid\": \"ac04078e-a8f8-420f-aeff-3f39f7491fd9\"}, {\"hoverinfo\": \"text\", \"marker\": {\"color\": \"rgb(255,65,54)\"}, \"mode\": \"lines\", \"x\": [100.0, 100.0, 120.0, 120.0], \"xaxis\": \"x\", \"y\": [0.0, 1.4142135623730951, 1.4142135623730951, 1.0], \"yaxis\": \"y\", \"type\": \"scatter\", \"uid\": \"6a7bccb3-19aa-4112-91c1-412118f95d35\"}, {\"hoverinfo\": \"text\", \"marker\": {\"color\": \"rgb(255,65,54)\"}, \"mode\": \"lines\", \"x\": [85.0, 85.0, 110.0, 110.0], \"xaxis\": \"x\", \"y\": [0.0, 1.7320508075688772, 1.7320508075688772, 1.4142135623730951], \"yaxis\": \"y\", \"type\": \"scatter\", \"uid\": \"bc3ea26d-c8a9-4195-8ef6-7ea0a8d16be3\"}, {\"hoverinfo\": \"text\", \"marker\": {\"color\": \"rgb(255,65,54)\"}, \"mode\": \"lines\", \"x\": [70.0, 70.0, 97.5, 97.5], \"xaxis\": \"x\", \"y\": [0.0, 2.0, 2.0, 1.7320508075688772], \"yaxis\": \"y\", \"type\": \"scatter\", \"uid\": \"8d73e9f7-f4a9-4211-87ff-e1df6a88263c\"}, {\"hoverinfo\": \"text\", \"marker\": {\"color\": \"rgb(255,65,54)\"}, \"mode\": \"lines\", \"x\": [135.0, 135.0, 145.0, 145.0], \"xaxis\": \"x\", \"y\": [0.0, 1.0, 1.0, 0.0], \"yaxis\": \"y\", \"type\": \"scatter\", \"uid\": \"7006eff8-ac6c-45d1-850c-3ab03a366a83\"}, {\"hoverinfo\": \"text\", \"marker\": {\"color\": \"rgb(255,65,54)\"}, \"mode\": \"lines\", \"x\": [165.0, 165.0, 175.0, 175.0], \"xaxis\": \"x\", \"y\": [0.0, 1.0, 1.0, 0.0], \"yaxis\": \"y\", \"type\": \"scatter\", \"uid\": \"b56d5e5a-7fe8-45a2-b62e-ab712d3b9849\"}, {\"hoverinfo\": \"text\", \"marker\": {\"color\": \"rgb(255,65,54)\"}, \"mode\": \"lines\", \"x\": [155.0, 155.0, 170.0, 170.0], \"xaxis\": \"x\", \"y\": [0.0, 1.4142135623730951, 1.4142135623730951, 1.0], \"yaxis\": \"y\", \"type\": \"scatter\", \"uid\": \"22589ecf-32af-4269-9fb5-71e315daf4ff\"}, {\"hoverinfo\": \"text\", \"marker\": {\"color\": \"rgb(255,65,54)\"}, \"mode\": \"lines\", \"x\": [140.0, 140.0, 162.5, 162.5], \"xaxis\": \"x\", \"y\": [1.0, 2.0, 2.0, 1.4142135623730951], \"yaxis\": \"y\", \"type\": \"scatter\", \"uid\": \"55b77755-a9b5-4715-a358-3aa19d968d62\"}, {\"hoverinfo\": \"text\", \"marker\": {\"color\": \"rgb(255,65,54)\"}, \"mode\": \"lines\", \"x\": [83.75, 83.75, 151.25, 151.25], \"xaxis\": \"x\", \"y\": [2.0, 2.6457513110645907, 2.6457513110645907, 2.0], \"yaxis\": \"y\", \"type\": \"scatter\", \"uid\": \"4725419c-8a31-4d1d-96d8-08395213ddab\"}, {\"hoverinfo\": \"text\", \"marker\": {\"color\": \"rgb(0,116,217)\"}, \"mode\": \"lines\", \"x\": [25.0, 25.0, 117.5, 117.5], \"xaxis\": \"x\", \"y\": [2.6457513110645907, 3.4641016151377544, 3.4641016151377544, 2.6457513110645907], \"yaxis\": \"y\", \"type\": \"scatter\", \"uid\": \"aed55134-a0aa-42b1-851f-a9f405400b9b\"}, {\"hoverinfo\": \"text\", \"marker\": {\"color\": \"rgb(35,205,205)\"}, \"mode\": \"lines\", \"x\": [185.0, 185.0, 195.0, 195.0], \"xaxis\": \"x\", \"y\": [0.0, 1.4142135623730951, 1.4142135623730951, 0.0], \"yaxis\": \"y\", \"type\": \"scatter\", \"uid\": \"10779afb-53a3-45c0-9632-bf574f978e0e\"}, {\"hoverinfo\": \"text\", \"marker\": {\"color\": \"rgb(35,205,205)\"}, \"mode\": \"lines\", \"x\": [205.0, 205.0, 215.0, 215.0], \"xaxis\": \"x\", \"y\": [0.0, 1.0, 1.0, 0.0], \"yaxis\": \"y\", \"type\": \"scatter\", \"uid\": \"2e10077e-741a-4efa-aff0-39e45067dbe2\"}, {\"hoverinfo\": \"text\", \"marker\": {\"color\": \"rgb(35,205,205)\"}, \"mode\": \"lines\", \"x\": [225.0, 225.0, 235.0, 235.0], \"xaxis\": \"x\", \"y\": [0.0, 1.4142135623730951, 1.4142135623730951, 0.0], \"yaxis\": \"y\", \"type\": \"scatter\", \"uid\": \"f606a1af-1574-46f9-9b33-129438a9a410\"}, {\"hoverinfo\": \"text\", \"marker\": {\"color\": \"rgb(35,205,205)\"}, \"mode\": \"lines\", \"x\": [210.0, 210.0, 230.0, 230.0], \"xaxis\": \"x\", \"y\": [1.0, 1.7320508075688772, 1.7320508075688772, 1.4142135623730951], \"yaxis\": \"y\", \"type\": \"scatter\", \"uid\": \"383611dc-06b3-4b09-8dba-12a78be26fe6\"}, {\"hoverinfo\": \"text\", \"marker\": {\"color\": \"rgb(35,205,205)\"}, \"mode\": \"lines\", \"x\": [190.0, 190.0, 220.0, 220.0], \"xaxis\": \"x\", \"y\": [1.4142135623730951, 2.23606797749979, 2.23606797749979, 1.7320508075688772], \"yaxis\": \"y\", \"type\": \"scatter\", \"uid\": \"d0a9da5a-8d75-4cab-ab97-bc8b74e877bd\"}, {\"hoverinfo\": \"text\", \"marker\": {\"color\": \"rgb(133,20,75)\"}, \"mode\": \"lines\", \"x\": [275.0, 275.0, 285.0, 285.0], \"xaxis\": \"x\", \"y\": [0.0, 0.0, 0.0, 0.0], \"yaxis\": \"y\", \"type\": \"scatter\", \"uid\": \"e4122f80-387a-4571-9817-c204b47024ed\"}, {\"hoverinfo\": \"text\", \"marker\": {\"color\": \"rgb(133,20,75)\"}, \"mode\": \"lines\", \"x\": [265.0, 265.0, 280.0, 280.0], \"xaxis\": \"x\", \"y\": [0.0, 0.0, 0.0, 0.0], \"yaxis\": \"y\", \"type\": \"scatter\", \"uid\": \"2b2e826f-67f0-4a5e-964a-5b8875440ff2\"}, {\"hoverinfo\": \"text\", \"marker\": {\"color\": \"rgb(133,20,75)\"}, \"mode\": \"lines\", \"x\": [255.0, 255.0, 272.5, 272.5], \"xaxis\": \"x\", \"y\": [0.0, 0.0, 0.0, 0.0], \"yaxis\": \"y\", \"type\": \"scatter\", \"uid\": \"0674f017-137c-4f1b-b791-8f01977a8f66\"}, {\"hoverinfo\": \"text\", \"marker\": {\"color\": \"rgb(133,20,75)\"}, \"mode\": \"lines\", \"x\": [245.0, 245.0, 263.75, 263.75], \"xaxis\": \"x\", \"y\": [0.0, 0.0, 0.0, 0.0], \"yaxis\": \"y\", \"type\": \"scatter\", \"uid\": \"5f1f262e-e0a3-43c5-bfcb-2718fab78a79\"}, {\"hoverinfo\": \"text\", \"marker\": {\"color\": \"rgb(133,20,75)\"}, \"mode\": \"lines\", \"x\": [295.0, 295.0, 305.0, 305.0], \"xaxis\": \"x\", \"y\": [0.0, 0.0, 0.0, 0.0], \"yaxis\": \"y\", \"type\": \"scatter\", \"uid\": \"34731c14-cea2-421b-9b16-2421926e3925\"}, {\"hoverinfo\": \"text\", \"marker\": {\"color\": \"rgb(133,20,75)\"}, \"mode\": \"lines\", \"x\": [254.375, 254.375, 300.0, 300.0], \"xaxis\": \"x\", \"y\": [0.0, 1.0, 1.0, 0.0], \"yaxis\": \"y\", \"type\": \"scatter\", \"uid\": \"88499183-d420-4618-8642-8fb21bb70a08\"}, {\"hoverinfo\": \"text\", \"marker\": {\"color\": \"rgb(133,20,75)\"}, \"mode\": \"lines\", \"x\": [365.0, 365.0, 375.0, 375.0], \"xaxis\": \"x\", \"y\": [0.0, 0.0, 0.0, 0.0], \"yaxis\": \"y\", \"type\": \"scatter\", \"uid\": \"48714c54-d64a-44b3-ae5a-7fc8c430c026\"}, {\"hoverinfo\": \"text\", \"marker\": {\"color\": \"rgb(133,20,75)\"}, \"mode\": \"lines\", \"x\": [355.0, 355.0, 370.0, 370.0], \"xaxis\": \"x\", \"y\": [0.0, 0.0, 0.0, 0.0], \"yaxis\": \"y\", \"type\": \"scatter\", \"uid\": \"feea5f67-fe56-4ff4-b637-4ed639a8297e\"}, {\"hoverinfo\": \"text\", \"marker\": {\"color\": \"rgb(133,20,75)\"}, \"mode\": \"lines\", \"x\": [345.0, 345.0, 362.5, 362.5], \"xaxis\": \"x\", \"y\": [0.0, 0.0, 0.0, 0.0], \"yaxis\": \"y\", \"type\": \"scatter\", \"uid\": \"c557758d-ef03-4099-9d61-a176912ced8a\"}, {\"hoverinfo\": \"text\", \"marker\": {\"color\": \"rgb(133,20,75)\"}, \"mode\": \"lines\", \"x\": [335.0, 335.0, 353.75, 353.75], \"xaxis\": \"x\", \"y\": [0.0, 0.0, 0.0, 0.0], \"yaxis\": \"y\", \"type\": \"scatter\", \"uid\": \"e4dee553-c509-4d3a-ba47-e96a604fae48\"}, {\"hoverinfo\": \"text\", \"marker\": {\"color\": \"rgb(133,20,75)\"}, \"mode\": \"lines\", \"x\": [325.0, 325.0, 344.375, 344.375], \"xaxis\": \"x\", \"y\": [0.0, 0.0, 0.0, 0.0], \"yaxis\": \"y\", \"type\": \"scatter\", \"uid\": \"051bdd77-eeb0-4472-8e75-d2d84b59cc47\"}, {\"hoverinfo\": \"text\", \"marker\": {\"color\": \"rgb(133,20,75)\"}, \"mode\": \"lines\", \"x\": [315.0, 315.0, 334.6875, 334.6875], \"xaxis\": \"x\", \"y\": [0.0, 1.4142135623730951, 1.4142135623730951, 0.0], \"yaxis\": \"y\", \"type\": \"scatter\", \"uid\": \"c29e4b52-ba4b-46ba-aa1e-5c3b0313c781\"}, {\"hoverinfo\": \"text\", \"marker\": {\"color\": \"rgb(133,20,75)\"}, \"mode\": \"lines\", \"x\": [277.1875, 277.1875, 324.84375, 324.84375], \"xaxis\": \"x\", \"y\": [1.0, 2.23606797749979, 2.23606797749979, 1.4142135623730951], \"yaxis\": \"y\", \"type\": \"scatter\", \"uid\": \"9168de8a-1e3f-4af4-966b-5279e3d09cc6\"}, {\"hoverinfo\": \"text\", \"marker\": {\"color\": \"rgb(0,116,217)\"}, \"mode\": \"lines\", \"x\": [205.0, 205.0, 301.015625, 301.015625], \"xaxis\": \"x\", \"y\": [2.23606797749979, 3.0, 3.0, 2.23606797749979], \"yaxis\": \"y\", \"type\": \"scatter\", \"uid\": \"cbe81f59-bced-4b61-884f-159280e78ebc\"}, {\"hoverinfo\": \"text\", \"marker\": {\"color\": \"rgb(255,220,0)\"}, \"mode\": \"lines\", \"x\": [385.0, 385.0, 395.0, 395.0], \"xaxis\": \"x\", \"y\": [0.0, 1.0, 1.0, 0.0], \"yaxis\": \"y\", \"type\": \"scatter\", \"uid\": \"f0967223-f362-4c50-bad5-bf156921f1eb\"}, {\"hoverinfo\": \"text\", \"marker\": {\"color\": \"rgb(40,35,35)\"}, \"mode\": \"lines\", \"x\": [415.0, 415.0, 425.0, 425.0], \"xaxis\": \"x\", \"y\": [0.0, 1.7320508075688772, 1.7320508075688772, 0.0], \"yaxis\": \"y\", \"type\": \"scatter\", \"uid\": \"6e128097-9bd7-4a2c-bae5-70b639503f20\"}, {\"hoverinfo\": \"text\", \"marker\": {\"color\": \"rgb(40,35,35)\"}, \"mode\": \"lines\", \"x\": [405.0, 405.0, 420.0, 420.0], \"xaxis\": \"x\", \"y\": [0.0, 2.0, 2.0, 1.7320508075688772], \"yaxis\": \"y\", \"type\": \"scatter\", \"uid\": \"dc348208-0b43-4bb7-8617-0bbb8e62a0e7\"}, {\"hoverinfo\": \"text\", \"marker\": {\"color\": \"rgb(61,153,112)\"}, \"mode\": \"lines\", \"x\": [445.0, 445.0, 455.0, 455.0], \"xaxis\": \"x\", \"y\": [0.0, 1.0, 1.0, 0.0], \"yaxis\": \"y\", \"type\": \"scatter\", \"uid\": \"d0589d5b-f17e-4e67-bf76-294b6cfadd5a\"}, {\"hoverinfo\": \"text\", \"marker\": {\"color\": \"rgb(61,153,112)\"}, \"mode\": \"lines\", \"x\": [435.0, 435.0, 450.0, 450.0], \"xaxis\": \"x\", \"y\": [0.0, 1.4142135623730951, 1.4142135623730951, 1.0], \"yaxis\": \"y\", \"type\": \"scatter\", \"uid\": \"7f1b3613-957c-48de-8ecc-b4ff5b3492ee\"}, {\"hoverinfo\": \"text\", \"marker\": {\"color\": \"rgb(61,153,112)\"}, \"mode\": \"lines\", \"x\": [465.0, 465.0, 475.0, 475.0], \"xaxis\": \"x\", \"y\": [0.0, 0.0, 0.0, 0.0], \"yaxis\": \"y\", \"type\": \"scatter\", \"uid\": \"78ab6177-a5e4-463a-be74-53405fe7790e\"}, {\"hoverinfo\": \"text\", \"marker\": {\"color\": \"rgb(61,153,112)\"}, \"mode\": \"lines\", \"x\": [485.0, 485.0, 495.0, 495.0], \"xaxis\": \"x\", \"y\": [0.0, 1.0, 1.0, 0.0], \"yaxis\": \"y\", \"type\": \"scatter\", \"uid\": \"9fdf8be9-2988-43ef-a469-519428426a8a\"}, {\"hoverinfo\": \"text\", \"marker\": {\"color\": \"rgb(61,153,112)\"}, \"mode\": \"lines\", \"x\": [470.0, 470.0, 490.0, 490.0], \"xaxis\": \"x\", \"y\": [0.0, 1.4142135623730951, 1.4142135623730951, 1.0], \"yaxis\": \"y\", \"type\": \"scatter\", \"uid\": \"93813a4f-da32-49c0-8d52-dd374ca7154c\"}, {\"hoverinfo\": \"text\", \"marker\": {\"color\": \"rgb(61,153,112)\"}, \"mode\": \"lines\", \"x\": [442.5, 442.5, 480.0, 480.0], \"xaxis\": \"x\", \"y\": [1.4142135623730951, 2.23606797749979, 2.23606797749979, 1.4142135623730951], \"yaxis\": \"y\", \"type\": \"scatter\", \"uid\": \"338ace62-fffa-43b0-a61a-06ab8f9ca3ca\"}, {\"hoverinfo\": \"text\", \"marker\": {\"color\": \"rgb(0,116,217)\"}, \"mode\": \"lines\", \"x\": [412.5, 412.5, 461.25, 461.25], \"xaxis\": \"x\", \"y\": [2.0, 3.0, 3.0, 2.23606797749979], \"yaxis\": \"y\", \"type\": \"scatter\", \"uid\": \"56b26d5c-e5cb-4e01-91c7-26cf04886d4a\"}, {\"hoverinfo\": \"text\", \"marker\": {\"color\": \"rgb(0,116,217)\"}, \"mode\": \"lines\", \"x\": [390.0, 390.0, 436.875, 436.875], \"xaxis\": \"x\", \"y\": [1.0, 3.0, 3.0, 3.0], \"yaxis\": \"y\", \"type\": \"scatter\", \"uid\": \"773a6400-193f-4d8b-8d8d-f2d0631bf031\"}, {\"hoverinfo\": \"text\", \"marker\": {\"color\": \"rgb(0,116,217)\"}, \"mode\": \"lines\", \"x\": [253.0078125, 253.0078125, 413.4375, 413.4375], \"xaxis\": \"x\", \"y\": [3.0, 3.872983346207417, 3.872983346207417, 3.0], \"yaxis\": \"y\", \"type\": \"scatter\", \"uid\": \"42d0762b-2cf7-432b-bc3b-b15ff391ae5b\"}, {\"hoverinfo\": \"text\", \"marker\": {\"color\": \"rgb(0,116,217)\"}, \"mode\": \"lines\", \"x\": [71.25, 71.25, 333.22265625, 333.22265625], \"xaxis\": \"x\", \"y\": [3.4641016151377544, 4.123105625617661, 4.123105625617661, 3.872983346207417], \"yaxis\": \"y\", \"type\": \"scatter\", \"uid\": \"89ad792e-597f-499a-b99a-28cab88a92d5\"}], {\"autosize\": false, \"height\": null, \"hovermode\": \"closest\", \"showlegend\": false, \"width\": null, \"xaxis\": {\"mirror\": \"allticks\", \"rangemode\": \"tozero\", \"showgrid\": false, \"showline\": true, \"showticklabels\": true, \"tickmode\": \"array\", \"ticks\": \"outside\", \"ticktext\": [\"19\", \"33\", \"9\", \"25\", \"12\", \"21\", \"38\", \"39\", \"24\", \"20\", \"22\", \"1\", \"18\", \"8\", \"37\", \"36\", \"40\", \"41\", \"15\", \"28\", \"17\", \"44\", \"16\", \"26\", \"46\", \"7\", \"5\", \"3\", \"4\", \"34\", \"49\", \"29\", \"45\", \"43\", \"42\", \"30\", \"2\", \"6\", \"23\", \"48\", \"27\", \"0\", \"10\", \"14\", \"11\", \"47\", \"31\", \"35\", \"13\", \"32\"], \"tickvals\": [5, 15, 25, 35, 45, 55, 65, 75, 85, 95, 105, 115, 125, 135, 145, 155, 165, 175, 185, 195, 205, 215, 225, 235, 245, 255, 265, 275, 285, 295, 305, 315, 325, 335, 345, 355, 365, 375, 385, 395, 405, 415, 425, 435, 445, 455, 465, 475, 485, 495], \"type\": \"linear\", \"zeroline\": false}, \"yaxis\": {\"mirror\": \"allticks\", \"rangemode\": \"tozero\", \"showgrid\": false, \"showline\": true, \"showticklabels\": true, \"ticks\": \"outside\", \"type\": \"linear\", \"zeroline\": false}}, {\"showLink\": false, \"linkText\": \"Export to plot.ly\", \"plotlyServerURL\": \"https://plot.ly\"})});</script>"
      ]
     },
     "metadata": {},
     "output_type": "display_data"
    }
   ],
   "source": [
    "dendro = ff.create_dendrogram(np.array(all_vectors[:50]))\n",
    "iplot(dendro, filename='all_dendrogram')"
   ]
  },
  {
   "cell_type": "code",
   "execution_count": 104,
   "metadata": {},
   "outputs": [
    {
     "data": {
      "text/plain": [
       "1748"
      ]
     },
     "execution_count": 104,
     "metadata": {},
     "output_type": "execute_result"
    }
   ],
   "source": [
    "len(all_vectors)"
   ]
  },
  {
   "cell_type": "code",
   "execution_count": null,
   "metadata": {},
   "outputs": [],
   "source": []
  }
 ],
 "metadata": {
  "kernelspec": {
   "display_name": "Python 3",
   "language": "python",
   "name": "python3"
  },
  "language_info": {
   "codemirror_mode": {
    "name": "ipython",
    "version": 3
   },
   "file_extension": ".py",
   "mimetype": "text/x-python",
   "name": "python",
   "nbconvert_exporter": "python",
   "pygments_lexer": "ipython3",
   "version": "3.7.2"
  }
 },
 "nbformat": 4,
 "nbformat_minor": 2
}
