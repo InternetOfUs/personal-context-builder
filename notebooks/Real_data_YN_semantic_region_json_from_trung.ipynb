{
 "cells": [
  {
   "cell_type": "markdown",
   "metadata": {},
   "source": [
    "# Semantic region using Y@N data\n",
    "\n",
    "## WeNet project - exploratory notebook\n",
    "\n",
    "We will use the user \"374554f1-a18c-4636-8be1-d290dc16f55e\" from our previous conclusions."
   ]
  },
  {
   "cell_type": "code",
   "execution_count": 1,
   "metadata": {},
   "outputs": [],
   "source": [
    "import pandas as pd\n",
    "import gmaps\n",
    "from wenet_models import LocationPoint, UserPlaceTimeOnly\n",
    "from wenet_algo import estimate_stay_points, estimate_stay_regions, labelize_stay_region\n",
    "from wenet_tools import time_difference_ms\n",
    "from datetime import datetime"
   ]
  },
  {
   "cell_type": "markdown",
   "metadata": {},
   "source": [
    "### The locations can be extracted from the sensors"
   ]
  },
  {
   "cell_type": "code",
   "execution_count": 2,
   "metadata": {},
   "outputs": [],
   "source": [
    "user = '374554f1-a18c-4636-8be1-d290dc16f55e'\n",
    "df = pd.read_csv(f'/idiap/temp/wdroz/locations/{user}_location.csv')"
   ]
  },
  {
   "cell_type": "markdown",
   "metadata": {},
   "source": [
    "It's possible to show how many records we have for that users"
   ]
  },
  {
   "cell_type": "code",
   "execution_count": 3,
   "metadata": {},
   "outputs": [
    {
     "data": {
      "text/plain": [
       "8489"
      ]
     },
     "execution_count": 3,
     "metadata": {},
     "output_type": "execute_result"
    }
   ],
   "source": [
    "len(df)"
   ]
  },
  {
   "cell_type": "markdown",
   "metadata": {},
   "source": [
    "with the `head` method, we can get the top elements of the dataframe. That useful when you need to get a idea of the data"
   ]
  },
  {
   "cell_type": "code",
   "execution_count": 4,
   "metadata": {},
   "outputs": [
    {
     "data": {
      "text/html": [
       "<div>\n",
       "<style scoped>\n",
       "    .dataframe tbody tr th:only-of-type {\n",
       "        vertical-align: middle;\n",
       "    }\n",
       "\n",
       "    .dataframe tbody tr th {\n",
       "        vertical-align: top;\n",
       "    }\n",
       "\n",
       "    .dataframe thead th {\n",
       "        text-align: right;\n",
       "    }\n",
       "</style>\n",
       "<table border=\"1\" class=\"dataframe\">\n",
       "  <thead>\n",
       "    <tr style=\"text-align: right;\">\n",
       "      <th></th>\n",
       "      <th>userid</th>\n",
       "      <th>night</th>\n",
       "      <th>type</th>\n",
       "      <th>timestamp</th>\n",
       "      <th>timezone</th>\n",
       "      <th>local_time</th>\n",
       "      <th>source</th>\n",
       "      <th>latitude</th>\n",
       "      <th>longitude</th>\n",
       "      <th>speed</th>\n",
       "      <th>accuracy</th>\n",
       "      <th>provider</th>\n",
       "      <th>bearing</th>\n",
       "    </tr>\n",
       "  </thead>\n",
       "  <tbody>\n",
       "    <tr>\n",
       "      <th>0</th>\n",
       "      <td>374554f1-a18c-4636-8be1-d290dc16f55e</td>\n",
       "      <td>20140927</td>\n",
       "      <td>Location</td>\n",
       "      <td>1411842910</td>\n",
       "      <td>7200</td>\n",
       "      <td>20140927203510</td>\n",
       "      <td>358270055852872</td>\n",
       "      <td>46.520883</td>\n",
       "      <td>6.638972</td>\n",
       "      <td>0.0</td>\n",
       "      <td>986.0</td>\n",
       "      <td>network</td>\n",
       "      <td>0.0</td>\n",
       "    </tr>\n",
       "    <tr>\n",
       "      <th>1</th>\n",
       "      <td>374554f1-a18c-4636-8be1-d290dc16f55e</td>\n",
       "      <td>20140927</td>\n",
       "      <td>Location</td>\n",
       "      <td>1411842927</td>\n",
       "      <td>7200</td>\n",
       "      <td>20140927203527</td>\n",
       "      <td>358270055852872</td>\n",
       "      <td>46.520883</td>\n",
       "      <td>6.638972</td>\n",
       "      <td>0.0</td>\n",
       "      <td>986.0</td>\n",
       "      <td>network</td>\n",
       "      <td>0.0</td>\n",
       "    </tr>\n",
       "    <tr>\n",
       "      <th>2</th>\n",
       "      <td>374554f1-a18c-4636-8be1-d290dc16f55e</td>\n",
       "      <td>20140927</td>\n",
       "      <td>Location</td>\n",
       "      <td>1411842953</td>\n",
       "      <td>7200</td>\n",
       "      <td>20140927203553</td>\n",
       "      <td>358270055852872</td>\n",
       "      <td>46.534720</td>\n",
       "      <td>6.538107</td>\n",
       "      <td>0.0</td>\n",
       "      <td>52.0</td>\n",
       "      <td>gps</td>\n",
       "      <td>0.0</td>\n",
       "    </tr>\n",
       "    <tr>\n",
       "      <th>3</th>\n",
       "      <td>374554f1-a18c-4636-8be1-d290dc16f55e</td>\n",
       "      <td>20140927</td>\n",
       "      <td>Location</td>\n",
       "      <td>1411842960</td>\n",
       "      <td>7200</td>\n",
       "      <td>20140927203600</td>\n",
       "      <td>358270055852872</td>\n",
       "      <td>46.534637</td>\n",
       "      <td>6.538219</td>\n",
       "      <td>0.0</td>\n",
       "      <td>20.0</td>\n",
       "      <td>gps</td>\n",
       "      <td>0.0</td>\n",
       "    </tr>\n",
       "    <tr>\n",
       "      <th>4</th>\n",
       "      <td>374554f1-a18c-4636-8be1-d290dc16f55e</td>\n",
       "      <td>20140927</td>\n",
       "      <td>Location</td>\n",
       "      <td>1411842965</td>\n",
       "      <td>7200</td>\n",
       "      <td>20140927203605</td>\n",
       "      <td>358270055852872</td>\n",
       "      <td>46.534596</td>\n",
       "      <td>6.538231</td>\n",
       "      <td>0.0</td>\n",
       "      <td>20.0</td>\n",
       "      <td>gps</td>\n",
       "      <td>0.0</td>\n",
       "    </tr>\n",
       "  </tbody>\n",
       "</table>\n",
       "</div>"
      ],
      "text/plain": [
       "                                 userid     night      type   timestamp  \\\n",
       "0  374554f1-a18c-4636-8be1-d290dc16f55e  20140927  Location  1411842910   \n",
       "1  374554f1-a18c-4636-8be1-d290dc16f55e  20140927  Location  1411842927   \n",
       "2  374554f1-a18c-4636-8be1-d290dc16f55e  20140927  Location  1411842953   \n",
       "3  374554f1-a18c-4636-8be1-d290dc16f55e  20140927  Location  1411842960   \n",
       "4  374554f1-a18c-4636-8be1-d290dc16f55e  20140927  Location  1411842965   \n",
       "\n",
       "   timezone      local_time           source   latitude  longitude  speed  \\\n",
       "0      7200  20140927203510  358270055852872  46.520883   6.638972    0.0   \n",
       "1      7200  20140927203527  358270055852872  46.520883   6.638972    0.0   \n",
       "2      7200  20140927203553  358270055852872  46.534720   6.538107    0.0   \n",
       "3      7200  20140927203600  358270055852872  46.534637   6.538219    0.0   \n",
       "4      7200  20140927203605  358270055852872  46.534596   6.538231    0.0   \n",
       "\n",
       "   accuracy provider  bearing  \n",
       "0     986.0  network      0.0  \n",
       "1     986.0  network      0.0  \n",
       "2      52.0      gps      0.0  \n",
       "3      20.0      gps      0.0  \n",
       "4      20.0      gps      0.0  "
      ]
     },
     "execution_count": 4,
     "metadata": {},
     "output_type": "execute_result"
    }
   ],
   "source": [
    "df.head()"
   ]
  },
  {
   "cell_type": "markdown",
   "metadata": {},
   "source": [
    "Be checking the accuracy distributions, we can select relevant values to filter them!"
   ]
  },
  {
   "cell_type": "code",
   "execution_count": 5,
   "metadata": {},
   "outputs": [
    {
     "data": {
      "text/plain": [
       "count    8489.000000\n",
       "mean       77.449671\n",
       "std       230.766469\n",
       "min         3.000000\n",
       "25%        15.000000\n",
       "50%        24.000000\n",
       "75%        36.000000\n",
       "max      3147.000000\n",
       "Name: accuracy, dtype: float64"
      ]
     },
     "execution_count": 5,
     "metadata": {},
     "output_type": "execute_result"
    }
   ],
   "source": [
    "df['accuracy'].describe()"
   ]
  },
  {
   "cell_type": "markdown",
   "metadata": {},
   "source": [
    "As 75% on accuracy are <= of 36, we can remove points that are greather than 37"
   ]
  },
  {
   "cell_type": "markdown",
   "metadata": {},
   "source": [
    "There are a lot of possibles ways to transform the data from the dataframe into our custom python objects. `df.iterrows` do the job this time"
   ]
  },
  {
   "cell_type": "code",
   "execution_count": 6,
   "metadata": {},
   "outputs": [],
   "source": [
    "locations = []\n",
    "for index, row in df.iterrows():\n",
    "    accuracy = row['accuracy']\n",
    "    if accuracy > 37:\n",
    "        continue\n",
    "    pts_t = datetime.fromtimestamp(row['timestamp'])\n",
    "    location = LocationPoint(pts_t, row['latitude'], row['longitude'], accuracy)\n",
    "    locations.append(location)"
   ]
  },
  {
   "cell_type": "markdown",
   "metadata": {},
   "source": [
    "When the user has been recorded at least twice near the same location and at relatively close time interval, then we can set a stay point from this."
   ]
  },
  {
   "cell_type": "code",
   "execution_count": 7,
   "metadata": {},
   "outputs": [
    {
     "data": {
      "text/plain": [
       "198"
      ]
     },
     "execution_count": 7,
     "metadata": {},
     "output_type": "execute_result"
    }
   ],
   "source": [
    "stay_points = estimate_stay_points(locations, time_min_ms=2*60*1000)\n",
    "len(stay_points)"
   ]
  },
  {
   "cell_type": "markdown",
   "metadata": {},
   "source": [
    "from the 8489 rows locations, we have extracted 198 \"stay points\"."
   ]
  },
  {
   "cell_type": "markdown",
   "metadata": {},
   "source": [
    "From these stay points, it's possible to extract clusters of points. We call them \"stay regions\""
   ]
  },
  {
   "cell_type": "code",
   "execution_count": 8,
   "metadata": {},
   "outputs": [
    {
     "data": {
      "text/plain": [
       "7"
      ]
     },
     "execution_count": 8,
     "metadata": {},
     "output_type": "execute_result"
    }
   ],
   "source": [
    "stay_regions = estimate_stay_regions(stay_points, distance_threshold_m=20)\n",
    "len(stay_regions)"
   ]
  },
  {
   "cell_type": "code",
   "execution_count": 9,
   "metadata": {},
   "outputs": [
    {
     "data": {
      "text/plain": [
       "7"
      ]
     },
     "execution_count": 9,
     "metadata": {},
     "output_type": "execute_result"
    }
   ],
   "source": [
    "old_stay_regions = estimate_stay_regions(stay_points, distance_threshold_m=20, accuracy_aware=False)\n",
    "len(old_stay_regions)"
   ]
  },
  {
   "cell_type": "markdown",
   "metadata": {},
   "source": [
    "From the 303 stay points, we have extracted 7 regions"
   ]
  },
  {
   "cell_type": "markdown",
   "metadata": {},
   "source": [
    "The user had to fill \"survey\" about what they drinked. So we can select the data for the our selected user"
   ]
  },
  {
   "cell_type": "markdown",
   "metadata": {},
   "source": [
    "Depending of your needs, you can add logic and rules when extracing the relevant data"
   ]
  },
  {
   "cell_type": "code",
   "execution_count": 15,
   "metadata": {},
   "outputs": [],
   "source": [
    "import json\n",
    "drink_places = []\n",
    "with open('/idiap/home/wdroz/Downloads/drinkplace_senmantic.json', 'r') as f:\n",
    "    lines = f.read().split('\\n')\n",
    "    for line in lines:\n",
    "        try:\n",
    "            drink_places.append(json.loads(line))\n",
    "        except:\n",
    "            pass"
   ]
  },
  {
   "cell_type": "code",
   "execution_count": 16,
   "metadata": {},
   "outputs": [],
   "source": [
    "drink_places = [d for d in drink_places if d['user'] == user]"
   ]
  },
  {
   "cell_type": "code",
   "execution_count": 23,
   "metadata": {},
   "outputs": [
    {
     "name": "stdout",
     "output_type": "stream",
     "text": [
      "2014-09-27 21:12:46\n",
      "2014-09-27 23:00:40\n",
      "2014-09-28 02:25:06\n",
      "2014-10-04 00:10:29\n",
      "2014-10-03 20:05:08\n",
      "2014-10-04 21:25:25\n",
      "2014-10-05 02:38:50\n",
      "2014-10-10 20:16:44\n",
      "2014-10-10 23:16:01\n",
      "2014-10-11 21:03:41\n",
      "2014-10-11 23:55:27\n",
      "2014-10-17 20:21:58\n",
      "2014-10-18 02:16:32\n",
      "2014-10-18 20:53:33\n",
      "\n",
      "2014-10-25 03:58:21\n",
      "2014-10-25 20:55:26\n",
      "2014-10-25 21:24:54\n",
      "2014-10-25 21:45:49\n",
      "2014-10-25 22:32:12\n",
      "\n",
      "2014-10-26 02:26:24\n",
      "2014-10-31 20:44:48\n",
      "2014-11-01 20:50:25\n",
      "2014-11-01 23:11:47\n",
      "2014-11-02 02:59:20\n",
      "2014-11-07 20:55:12\n",
      "2014-11-08 20:46:15\n",
      "2014-11-08 21:17:44\n"
     ]
    }
   ],
   "source": [
    "for d in drink_places:\n",
    "    print(d['video_timestamp'])"
   ]
  },
  {
   "cell_type": "code",
   "execution_count": 24,
   "metadata": {},
   "outputs": [
    {
     "data": {
      "text/plain": [
       "{<wenet_models.LabelledStayRegion at 0x7f1098649898>,\n",
       " <wenet_models.LabelledStayRegion at 0x7f1098649a58>,\n",
       " <wenet_models.LabelledStayRegion at 0x7f1098649d68>,\n",
       " <wenet_models.LabelledStayRegion at 0x7f1098649be0>}"
      ]
     },
     "execution_count": 24,
     "metadata": {},
     "output_type": "execute_result"
    }
   ],
   "source": [
    "user_places = []\n",
    "PLACES = dict()\n",
    "PLACES[1] = 'Bar'\n",
    "PLACES[2] = 'Club'\n",
    "PLACES[3] = 'Restaurant'\n",
    "PLACES[4] = 'Private'\n",
    "PLACES[5] = 'School/Uni'\n",
    "PLACES[6] = 'Street/Urban'\n",
    "PLACES[7] = 'Indoor Recreational'\n",
    "PLACES[8] = 'Events'\n",
    "PLACES[9] = 'Culture'\n",
    "PLACES[10] = 'Traveling'\n",
    "PLACES[11] = 'Other'\n",
    "PLACES[12] = 'Unknown'\n",
    "PLACES[13] = 'Outdoor/Park'\n",
    "for drink_place in drink_places:\n",
    "    try:\n",
    "        pts_t = datetime.strptime(drink_place['video_timestamp'], \"%Y-%m-%d %H:%M:%S\")\n",
    "        place = PLACES[drink_place['ptype_rec']]\n",
    "        user_place_time_only = UserPlaceTimeOnly(pts_t, place, user)\n",
    "        user_place = user_place_time_only.to_user_place_from_stay_points(stay_points, max_delta_time_ms=1000*60*3)\n",
    "        if user_place is not None:\n",
    "            user_places.append(user_place)\n",
    "    except:\n",
    "        continue\n",
    "labelled_stay_regions = labelize_stay_region(stay_regions, user_places)\n",
    "stay_regions_set = set(stay_regions) - labelled_stay_regions\n",
    "labelled_stay_regions"
   ]
  },
  {
   "cell_type": "code",
   "execution_count": 25,
   "metadata": {},
   "outputs": [
    {
     "name": "stdout",
     "output_type": "stream",
     "text": [
      "46.53486, 6.53813 [2014-09-27 21:12:46]\n",
      "46.47458, 6.42432 [2014-10-17 20:21:58]\n",
      "46.52997, 6.56387 [2014-10-25 20:55:26]\n",
      "46.52039, 6.63015 [2014-10-25 22:32:12]\n"
     ]
    }
   ],
   "source": [
    "for user_place in user_places:\n",
    "    print(user_place)"
   ]
  },
  {
   "cell_type": "markdown",
   "metadata": {},
   "source": [
    "We need to prepare our data in the expected format from gmaps module"
   ]
  },
  {
   "cell_type": "code",
   "execution_count": 26,
   "metadata": {},
   "outputs": [
    {
     "data": {
      "text/plain": [
       "[[41.4161011157307, 2.1319896648474193],\n",
       " [46.5290947959957, 6.5664955046249585],\n",
       " [41.415259622482694, 2.131734805555073]]"
      ]
     },
     "execution_count": 26,
     "metadata": {},
     "output_type": "execute_result"
    }
   ],
   "source": [
    "all_stay_regions_center = [[s._lat, s._lng] for s in stay_regions_set]\n",
    "all_stay_regions_center"
   ]
  },
  {
   "cell_type": "code",
   "execution_count": 27,
   "metadata": {},
   "outputs": [
    {
     "data": {
      "text/plain": [
       "[[46.47467576797251, 6.424412376108274],\n",
       " [46.53489243668288, 6.538105543136973],\n",
       " [46.52050499938503, 6.6301146789473036],\n",
       " [46.53011505511413, 6.563756780453434]]"
      ]
     },
     "execution_count": 27,
     "metadata": {},
     "output_type": "execute_result"
    }
   ],
   "source": [
    "all_labelled_stay_regions_center = [[s._lat, s._lng] for s in labelled_stay_regions]\n",
    "all_labelled_stay_regions_center"
   ]
  },
  {
   "cell_type": "code",
   "execution_count": 28,
   "metadata": {},
   "outputs": [
    {
     "data": {
      "text/plain": [
       "['Restaurant', 'Private', 'Bar', 'Private']"
      ]
     },
     "execution_count": 28,
     "metadata": {},
     "output_type": "execute_result"
    }
   ],
   "source": [
    "all_labelled_stay_regions_label = [s._label for s in labelled_stay_regions]\n",
    "all_labelled_stay_regions_label"
   ]
  },
  {
   "cell_type": "code",
   "execution_count": 29,
   "metadata": {},
   "outputs": [],
   "source": [
    "all_stay_regions_rect = [gmaps.Polygon([(s._topleft_lat, s._topleft_lng), (s._topleft_lat, s._bottomright_lng), (s._bottomright_lat, s._bottomright_lng), (s._bottomright_lat, s._topleft_lng)], fill_color='#FF8C00', stroke_color='#FF4500', stroke_weight=6) for s in stay_regions_set]"
   ]
  },
  {
   "cell_type": "code",
   "execution_count": 30,
   "metadata": {},
   "outputs": [],
   "source": [
    "all_old_stay_regions_rect = [gmaps.Polygon([(s._topleft_lat, s._topleft_lng), (s._topleft_lat, s._bottomright_lng), (s._bottomright_lat, s._bottomright_lng), (s._bottomright_lat, s._topleft_lng)], fill_color='#000000', stroke_color='#000000', stroke_weight=6) for s in old_stay_regions]"
   ]
  },
  {
   "cell_type": "code",
   "execution_count": 31,
   "metadata": {},
   "outputs": [],
   "source": [
    "all_labelled_stay_regions_rect = [gmaps.Polygon([(s._topleft_lat, s._topleft_lng), (s._topleft_lat, s._bottomright_lng), (s._bottomright_lat, s._bottomright_lng), (s._bottomright_lat, s._topleft_lng)], fill_color='#FF8CF0', stroke_color='#FF45F0', stroke_weight=6) for s in labelled_stay_regions]"
   ]
  },
  {
   "cell_type": "markdown",
   "metadata": {},
   "source": [
    "Don't write your keys/password directly in your notebooks. Use external file and put correct ACL on them (600). Be careful to not commit them.\n",
    "\n",
    "BTW, you can see on github a lot of unexperimented people pushing google api keys in theirs public repositories by searching \"google api key\" in the latest commit... [here](https://github.com/search?o=desc&q=google+api+key&s=committer-date&type=Commits) be careful, a lot of hackers scan these kind of credentials on github."
   ]
  },
  {
   "cell_type": "code",
   "execution_count": 32,
   "metadata": {},
   "outputs": [],
   "source": [
    "with open('google_api_key.txt', 'r') as f:\n",
    "    key = f.read()\n",
    "gmaps.configure(api_key=key)"
   ]
  },
  {
   "cell_type": "code",
   "execution_count": 33,
   "metadata": {},
   "outputs": [
    {
     "data": {
      "application/vnd.jupyter.widget-view+json": {
       "model_id": "2fd15f53f48c4eb795bebbe7f69ab054",
       "version_major": 2,
       "version_minor": 0
      },
      "text/plain": [
       "Figure(layout=FigureLayout(height='420px'))"
      ]
     },
     "metadata": {},
     "output_type": "display_data"
    }
   ],
   "source": [
    "raw_locations_df = df[['latitude', 'longitude']]\n",
    "all_stay_regions_center_layer = gmaps.marker_layer(all_stay_regions_center)\n",
    "all_labelled_stay_regions_center_layer = gmaps.marker_layer(all_labelled_stay_regions_center, label=all_labelled_stay_regions_label)\n",
    "all_stay_regions_rect_layer = gmaps.drawing_layer(features=all_stay_regions_rect)\n",
    "all_old_stay_regions_rect_layer = gmaps.drawing_layer(features=all_old_stay_regions_rect)\n",
    "\n",
    "all_labelled_stay_regions_rect_layer = gmaps.drawing_layer(features=all_labelled_stay_regions_rect)\n",
    "stay_points_layer = gmaps.symbol_layer([[p._lat, p._lng] for p in stay_points], fill_color='#00FFFF', stroke_color='#00FFFF', scale=2)\n",
    "place_points_layer = gmaps.symbol_layer([[p._lat, p._lng] for p in user_places], fill_color='#0000FF', stroke_color='#0000FF', scale=4)\n",
    "\n",
    "locations_layer = gmaps.heatmap_layer(raw_locations_df)\n",
    "fig = gmaps.figure()\n",
    "fig.add_layer(stay_points_layer)\n",
    "fig.add_layer(all_stay_regions_center_layer)\n",
    "fig.add_layer(all_labelled_stay_regions_center_layer)\n",
    "fig.add_layer(place_points_layer)\n",
    "fig.add_layer(all_stay_regions_rect_layer)\n",
    "fig.add_layer(all_old_stay_regions_rect_layer)\n",
    "fig.add_layer(all_labelled_stay_regions_rect_layer)\n",
    "fig.add_layer(locations_layer)\n",
    "\n",
    "locations_layer.max_intensity = 100\n",
    "locations_layer.point_radius = 10\n",
    "fig.map_type = 'SATELLITE'\n",
    "fig"
   ]
  },
  {
   "cell_type": "code",
   "execution_count": null,
   "metadata": {},
   "outputs": [],
   "source": []
  },
  {
   "cell_type": "code",
   "execution_count": null,
   "metadata": {},
   "outputs": [],
   "source": []
  }
 ],
 "metadata": {
  "kernelspec": {
   "display_name": "Python 3",
   "language": "python",
   "name": "python3"
  },
  "language_info": {
   "codemirror_mode": {
    "name": "ipython",
    "version": 3
   },
   "file_extension": ".py",
   "mimetype": "text/x-python",
   "name": "python",
   "nbconvert_exporter": "python",
   "pygments_lexer": "ipython3",
   "version": "3.7.2"
  }
 },
 "nbformat": 4,
 "nbformat_minor": 2
}
